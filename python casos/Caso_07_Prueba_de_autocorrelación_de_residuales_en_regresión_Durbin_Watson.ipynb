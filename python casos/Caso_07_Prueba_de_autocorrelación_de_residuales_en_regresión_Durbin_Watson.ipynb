{
  "nbformat": 4,
  "nbformat_minor": 0,
  "metadata": {
    "colab": {
      "provenance": [],
      "authorship_tag": "ABX9TyPE9JOmTyvqBYXF/j2HaK3m",
      "include_colab_link": true
    },
    "kernelspec": {
      "name": "python3",
      "display_name": "Python 3"
    },
    "language_info": {
      "name": "python"
    }
  },
  "cells": [
    {
      "cell_type": "markdown",
      "metadata": {
        "id": "view-in-github",
        "colab_type": "text"
      },
      "source": [
        "<a href=\"https://colab.research.google.com/github/rpizarrog/simulacion/blob/main/python%20casos/Caso_07_Prueba_de_autocorrelaci%C3%B3n_de_residuales_en_regresi%C3%B3n_Durbin_Watson.ipynb\" target=\"_parent\"><img src=\"https://colab.research.google.com/assets/colab-badge.svg\" alt=\"Open In Colab\"/></a>"
      ]
    },
    {
      "cell_type": "markdown",
      "source": [
        "# Objetivo\n",
        "\n",
        "Calcular y contrastar prueba de autocorrelación de *Durbin Watson* para aceptar o rechazar hipóteis nula."
      ],
      "metadata": {
        "id": "jF3BvJc8Iuyx"
      }
    },
    {
      "cell_type": "markdown",
      "source": [
        "# Marco teórico\n",
        "\n",
        "La prueba de autocorrelación es una prueba estadística de independidenca que sirve para determinar la correlación entre los residuos de un modelo de regresión lineal.\n",
        "\n",
        "Si los residuos están correlacionados, se originan problemas cuando se intenta realizar alguna prueba de hipótesis respecto de los coeficientes de regresión.\n",
        "\n",
        "Se esperaría de manera natural que los residuos no estén correlacionados, esto da lugar a la hipótesis nula y por el contrario los residuos si están correalcionados sería la hipótesis alternativa.\n",
        "\n",
        "$$\n",
        "H_0: \\text{ Los residuos NO están correlacionados}\n",
        "$$\n",
        "\n",
        "$$\n",
        "H_a: \\text{ Los residuos SI están correlacionados}\n",
        "$$\n",
        "\n",
        "Para comenzar, es necesario disponer de un un conjunto de datos, por lo menos de dos variables numéricas en donde una se designa como variable independiente o explicativa y la otra variabe dependiente o variable objetivo.\n",
        "\n",
        "Un diagrama de dispersión representa la relación visual entre dos variables numéricas.\n",
        "\n",
        "La correlación $r$ tradicionalmente de *Pearson* representa la fuerza de relación entre las dos variables numéricas,con valores $\\text{ de -1 a +1 } $.\n",
        "\n",
        "Se puede hacer un análisis bivariado entre estas dos variables y buscar construir un modelo de regresión lineal simple para realiar predicciones.\n",
        "\n",
        "La pregunta es: ¿del modelo de regresión lineal simple los residuos están correlacionados?\n",
        "\n",
        "El modelo de rergesión lineal simple se utiliza comúnmente utilizando la fórmula de mínimos cuadrados.\n",
        "\n",
        "Un modelo de regresión lineal simple bajo la fórmula de mínimos cuadradao sirve para hacer predicciones de una variable dependiente en relación a una variable independiente o explicativa.\n",
        "\n",
        "Para el ejemplo que describe más abajo del caso, la variable dependiente o variable objetivo será *ventas*, y la variable independientes será *publicidad*.\n",
        "\n",
        "La fórmula de mínimos cuadrados para regresión lineal simple:\n",
        "\n",
        "$$\n",
        "Y=a+bx+E∴\n",
        "$$\n",
        "\n",
        "* Y es la predicción de la variabe dependiente (ventas)\n",
        "* a es el coeficiente de intersección entre el eje de la abcisa 'y' el valor de x\n",
        "* b es el valor de la pendiente\n",
        "* x el nuevo valor de la variable independiente (publicidad) que sirve para predecir la variable dependiente (ventas)\n",
        "* E = error\n",
        "\n",
        "\n",
        "Del modelo de regresión lineal, se obtiene la linea de tendencia o linea de predicción que significa las predicciones lineales por cada valor de la variable dependiente 'x'. $Y=a+b\\cdot x$.\n",
        "\n",
        "Ahora de esa línea de tendencia se puede calcular los residuos que es la difrencia entre el valor real de las ventas de las  las observaciones origiales menos las predicciones.\n",
        "\n",
        "Con estos valores de residuos se puede hacer la prueba de independencia de autocorrelación de residuos bajo el nombre técnico de *Durbin Watson*.\n",
        "\n",
        "Fórmula para determinar el estadítico d *Durbin-Watson*\n",
        "\n",
        "$$\n",
        "d ={\\frac{\\displaystyle\\sum_{t=2}^{n}(e_{t}-e_{t-1})^2}{\\displaystyle\\sum_{t=1}^{n}(e_{t})^2}}\n",
        "$$\n",
        "\n",
        "* $t$ representa el índice de las observaciones desde 1 hasta n.\n",
        "* $n$ es la cantidad de observaciones de los datos.\n",
        "* $e_{t}$ son los valores de los residuos del modelo de regresión lineal; la diferencia entre valores reales y valores predichos. $e_t = (y - Y)$\n",
        "* $e_{t-1}$ representa el valor anterior $e_t$ del registro $t$.\n",
        "* $(e_{t})^2$, como denomnador es elevar al cuadrado el valor de $e_{t}$.\n",
        "\n"
      ],
      "metadata": {
        "id": "_OwYiRiVQGda"
      }
    },
    {
      "cell_type": "markdown",
      "source": [
        "# Desarrollo\n",
        "\n",
        "## Cargar librerías"
      ],
      "metadata": {
        "id": "F1ZfzxlAeli2"
      }
    },
    {
      "cell_type": "code",
      "source": [
        "# Cargar librerías\n",
        "import statsmodels.api as sm\n",
        "import numpy as np\n",
        "import pandas as pd\n",
        "from scipy import stats\n",
        "\n",
        "import matplotlib.pyplot as plt\n",
        "# from scipy.stats import linregress\n",
        "\n",
        "from sklearn import linear_model\n",
        "from sklearn.linear_model import LinearRegression\n",
        "\n",
        "from statsmodels.stats.stattools import durbin_watson\n"
      ],
      "metadata": {
        "id": "fzj2fkkSejTE"
      },
      "execution_count": null,
      "outputs": []
    },
    {
      "cell_type": "markdown",
      "source": [
        "## Ejemplo publicidad y ventas\n",
        "\n",
        "¿La publicidad tiene que ver con las ventas?.\n",
        "\n",
        "La publicidad como parte de la función mercadotecnia estratégicamente bien conducida y diriga al mercado apropiado es un factor que hace que las ventas tengan buena probabilidad de aumentar para una empresa.\n",
        "\n",
        "\n",
        "### Construir los datos\n",
        "* La variable dependiente es ventas.\n",
        "* La variable independientes es publicidad.\n",
        "* Las ventas es la cantidad monetaria que hace una empresa en términos de ventas; valores en miles de dólares.\n",
        "* La publicidad es la cantidad económica que invierte la empresa para generar ventas; valores en miles de dólares."
      ],
      "metadata": {
        "id": "ODEaASvOaOQG"
      }
    },
    {
      "cell_type": "code",
      "source": [
        "publicidad = [55, 55, 53, 55, 54, 53, 55, 57, 59, 62,\n",
        "              63, 59, 61, 62, 62, 65, 67, 69, 65, 64]\n",
        "ventas = [153, 156, 153, 147, 159, 160, 147, 147, 152, 160,\n",
        "          169, 176, 176, 179, 184, 181, 192, 205, 215, 209]\n",
        "print(ventas)\n",
        "datos = pd.DataFrame({'publicidad': publicidad, 'ventas': ventas})\n",
        "datos"
      ],
      "metadata": {
        "colab": {
          "base_uri": "https://localhost:8080/",
          "height": 694
        },
        "id": "vx5lbpYzeTO2",
        "outputId": "86700c0c-c53e-4305-ba09-58d5845d860a"
      },
      "execution_count": null,
      "outputs": [
        {
          "output_type": "stream",
          "name": "stdout",
          "text": [
            "[153, 156, 153, 147, 159, 160, 147, 147, 152, 160, 169, 176, 176, 179, 184, 181, 192, 205, 215, 209]\n"
          ]
        },
        {
          "output_type": "execute_result",
          "data": {
            "text/plain": [
              "    publicidad  ventas\n",
              "0           55     153\n",
              "1           55     156\n",
              "2           53     153\n",
              "3           55     147\n",
              "4           54     159\n",
              "5           53     160\n",
              "6           55     147\n",
              "7           57     147\n",
              "8           59     152\n",
              "9           62     160\n",
              "10          63     169\n",
              "11          59     176\n",
              "12          61     176\n",
              "13          62     179\n",
              "14          62     184\n",
              "15          65     181\n",
              "16          67     192\n",
              "17          69     205\n",
              "18          65     215\n",
              "19          64     209"
            ],
            "text/html": [
              "\n",
              "  <div id=\"df-59d16655-9ea6-4c58-9c4a-705991fe0a65\" class=\"colab-df-container\">\n",
              "    <div>\n",
              "<style scoped>\n",
              "    .dataframe tbody tr th:only-of-type {\n",
              "        vertical-align: middle;\n",
              "    }\n",
              "\n",
              "    .dataframe tbody tr th {\n",
              "        vertical-align: top;\n",
              "    }\n",
              "\n",
              "    .dataframe thead th {\n",
              "        text-align: right;\n",
              "    }\n",
              "</style>\n",
              "<table border=\"1\" class=\"dataframe\">\n",
              "  <thead>\n",
              "    <tr style=\"text-align: right;\">\n",
              "      <th></th>\n",
              "      <th>publicidad</th>\n",
              "      <th>ventas</th>\n",
              "    </tr>\n",
              "  </thead>\n",
              "  <tbody>\n",
              "    <tr>\n",
              "      <th>0</th>\n",
              "      <td>55</td>\n",
              "      <td>153</td>\n",
              "    </tr>\n",
              "    <tr>\n",
              "      <th>1</th>\n",
              "      <td>55</td>\n",
              "      <td>156</td>\n",
              "    </tr>\n",
              "    <tr>\n",
              "      <th>2</th>\n",
              "      <td>53</td>\n",
              "      <td>153</td>\n",
              "    </tr>\n",
              "    <tr>\n",
              "      <th>3</th>\n",
              "      <td>55</td>\n",
              "      <td>147</td>\n",
              "    </tr>\n",
              "    <tr>\n",
              "      <th>4</th>\n",
              "      <td>54</td>\n",
              "      <td>159</td>\n",
              "    </tr>\n",
              "    <tr>\n",
              "      <th>5</th>\n",
              "      <td>53</td>\n",
              "      <td>160</td>\n",
              "    </tr>\n",
              "    <tr>\n",
              "      <th>6</th>\n",
              "      <td>55</td>\n",
              "      <td>147</td>\n",
              "    </tr>\n",
              "    <tr>\n",
              "      <th>7</th>\n",
              "      <td>57</td>\n",
              "      <td>147</td>\n",
              "    </tr>\n",
              "    <tr>\n",
              "      <th>8</th>\n",
              "      <td>59</td>\n",
              "      <td>152</td>\n",
              "    </tr>\n",
              "    <tr>\n",
              "      <th>9</th>\n",
              "      <td>62</td>\n",
              "      <td>160</td>\n",
              "    </tr>\n",
              "    <tr>\n",
              "      <th>10</th>\n",
              "      <td>63</td>\n",
              "      <td>169</td>\n",
              "    </tr>\n",
              "    <tr>\n",
              "      <th>11</th>\n",
              "      <td>59</td>\n",
              "      <td>176</td>\n",
              "    </tr>\n",
              "    <tr>\n",
              "      <th>12</th>\n",
              "      <td>61</td>\n",
              "      <td>176</td>\n",
              "    </tr>\n",
              "    <tr>\n",
              "      <th>13</th>\n",
              "      <td>62</td>\n",
              "      <td>179</td>\n",
              "    </tr>\n",
              "    <tr>\n",
              "      <th>14</th>\n",
              "      <td>62</td>\n",
              "      <td>184</td>\n",
              "    </tr>\n",
              "    <tr>\n",
              "      <th>15</th>\n",
              "      <td>65</td>\n",
              "      <td>181</td>\n",
              "    </tr>\n",
              "    <tr>\n",
              "      <th>16</th>\n",
              "      <td>67</td>\n",
              "      <td>192</td>\n",
              "    </tr>\n",
              "    <tr>\n",
              "      <th>17</th>\n",
              "      <td>69</td>\n",
              "      <td>205</td>\n",
              "    </tr>\n",
              "    <tr>\n",
              "      <th>18</th>\n",
              "      <td>65</td>\n",
              "      <td>215</td>\n",
              "    </tr>\n",
              "    <tr>\n",
              "      <th>19</th>\n",
              "      <td>64</td>\n",
              "      <td>209</td>\n",
              "    </tr>\n",
              "  </tbody>\n",
              "</table>\n",
              "</div>\n",
              "    <div class=\"colab-df-buttons\">\n",
              "\n",
              "  <div class=\"colab-df-container\">\n",
              "    <button class=\"colab-df-convert\" onclick=\"convertToInteractive('df-59d16655-9ea6-4c58-9c4a-705991fe0a65')\"\n",
              "            title=\"Convert this dataframe to an interactive table.\"\n",
              "            style=\"display:none;\">\n",
              "\n",
              "  <svg xmlns=\"http://www.w3.org/2000/svg\" height=\"24px\" viewBox=\"0 -960 960 960\">\n",
              "    <path d=\"M120-120v-720h720v720H120Zm60-500h600v-160H180v160Zm220 220h160v-160H400v160Zm0 220h160v-160H400v160ZM180-400h160v-160H180v160Zm440 0h160v-160H620v160ZM180-180h160v-160H180v160Zm440 0h160v-160H620v160Z\"/>\n",
              "  </svg>\n",
              "    </button>\n",
              "\n",
              "  <style>\n",
              "    .colab-df-container {\n",
              "      display:flex;\n",
              "      gap: 12px;\n",
              "    }\n",
              "\n",
              "    .colab-df-convert {\n",
              "      background-color: #E8F0FE;\n",
              "      border: none;\n",
              "      border-radius: 50%;\n",
              "      cursor: pointer;\n",
              "      display: none;\n",
              "      fill: #1967D2;\n",
              "      height: 32px;\n",
              "      padding: 0 0 0 0;\n",
              "      width: 32px;\n",
              "    }\n",
              "\n",
              "    .colab-df-convert:hover {\n",
              "      background-color: #E2EBFA;\n",
              "      box-shadow: 0px 1px 2px rgba(60, 64, 67, 0.3), 0px 1px 3px 1px rgba(60, 64, 67, 0.15);\n",
              "      fill: #174EA6;\n",
              "    }\n",
              "\n",
              "    .colab-df-buttons div {\n",
              "      margin-bottom: 4px;\n",
              "    }\n",
              "\n",
              "    [theme=dark] .colab-df-convert {\n",
              "      background-color: #3B4455;\n",
              "      fill: #D2E3FC;\n",
              "    }\n",
              "\n",
              "    [theme=dark] .colab-df-convert:hover {\n",
              "      background-color: #434B5C;\n",
              "      box-shadow: 0px 1px 3px 1px rgba(0, 0, 0, 0.15);\n",
              "      filter: drop-shadow(0px 1px 2px rgba(0, 0, 0, 0.3));\n",
              "      fill: #FFFFFF;\n",
              "    }\n",
              "  </style>\n",
              "\n",
              "    <script>\n",
              "      const buttonEl =\n",
              "        document.querySelector('#df-59d16655-9ea6-4c58-9c4a-705991fe0a65 button.colab-df-convert');\n",
              "      buttonEl.style.display =\n",
              "        google.colab.kernel.accessAllowed ? 'block' : 'none';\n",
              "\n",
              "      async function convertToInteractive(key) {\n",
              "        const element = document.querySelector('#df-59d16655-9ea6-4c58-9c4a-705991fe0a65');\n",
              "        const dataTable =\n",
              "          await google.colab.kernel.invokeFunction('convertToInteractive',\n",
              "                                                    [key], {});\n",
              "        if (!dataTable) return;\n",
              "\n",
              "        const docLinkHtml = 'Like what you see? Visit the ' +\n",
              "          '<a target=\"_blank\" href=https://colab.research.google.com/notebooks/data_table.ipynb>data table notebook</a>'\n",
              "          + ' to learn more about interactive tables.';\n",
              "        element.innerHTML = '';\n",
              "        dataTable['output_type'] = 'display_data';\n",
              "        await google.colab.output.renderOutput(dataTable, element);\n",
              "        const docLink = document.createElement('div');\n",
              "        docLink.innerHTML = docLinkHtml;\n",
              "        element.appendChild(docLink);\n",
              "      }\n",
              "    </script>\n",
              "  </div>\n",
              "\n",
              "\n",
              "<div id=\"df-c9b4fc96-4e4b-4ce4-b3e3-af093ed0c889\">\n",
              "  <button class=\"colab-df-quickchart\" onclick=\"quickchart('df-c9b4fc96-4e4b-4ce4-b3e3-af093ed0c889')\"\n",
              "            title=\"Suggest charts.\"\n",
              "            style=\"display:none;\">\n",
              "\n",
              "<svg xmlns=\"http://www.w3.org/2000/svg\" height=\"24px\"viewBox=\"0 0 24 24\"\n",
              "     width=\"24px\">\n",
              "    <g>\n",
              "        <path d=\"M19 3H5c-1.1 0-2 .9-2 2v14c0 1.1.9 2 2 2h14c1.1 0 2-.9 2-2V5c0-1.1-.9-2-2-2zM9 17H7v-7h2v7zm4 0h-2V7h2v10zm4 0h-2v-4h2v4z\"/>\n",
              "    </g>\n",
              "</svg>\n",
              "  </button>\n",
              "\n",
              "<style>\n",
              "  .colab-df-quickchart {\n",
              "      --bg-color: #E8F0FE;\n",
              "      --fill-color: #1967D2;\n",
              "      --hover-bg-color: #E2EBFA;\n",
              "      --hover-fill-color: #174EA6;\n",
              "      --disabled-fill-color: #AAA;\n",
              "      --disabled-bg-color: #DDD;\n",
              "  }\n",
              "\n",
              "  [theme=dark] .colab-df-quickchart {\n",
              "      --bg-color: #3B4455;\n",
              "      --fill-color: #D2E3FC;\n",
              "      --hover-bg-color: #434B5C;\n",
              "      --hover-fill-color: #FFFFFF;\n",
              "      --disabled-bg-color: #3B4455;\n",
              "      --disabled-fill-color: #666;\n",
              "  }\n",
              "\n",
              "  .colab-df-quickchart {\n",
              "    background-color: var(--bg-color);\n",
              "    border: none;\n",
              "    border-radius: 50%;\n",
              "    cursor: pointer;\n",
              "    display: none;\n",
              "    fill: var(--fill-color);\n",
              "    height: 32px;\n",
              "    padding: 0;\n",
              "    width: 32px;\n",
              "  }\n",
              "\n",
              "  .colab-df-quickchart:hover {\n",
              "    background-color: var(--hover-bg-color);\n",
              "    box-shadow: 0 1px 2px rgba(60, 64, 67, 0.3), 0 1px 3px 1px rgba(60, 64, 67, 0.15);\n",
              "    fill: var(--button-hover-fill-color);\n",
              "  }\n",
              "\n",
              "  .colab-df-quickchart-complete:disabled,\n",
              "  .colab-df-quickchart-complete:disabled:hover {\n",
              "    background-color: var(--disabled-bg-color);\n",
              "    fill: var(--disabled-fill-color);\n",
              "    box-shadow: none;\n",
              "  }\n",
              "\n",
              "  .colab-df-spinner {\n",
              "    border: 2px solid var(--fill-color);\n",
              "    border-color: transparent;\n",
              "    border-bottom-color: var(--fill-color);\n",
              "    animation:\n",
              "      spin 1s steps(1) infinite;\n",
              "  }\n",
              "\n",
              "  @keyframes spin {\n",
              "    0% {\n",
              "      border-color: transparent;\n",
              "      border-bottom-color: var(--fill-color);\n",
              "      border-left-color: var(--fill-color);\n",
              "    }\n",
              "    20% {\n",
              "      border-color: transparent;\n",
              "      border-left-color: var(--fill-color);\n",
              "      border-top-color: var(--fill-color);\n",
              "    }\n",
              "    30% {\n",
              "      border-color: transparent;\n",
              "      border-left-color: var(--fill-color);\n",
              "      border-top-color: var(--fill-color);\n",
              "      border-right-color: var(--fill-color);\n",
              "    }\n",
              "    40% {\n",
              "      border-color: transparent;\n",
              "      border-right-color: var(--fill-color);\n",
              "      border-top-color: var(--fill-color);\n",
              "    }\n",
              "    60% {\n",
              "      border-color: transparent;\n",
              "      border-right-color: var(--fill-color);\n",
              "    }\n",
              "    80% {\n",
              "      border-color: transparent;\n",
              "      border-right-color: var(--fill-color);\n",
              "      border-bottom-color: var(--fill-color);\n",
              "    }\n",
              "    90% {\n",
              "      border-color: transparent;\n",
              "      border-bottom-color: var(--fill-color);\n",
              "    }\n",
              "  }\n",
              "</style>\n",
              "\n",
              "  <script>\n",
              "    async function quickchart(key) {\n",
              "      const quickchartButtonEl =\n",
              "        document.querySelector('#' + key + ' button');\n",
              "      quickchartButtonEl.disabled = true;  // To prevent multiple clicks.\n",
              "      quickchartButtonEl.classList.add('colab-df-spinner');\n",
              "      try {\n",
              "        const charts = await google.colab.kernel.invokeFunction(\n",
              "            'suggestCharts', [key], {});\n",
              "      } catch (error) {\n",
              "        console.error('Error during call to suggestCharts:', error);\n",
              "      }\n",
              "      quickchartButtonEl.classList.remove('colab-df-spinner');\n",
              "      quickchartButtonEl.classList.add('colab-df-quickchart-complete');\n",
              "    }\n",
              "    (() => {\n",
              "      let quickchartButtonEl =\n",
              "        document.querySelector('#df-c9b4fc96-4e4b-4ce4-b3e3-af093ed0c889 button');\n",
              "      quickchartButtonEl.style.display =\n",
              "        google.colab.kernel.accessAllowed ? 'block' : 'none';\n",
              "    })();\n",
              "  </script>\n",
              "</div>\n",
              "    </div>\n",
              "  </div>\n"
            ]
          },
          "metadata": {},
          "execution_count": 17
        }
      ]
    },
    {
      "cell_type": "markdown",
      "source": [
        "### Diagrama de dispersión de los datos\n",
        "\n",
        "Solo se representa el diagrama de dispersión\n",
        "\n"
      ],
      "metadata": {
        "id": "w8tfNvKsiS7m"
      }
    },
    {
      "cell_type": "code",
      "source": [
        "# Crea el gráfico de dispersión con la línea de regresión\n",
        "plt.scatter(publicidad, ventas, label='Datos', color='blue')\n",
        "\n",
        "# Etiquetas y leyenda\n",
        "plt.xlabel('Variable X')\n",
        "plt.ylabel('Variable Y')\n",
        "plt.legend()\n",
        "\n",
        "# Muestra el gráfico\n",
        "plt.show()"
      ],
      "metadata": {
        "colab": {
          "base_uri": "https://localhost:8080/",
          "height": 449
        },
        "id": "HU3LTskaiXIN",
        "outputId": "d5607b5f-7d59-4a0b-c002-3edeb75dd4b5"
      },
      "execution_count": null,
      "outputs": [
        {
          "output_type": "display_data",
          "data": {
            "text/plain": [
              "<Figure size 640x480 with 1 Axes>"
            ],
            "image/png": "[encoded data removed]"
          },
          "metadata": {}
        }
      ]
    },
    {
      "cell_type": "markdown",
      "source": [
        "### La correlación de Pearson\n",
        "\n",
        "* =1 Correlación totalmente positiva.\n",
        "* +0.8 Correlación positiva fuerte.\n",
        "* +0.6 Correlación positiva moderada.\n",
        "* 0 No hay correlación entre las variables.\n",
        "* -0.6 Correlación negativa moderada.\n",
        "* -0.8 Correlación negativa fuerte\n",
        "* -1 Correlación totalmente negativa"
      ],
      "metadata": {
        "id": "zJeye_G8ipJM"
      }
    },
    {
      "cell_type": "code",
      "source": [
        "r = np.corrcoef(np.array(publicidad), np.array(ventas))\n",
        "print (\"Correlación de Pearson \\n\", r)\n",
        "print (\"Se observa una correlación positiva fuerte entre las dos variables\")"
      ],
      "metadata": {
        "colab": {
          "base_uri": "https://localhost:8080/"
        },
        "id": "o-XE8ROcis0D",
        "outputId": "24e9cc07-1433-4bc5-a545-61412cfa0e8d"
      },
      "execution_count": null,
      "outputs": [
        {
          "output_type": "stream",
          "name": "stdout",
          "text": [
            "Correlación de Pearson \n",
            " [[1.         0.82764806]\n",
            " [0.82764806 1.        ]]\n",
            "Se observa una correlación positiva fuerte entre las dos variables\n"
          ]
        }
      ]
    },
    {
      "cell_type": "code",
      "source": [
        "# o bien\n",
        "r = stats.pearsonr(publicidad, ventas)\n",
        "\n",
        "# Imprimir el coeficiente de correlación de Pearson\n",
        "print(\"Correlación de Pearson:\", r[0])\n",
        "print (\"Deben ser el mismo valor\")\n"
      ],
      "metadata": {
        "colab": {
          "base_uri": "https://localhost:8080/"
        },
        "id": "zIoQSvJdlB4I",
        "outputId": "b64e0afd-1bfa-42a9-b411-b0cb4323607b"
      },
      "execution_count": null,
      "outputs": [
        {
          "output_type": "stream",
          "name": "stdout",
          "text": [
            "Correlación de Pearson: 0.8276480622919316\n",
            "Deben ser el mismo valor\n"
          ]
        }
      ]
    },
    {
      "cell_type": "markdown",
      "source": [
        "### Contruir un modelo de regresión lineal\n",
        "\n",
        "\n"
      ],
      "metadata": {
        "id": "aV4wt_9xlwP1"
      }
    },
    {
      "cell_type": "code",
      "source": [
        "publicidad = np.array(publicidad).reshape(-1, 1)\n",
        "ventas = np.array(ventas)\n",
        "\n",
        "modelo = LinearRegression()\n",
        "modelo.fit(publicidad, ventas) # Contiene estadísticos del modelo\n",
        "\n",
        "# Valores de coeficientes a y b de la fórmua...\n",
        "a = modelo.intercept_\n",
        "b = modelo.coef_\n",
        "\n",
        "print(\"Valor de a: \", a)\n",
        "print(\"Valor de b: \", b)"
      ],
      "metadata": {
        "colab": {
          "base_uri": "https://localhost:8080/"
        },
        "id": "e-PS0lA2l1bv",
        "outputId": "c624ed0e-796d-44de-e0d4-b94ee5cf4d44"
      },
      "execution_count": null,
      "outputs": [
        {
          "output_type": "stream",
          "name": "stdout",
          "text": [
            "Valor de a:  -43.80238224147263\n",
            "Valor de b:  [3.59501895]\n"
          ]
        }
      ]
    },
    {
      "cell_type": "markdown",
      "source": [
        "Significa que la predicción estará dada por:\n",
        "$$\n",
        "Y = -43.8023 + 3.5950 \\cdot x\n",
        "$$\n",
        "\n",
        "Si $x = 50$ la predicción $Y$ sería:\n",
        "$$\n",
        "Y = -43.8023 + 3.5950 \\cdot 50 \\approx 135.94\n",
        "$$"
      ],
      "metadata": {
        "id": "Agiz9FEDmThV"
      }
    },
    {
      "cell_type": "markdown",
      "source": [
        "### Visualizar linea de tendencia del modelo\n",
        "\n",
        "La línea de tendencia son las predicciones por cada valor de la variable independiente publicidad.\n",
        "\n"
      ],
      "metadata": {
        "id": "D6w0p-VbnLGR"
      }
    },
    {
      "cell_type": "code",
      "source": [
        "# las predicciones es la linea de tendencia\n",
        "# Realizar predicciones\n",
        "predicciones = modelo.predict(publicidad)\n",
        "\n",
        "\n",
        "# Crea el gráfico de dispersión con la línea de regresión\n",
        "plt.scatter(publicidad, ventas, label='Ventas', color='blue')\n",
        "plt.plot(publicidad, predicciones, label='Línea de Regresión', color='red')\n",
        "\n",
        "# Etiquetas y leyenda\n",
        "plt.xlabel('Variable ventas')\n",
        "plt.ylabel('Variable predicciones')\n",
        "plt.legend()\n",
        "\n",
        "# Muestra el gráfico\n",
        "plt.show()\n",
        "\n",
        "# Imprime los resultados de la regresión\n",
        "print(f\"Coeficiente de la pendiente (b): {b}\")\n",
        "print(f\"Coeficiente de la intersección : {a}\")\n",
        "print(f\"Coeficiente de correlación (r): {r[0]}\")\n",
        "# print(f\"Error estándar: {std_err}\")"
      ],
      "metadata": {
        "colab": {
          "base_uri": "https://localhost:8080/",
          "height": 501
        },
        "id": "k0sMi8CinNqO",
        "outputId": "a83bd249-e3c6-4d5f-c5ce-cddfda2921b3"
      },
      "execution_count": null,
      "outputs": [
        {
          "output_type": "display_data",
          "data": {
            "text/plain": [
              "<Figure size 640x480 with 1 Axes>"
            ],
            "image/png": "[encoded data removed]"
          },
          "metadata": {}
        },
        {
          "output_type": "stream",
          "name": "stdout",
          "text": [
            "Coeficiente de la pendiente (b): [3.59501895]\n",
            "Coeficiente de la intersección : -43.80238224147263\n",
            "Coeficiente de correlación (r): 0.8276480622919316\n"
          ]
        }
      ]
    },
    {
      "cell_type": "markdown",
      "source": [
        "### Los residuos\n",
        "\n",
        "Los residuos representan la diferencia entre los valores reales menos las predicciones $residuos = ventas - predicciones$.\n",
        "\n"
      ],
      "metadata": {
        "id": "9iaAVZvuokP2"
      }
    },
    {
      "cell_type": "code",
      "source": [
        "# Calcular los residuos\n",
        "residuos = ventas - predicciones\n",
        "\n",
        "print(\"Residuos:\")\n",
        "print(residuos)"
      ],
      "metadata": {
        "colab": {
          "base_uri": "https://localhost:8080/"
        },
        "id": "_iXYZH3yozHq",
        "outputId": "e95f9426-9a6a-4d0b-aae7-d70973bccb19"
      },
      "execution_count": null,
      "outputs": [
        {
          "output_type": "stream",
          "name": "stdout",
          "text": [
            "Residuos:\n",
            "[ -0.92365999   2.07634001   6.26637791  -6.92365999   8.67135896\n",
            "  13.26637791  -6.92365999 -14.11369789 -16.30373579 -19.08879264\n",
            " -13.68381159   7.69626421   0.50622631  -0.08879264   4.91120736\n",
            "  -8.87384949  -5.06388738   0.74607472  25.12615051  22.72116946]\n"
          ]
        }
      ]
    },
    {
      "cell_type": "markdown",
      "source": [
        "A partir de estos valores de residuos se inicia la prueba de independencia de correlación de los residuos de una regresión lineal.\n",
        "\n",
        "Visualmente los residuos\n",
        "\n",
        "\n"
      ],
      "metadata": {
        "id": "BPrbSlQPo4Pm"
      }
    },
    {
      "cell_type": "code",
      "source": [
        "# Calcula el estadístico de Durbin-Watson\n",
        "d = durbin_watson(residuos)\n",
        "\n",
        "# Crea una secuencia de números para representar el tiempo (índice de datos)\n",
        "tiempo = np.arange(len(residuos))\n",
        "\n",
        "# Crea un gráfico de dispersión de los residuos\n",
        "plt.figure(figsize=(10, 6))\n",
        "plt.scatter(tiempo, residuos, label='Residuos', color='blue')\n",
        "\n",
        "# Dibuja líneas horizontales en +/- 2 para indicar los límites de autocorrelación\n",
        "# plt.axhline(y=2, color='red', linestyle='--', label='Límite superior (Autocorrelación negativa)')\n",
        "# plt.axhline(y=-2, color='green', linestyle='--', label='Límite inferior (Autocorrelación positiva)')\n",
        "\n",
        "# Añade una línea horizontal en y=0 para referencia\n",
        "plt.axhline(y=0, color='gray', linestyle='-', linewidth=1)\n",
        "\n",
        "# Etiquetas y leyenda\n",
        "plt.xlabel('Observaciones (tiempo meses)')\n",
        "plt.ylabel('Residuos')\n",
        "plt.title(f'Gráfico de Residuos - Estadístico Durbin-Watson: {d:.2f}')\n",
        "plt.legend()\n",
        "\n",
        "# Muestra el gráfico\n",
        "plt.show()\n",
        "print(\"Residuos:\")\n",
        "print(residuos)"
      ],
      "metadata": {
        "colab": {
          "base_uri": "https://localhost:8080/",
          "height": 651
        },
        "id": "i6m0CGM7pcCm",
        "outputId": "2c132ed6-3a69-4de2-92f4-fe962653622d"
      },
      "execution_count": null,
      "outputs": [
        {
          "output_type": "display_data",
          "data": {
            "text/plain": [
              "<Figure size 1000x600 with 1 Axes>"
            ],
            "image/png": "[encoded data removed]"
          },
          "metadata": {}
        },
        {
          "output_type": "stream",
          "name": "stdout",
          "text": [
            "Residuos:\n",
            "[ -0.92365999   2.07634001   6.26637791  -6.92365999   8.67135896\n",
            "  13.26637791  -6.92365999 -14.11369789 -16.30373579 -19.08879264\n",
            " -13.68381159   7.69626421   0.50622631  -0.08879264   4.91120736\n",
            "  -8.87384949  -5.06388738   0.74607472  25.12615051  22.72116946]\n"
          ]
        }
      ]
    },
    {
      "cell_type": "markdown",
      "source": [
        "### Cálculo manual del valor de prueba d *Durbin-Watson*"
      ],
      "metadata": {
        "id": "3d2YFQxHeHRq"
      }
    },
    {
      "cell_type": "code",
      "source": [
        "n = len(ventas)\n",
        "obs = list(range(1, n+1))\n",
        "\n",
        "#print(residuos)\n",
        "# Construir la columna de residuos anteriroes (t-1)\n",
        "residuos_anteriores = []\n",
        "# Iteramos a través de los residuos y construimos los residuos anteriores.\n",
        "for i in range(len(residuos)):\n",
        "  if i == 0:\n",
        "    # El primer residuo no tiene un residuo anterior.\n",
        "    residuo_anterior = None\n",
        "  else:\n",
        "    # Para los residuos subsiguientes, tomamos el residuo anterior.\n",
        "    residuo_anterior = residuos[i - 1]\n",
        "    # Agregamos el residuo anterior a la lista.\n",
        "  residuos_anteriores.append(residuo_anterior)\n",
        "\n",
        "\n",
        "# Contruir la tabla para obtener d\n",
        "tabla = pd.DataFrame({'obs': obs, 'ventas': ventas, 'pred':predicciones, 'res_e': residuos, 'res_ant_e':residuos_anteriores})\n",
        "tabla['(res-res_ant_e)_cuad'] = (tabla['res_e'] - tabla['res_ant_e']) ** 2\n",
        "tabla['res_e_cuad'] = tabla['res_e'] ** 2\n",
        "\n",
        "print(tabla)\n",
        "\n",
        "\n",
        "# El denominador de la fórmula para d\n",
        "numerador = np.sum(tabla['(res-res_ant_e)_cuad'])\n",
        "# El denominador para la fórmula para calcular\n",
        "denominador = np.sum(tabla['res_e_cuad'])\n",
        "\n",
        "d = np.round(numerador/denominador, 6)\n",
        "print(\"Dividir \", numerador, \"/\", denominador,\"=\", d)\n",
        "print(\"Debe ser un valor similar al obtenido anteriormente\")"
      ],
      "metadata": {
        "colab": {
          "base_uri": "https://localhost:8080/"
        },
        "id": "1RBZGnXReO1Q",
        "outputId": "dcbff7c0-c5c9-47a7-d292-2ed465511532"
      },
      "execution_count": null,
      "outputs": [
        {
          "output_type": "stream",
          "name": "stdout",
          "text": [
            "    obs  ventas        pred      res_e  res_ant_e  (res-res_ant_e)_cuad  \\\n",
            "0     1     153  153.923660  -0.923660        NaN                   NaN   \n",
            "1     2     156  153.923660   2.076340  -0.923660              9.000000   \n",
            "2     3     153  146.733622   6.266378   2.076340             17.556418   \n",
            "3     4     147  153.923660  -6.923660   6.266378            173.977100   \n",
            "4     5     159  150.328641   8.671359  -6.923660            243.204616   \n",
            "5     6     160  146.733622  13.266378   8.671359             21.114199   \n",
            "6     7     147  153.923660  -6.923660  13.266378            407.637630   \n",
            "7     8     147  161.113698 -14.113698  -6.923660             51.696645   \n",
            "8     9     152  168.303736 -16.303736 -14.113698              4.796266   \n",
            "9    10     160  179.088793 -19.088793 -16.303736              7.756542   \n",
            "10   11     169  182.683812 -13.683812 -19.088793             29.213820   \n",
            "11   12     176  168.303736   7.696264 -13.683812            457.107641   \n",
            "12   13     176  175.493774   0.506226   7.696264             51.696645   \n",
            "13   14     179  179.088793  -0.088793   0.506226              0.354048   \n",
            "14   15     184  179.088793   4.911207  -0.088793             25.000000   \n",
            "15   16     181  189.873849  -8.873849   4.911207            190.027792   \n",
            "16   17     192  197.063887  -5.063887  -8.873849             14.515811   \n",
            "17   18     205  204.253925   0.746075  -5.063887             33.755660   \n",
            "18   19     215  189.873849  25.126151   0.746075            594.388096   \n",
            "19   20     209  186.278831  22.721169  25.126151              5.783934   \n",
            "\n",
            "    res_e_cuad  \n",
            "0     0.853148  \n",
            "1     4.311188  \n",
            "2    39.267492  \n",
            "3    47.937068  \n",
            "4    75.192466  \n",
            "5   175.996783  \n",
            "6    47.937068  \n",
            "7   199.196468  \n",
            "8   265.811801  \n",
            "9   364.382004  \n",
            "10  187.246700  \n",
            "11   59.232483  \n",
            "12    0.256265  \n",
            "13    0.007884  \n",
            "14   24.119958  \n",
            "15   78.745205  \n",
            "16   25.642955  \n",
            "17    0.556627  \n",
            "18  631.323440  \n",
            "19  516.251542  \n",
            "Dividir  2338.5828623891166 / 2744.2685435841895 = 0.85217\n",
            "Debe ser un valor similar al obtenido anteriormente\n"
          ]
        }
      ]
    },
    {
      "cell_type": "markdown",
      "source": [
        "### Significado del estadístico de prueba 'd' de *Durbin-Watson*\n",
        "\n",
        "* ¿Qué significa el valor del estadístico de prueba $d = 0.085$  *Durbin-Watson* y,\n",
        "\n",
        "* ¿cómo se utiliza para contraste?\n",
        "\n",
        "* ¿contra qué se contrasta para aceptar o rechazar una hipótesis nula?\n",
        "\n",
        "* Definir hipótesis nula $H_0$ e hipótesis alternativa $H_a$:\n",
        "\n",
        "$$\n",
        "H_0: \\text{ Los residuos NO están correlacionados}\n",
        "$$\n",
        "\n",
        "$$\n",
        "H_a: \\text{ Los residuos SI están correlacionados}\n",
        "$$\n",
        "\n",
        "* Definir nivel de confianza y valor de alfa:\n",
        "$$\n",
        "confianza = 0.95;\n",
        "alfa = (1 - confianza) = 0.05\n",
        "$$\n",
        "\n",
        "* Criterio para contraste:\n",
        "\n",
        "Consultando tabla para determinar los límites críticos para ontrastar una prueba d de Derbin Watson se necesita:\n",
        "* valor de n=20 número de observaciones.\n",
        "* valor k = 1; k es una variable independiene o explicativa, en este ejercicio 'publicidad'.\n",
        "* Valor del alfa a 0.05 comúnmente\n",
        "\n",
        "Entonces se obtiene unos límites\n",
        "* di = 1.20; límite inferior\n",
        "* ds = 1.41; límite superior\n",
        "\n",
        "¿Cómo hay que contrastar d con estos límites?\n",
        "\n",
        "$$\n",
        "si (d < di): \\text{rechazar Ho}\n",
        "$$\n",
        "\n",
        "$$\n",
        "si (di < d < ds): \\text{zona de indiferencia; dudoso}\n",
        "$$\n",
        "\n",
        "$$\n",
        "si (d > ds): \\text{aceptar Ho}\n",
        "$$\n",
        "\n",
        "Enlace para tabla *Durbin-Watson*: chrome-extension://efaidnbmnnnibpcajpcglclefindmkaj/https://www.ugr.es/~romansg/material/WebEco/01-comunes/dw.pdf\n",
        "\n",
        "\n"
      ],
      "metadata": {
        "id": "SUGzoipvrLG_"
      }
    },
    {
      "cell_type": "code",
      "source": [
        "# Valores obtenidos de tabla al 0.05 alfa; n=20 y k = 1\n",
        "di = 1.20\n",
        "ds = 1.41\n",
        "\n",
        "# Hipótesis\n",
        "H0 = \"No hay correlación entre los residuos\"\n",
        "Ha = \"Si hay correlación entre los residuos\"\n",
        "\n",
        "if (d < di):\n",
        "  decision = \"se rechaza Ho; \" + Ha\n",
        "elif (di <= d and d <= ds):  # Corregir esta condición\n",
        "  decision = \"zona de indiferencia; dudoso\"\n",
        "elif (d > ds):\n",
        "  decision = \"se acepta H0; \" + H0\n",
        "\n",
        "print(decision)"
      ],
      "metadata": {
        "colab": {
          "base_uri": "https://localhost:8080/"
        },
        "id": "8skkh0PIpZWF",
        "outputId": "e6aaf181-3587-41bc-ec4b-7b55b6d3358d"
      },
      "execution_count": null,
      "outputs": [
        {
          "output_type": "stream",
          "name": "stdout",
          "text": [
            "se rechaza Ho; Si hay correlación entre los residuos\n"
          ]
        }
      ]
    },
    {
      "cell_type": "markdown",
      "source": [],
      "metadata": {
        "id": "zWMvCNRnUU1U"
      }
    },
    {
      "cell_type": "markdown",
      "source": [
        "# Interpretación\n",
        "\n",
        "Un valor estadístico \"d\" en una prueba de Durbin-Watson se utiliza para evaluar la autocorrelación de los residuos en un modelo de regresión.\n",
        "\n",
        "En una prueba de Durbin-Watson, el valor \"d\" se compara con valores críticos para determinar si los residuos muestran autocorrelación positiva, negativa o si no hay autocorrelación.\n",
        "\n",
        "Si el valor \"d\" es cercano a 2 (generalmente en el rango de 1.5 a 2.5), esto sugiere que no hay evidencia de autocorrelación. En otras palabras, los residuos no muestran un patrón sistemático de correlación.\n",
        "\n",
        "Si el valor \"d\" es significativamente menor que 2 (por ejemplo, 1.20), esto sugiere que hay autocorrelación positiva en los residuos. Los residuos adyacentes están correlacionados positivamente.\n",
        "\n",
        "Si el valor \"d\" es significativamente mayor que 2 (por ejemplo, 2.80), esto sugiere que hay autocorrelación negativa en los residuos. Los residuos adyacentes están correlacionados negativamente.\n",
        "\n",
        "Para el caso, con un valor \"d\" de 0.85, se sugiere que hay autocorrelación positiva en los residuos. Esto significa que los residuos adyacentes están correlacionados positivamente, lo que podría indicar que el modelo de regresión no captura completamente la estructura de los datos o que hay información sistemática que no se ha tenido en cuenta.\n",
        "\n",
        "En este escenario, se rechaza la hipótesis nula (Ho) de que no hay autocorrelación en los residuos.\n",
        "\n"
      ],
      "metadata": {
        "id": "HJJiic0KC_tw"
      }
    }
  ]
}