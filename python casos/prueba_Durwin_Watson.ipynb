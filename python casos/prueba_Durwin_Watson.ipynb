{
  "nbformat": 4,
  "nbformat_minor": 0,
  "metadata": {
    "colab": {
      "provenance": [],
      "authorship_tag": "ABX9TyO0MXjbIFcsUaWLqEfLz6wR",
      "include_colab_link": true
    },
    "kernelspec": {
      "name": "python3",
      "display_name": "Python 3"
    },
    "language_info": {
      "name": "python"
    }
  },
  "cells": [
    {
      "cell_type": "markdown",
      "metadata": {
        "id": "view-in-github",
        "colab_type": "text"
      },
      "source": [
        "<a href=\"https://colab.research.google.com/github/rpizarrog/simulacion/blob/main/python%20casos/prueba_Durwin_Watson.ipynb\" target=\"_parent\"><img src=\"https://colab.research.google.com/assets/colab-badge.svg\" alt=\"Open In Colab\"/></a>"
      ]
    },
    {
      "cell_type": "markdown",
      "source": [
        "# Librerías\n"
      ],
      "metadata": {
        "id": "zyONCIttJCA1"
      }
    },
    {
      "cell_type": "code",
      "execution_count": 14,
      "metadata": {
        "id": "xbGqHfoZGNCv"
      },
      "outputs": [],
      "source": [
        "import random\n",
        "import statsmodels.api as sm\n",
        "import numpy as np\n",
        "\n"
      ]
    },
    {
      "cell_type": "markdown",
      "source": [
        "# Crear residuos\n"
      ],
      "metadata": {
        "id": "OSa5VTLbJGIE"
      }
    },
    {
      "cell_type": "code",
      "source": [
        "residuos = [random.uniform(-5.0, 5.0) for _ in range(30)]\n",
        "\n",
        "print(residuos)"
      ],
      "metadata": {
        "colab": {
          "base_uri": "https://localhost:8080/"
        },
        "id": "CxwzMkAvJJe8",
        "outputId": "b0cdf25f-e7cb-4c6e-c6ca-19889ace8edb"
      },
      "execution_count": 15,
      "outputs": [
        {
          "output_type": "stream",
          "name": "stdout",
          "text": [
            "[0.03852156453303035, -2.9761842082317647, 2.4527018953106863, 4.532976080136647, -0.004299014295238379, 3.176534148154243, 4.2260428471208495, -3.3670355719208844, 3.44968421412095, -2.2252044236477433, 2.876613559912805, 0.38008573759845543, 3.4394371713274055, -1.2560120513822302, 1.0184885679189595, -1.4648717827504933, -2.464008348729351, 4.45186312403599, 0.3003592583750425, -4.831576427111864, -4.045992818093564, -3.6261978848122522, -4.617561071573134, -3.1960199958479976, -2.0157705095169387, 0.8244303632492498, 3.3302576705574793, 0.7595933111760456, 4.7900181796942345, -2.6775831266780625]\n"
          ]
        }
      ]
    },
    {
      "cell_type": "markdown",
      "source": [
        "# Calcular el estadístico 'd' Durbin Watson\n",
        "\n",
        "* Determinar el vaor de prueba d\n",
        "* Identificar los valroes críticos nferior y superior $di y ds$\n"
      ],
      "metadata": {
        "id": "nCLojuu4JPIN"
      }
    },
    {
      "cell_type": "code",
      "source": [
        "# Calcula la estadística de Durbin-Watson para los residuos\n",
        "d = sm.stats.stattools.durbin_watson(residuos)\n",
        "\n",
        "print(\"Estadística de Durbin-Watson:\", d)\n",
        "\n",
        "# Los valores críticos inferior di y superior di\n",
        "n = len(residuos)\n",
        "k = 1  # Una variable explicativa\n",
        "print(\"Observaciones n: \", n)\n",
        "print(\"Variables explicativas k: \", k)\n",
        "\n",
        "# Valores de las tablas\n",
        "di = 1.35\n",
        "ds = 1.49\n",
        "\n",
        "print(\"Valores críticos di: \", di, \"ds:\", ds)\n"
      ],
      "metadata": {
        "colab": {
          "base_uri": "https://localhost:8080/"
        },
        "id": "ReWidyxFGa6L",
        "outputId": "9cd683cf-e8db-4b09-bdfa-cb55828048a8"
      },
      "execution_count": 17,
      "outputs": [
        {
          "output_type": "stream",
          "name": "stdout",
          "text": [
            "Estadística de Durbin-Watson: 1.7426862674102261\n",
            "Observaciones n:  30\n",
            "Variables explicativas k:  1\n",
            "Valores críticos di:  1.35 ds: 1.49\n"
          ]
        }
      ]
    },
    {
      "cell_type": "markdown",
      "source": [
        "# Evaluar el valor del estadístico de prueba d Durbin Watson\n",
        "\n",
        "* Construir hipótesis nula y alternativa H0 y Ha.\n",
        "* Constrastar el valor de prueba $d$ contra los valores críticos $di$ y $ds$.\n"
      ],
      "metadata": {
        "id": "poMfm4L7JpgL"
      }
    },
    {
      "cell_type": "code",
      "source": [
        "# Hipótesis\n",
        "H0 = \"No hay correlación entre los residuos\"\n",
        "Ha = \"Si hay correlación entre los residuos\"\n",
        "\n",
        "if (d < di):\n",
        "  decision = \"se rechaza Ho; \" + Ha\n",
        "elif (di <= d and d <= ds):  # Corregir esta condición\n",
        "  decision = \"zona de indiferencia; dudoso\"\n",
        "elif (d > ds):\n",
        "  decision = \"se acepta H0; \" + H0\n",
        "\n",
        "print(decision)"
      ],
      "metadata": {
        "colab": {
          "base_uri": "https://localhost:8080/"
        },
        "id": "yLYzNfEII5ij",
        "outputId": "eda349d7-2757-4649-c1df-4dc3c4277792"
      },
      "execution_count": 18,
      "outputs": [
        {
          "output_type": "stream",
          "name": "stdout",
          "text": [
            "se acepta H0; No hay correlación entre los residuos\n"
          ]
        }
      ]
    }
  ]
}