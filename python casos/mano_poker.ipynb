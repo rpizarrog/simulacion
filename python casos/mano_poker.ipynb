{
  "nbformat": 4,
  "nbformat_minor": 0,
  "metadata": {
    "colab": {
      "provenance": [],
      "authorship_tag": "ABX9TyOhX90hZ9G4XQVg3JaLgw7O",
      "include_colab_link": true
    },
    "kernelspec": {
      "name": "python3",
      "display_name": "Python 3"
    },
    "language_info": {
      "name": "python"
    }
  },
  "cells": [
    {
      "cell_type": "markdown",
      "metadata": {
        "id": "view-in-github",
        "colab_type": "text"
      },
      "source": [
        "<a href=\"https://colab.research.google.com/github/rpizarrog/simulacion/blob/main/python%20casos/mano_poker.ipynb\" target=\"_parent\"><img src=\"https://colab.research.google.com/assets/colab-badge.svg\" alt=\"Open In Colab\"/></a>"
      ]
    },
    {
      "cell_type": "code",
      "execution_count": 145,
      "metadata": {
        "colab": {
          "base_uri": "https://localhost:8080/"
        },
        "id": "ozHCgmEgpldT",
        "outputId": "8725b088-6914-43b9-da94-8c5aa205ba7c"
      },
      "outputs": [
        {
          "output_type": "stream",
          "name": "stdout",
          "text": [
            "Tipo de poker: Tercia\n"
          ]
        }
      ],
      "source": [
        "def contar_frecuencia_poker(numero):\n",
        "    # Convierte el número a una cadena y quita el punto decimal\n",
        "    numero_str = str(numero).replace(\".\", \"\").lstrip(\"0\")\n",
        "\n",
        "    # Cuenta la frecuencia de cada dígito en la cadena\n",
        "    digit_count = {}\n",
        "    for d in numero_str:\n",
        "        if d in digit_count:\n",
        "            digit_count[d] += 1\n",
        "        else:\n",
        "            digit_count[d] = 1\n",
        "    # print (digit_count)\n",
        "    # Obtiene los valores de frecuencia como una lista\n",
        "    frequencies = list(digit_count.values())\n",
        "\n",
        "    if 5 in frequencies:\n",
        "        return \"Quintilla\"\n",
        "    elif 4 in frequencies:\n",
        "        return \"Poker\"\n",
        "    elif 3 in frequencies and 2 in frequencies:\n",
        "        return \"Tercia y Par\"\n",
        "    elif 3 in frequencies:\n",
        "        return \"Tercia\"\n",
        "    elif frequencies.count(2) == 2:\n",
        "        return \"Dos Pares\"\n",
        "    elif 2 in frequencies:\n",
        "        return \"Un Par\"\n",
        "    else:\n",
        "        return \"Nada\"\n",
        "\n",
        "# Ejemplo de uso:\n",
        "numero = 0.444\n",
        "mano = contar_frecuencia_poker(numero)\n",
        "print(\"Tipo de poker:\", mano)\n"
      ]
    },
    {
      "cell_type": "code",
      "source": [
        "numero = 0.30026\n",
        "print(numero)\n",
        "# print(str(numero))\n",
        "mano = contar_frecuencia_poker(numero)\n",
        "print(\"Tipo de poker:\", mano)"
      ],
      "metadata": {
        "colab": {
          "base_uri": "https://localhost:8080/"
        },
        "id": "37E9DRqjscyf",
        "outputId": "40bfa435-3190-4c33-9572-d805b9c0c844"
      },
      "execution_count": 238,
      "outputs": [
        {
          "output_type": "stream",
          "name": "stdout",
          "text": [
            "0.30026\n",
            "Tipo de poker: Un Par\n"
          ]
        }
      ]
    },
    {
      "cell_type": "code",
      "source": [
        "numeros = [0.10666, 0.53678, 0.41178, 1.17777, 0.11111, 1.75345, 0.48542, 0.28556, 0.16299, 0.09238, 0.04494, 0.6325, 0.09043, 0.10835, 0.7297, 0.30516, 0.11378, 0.338, 0.08247, 0.16042]\n",
        "numeros\n",
        "\n",
        "manos = []\n",
        "for n in numeros:\n",
        "  manos.append(contar_frecuencia_poker(n))\n",
        "print(manos)\n",
        "\n",
        "# construir tabla de frecuencias\n",
        "from collections import Counter\n",
        "\n",
        "# Contar la frecuencia de cada tipo de mano\n",
        "frecuencia = Counter(manos)\n",
        "\n",
        "# Mostrar los resultados\n",
        "for tipo, f in frecuencia.items():\n",
        "    print(f'Tipo: {tipo}, Frecuencia: {f}')\n",
        "\n",
        "frecuencia = Counter(manos)\n",
        "\n",
        "# Crear un DataFrame\n",
        "tabla = pd.DataFrame(list(frecuencia.items()), columns=['Tipo de Mano', 'Frecuencia'])\n",
        "\n",
        "# Mostrar la tabla de frecuencias\n",
        "print(tabla)\n"
      ],
      "metadata": {
        "colab": {
          "base_uri": "https://localhost:8080/"
        },
        "id": "GLodIKBwwLtW",
        "outputId": "0e1e1364-bb6e-42b3-ee87-3509be4cac11"
      },
      "execution_count": 239,
      "outputs": [
        {
          "output_type": "stream",
          "name": "stdout",
          "text": [
            "['Tercia', 'Nada', 'Un Par', 'Poker', 'Quintilla', 'Un Par', 'Un Par', 'Un Par', 'Un Par', 'Nada', 'Tercia', 'Nada', 'Nada', 'Nada', 'Un Par', 'Nada', 'Un Par', 'Un Par', 'Nada', 'Nada']\n",
            "Tipo: Tercia, Frecuencia: 2\n",
            "Tipo: Nada, Frecuencia: 8\n",
            "Tipo: Un Par, Frecuencia: 8\n",
            "Tipo: Poker, Frecuencia: 1\n",
            "Tipo: Quintilla, Frecuencia: 1\n",
            "  Tipo de Mano  Frecuencia\n",
            "0       Tercia           2\n",
            "1         Nada           8\n",
            "2       Un Par           8\n",
            "3        Poker           1\n",
            "4    Quintilla           1\n"
          ]
        }
      ]
    },
    {
      "cell_type": "code",
      "source": [
        "import math as mt\n",
        "n = 54\n",
        "r = 5\n",
        "N = mt.factorial(n) / mt.factorial(n-r)\n"
      ],
      "metadata": {
        "id": "1N620YTopoh7"
      },
      "execution_count": 240,
      "outputs": []
    },
    {
      "cell_type": "code",
      "source": [
        "# mazo de cartas de una baraja\n",
        "cartas = ['A', '2', '3', '4', '5', '6', '7', '8', '9', '10', 'J', 'Q', 'K']\n",
        "palos = ['C', 'P', 'D', 'T']\n",
        "\n",
        "mazo_sin_joker = mazo_con_joker = [carta + palo for palo in palos for carta in cartas]\n",
        "print(mazo_sin_joker)\n",
        "mazo_con_joker.append('Joker1')\n",
        "mazo_con_joker.append('Joker2')\n",
        "print(mazo_con_joker)\n",
        "\n",
        "\n",
        "from itertools import permutations\n",
        "from itertools import combinations\n",
        "import math as mt\n",
        "\n",
        "def f_probabilidad (f, N):\n",
        "  return f/N\n",
        "\n",
        "def f_combinaciones (n, r):\n",
        "  cuantos = mt.factorial(n) / (mt.factorial(r) * mt.factorial(n - r))\n",
        "  return cuantos\n",
        "\n",
        "\n",
        "import math as mt\n",
        "n = 54\n",
        "r = 5\n",
        "N = mt.factorial(n) / mt.factorial(n-r)\n",
        "\n",
        "\n",
        "# Para cinco cartas diferentes\n",
        "cinco_diferentes = f_combinaciones(52, 5)\n",
        "print(N)\n",
        "print(cinco_diferentes)\n",
        "print(f_probabilidad(cinco_diferentes, N) * 100)\n",
        "\n"
      ],
      "metadata": {
        "colab": {
          "base_uri": "https://localhost:8080/"
        },
        "id": "7GuezCjMBI8g",
        "outputId": "0b693648-1654-4d77-bd43-0bd445da3c90"
      },
      "execution_count": 243,
      "outputs": [
        {
          "output_type": "stream",
          "name": "stdout",
          "text": [
            "['AC', '2C', '3C', '4C', '5C', '6C', '7C', '8C', '9C', '10C', 'JC', 'QC', 'KC', 'AP', '2P', '3P', '4P', '5P', '6P', '7P', '8P', '9P', '10P', 'JP', 'QP', 'KP', 'AD', '2D', '3D', '4D', '5D', '6D', '7D', '8D', '9D', '10D', 'JD', 'QD', 'KD', 'AT', '2T', '3T', '4T', '5T', '6T', '7T', '8T', '9T', '10T', 'JT', 'QT', 'KT']\n",
            "['AC', '2C', '3C', '4C', '5C', '6C', '7C', '8C', '9C', '10C', 'JC', 'QC', 'KC', 'AP', '2P', '3P', '4P', '5P', '6P', '7P', '8P', '9P', '10P', 'JP', 'QP', 'KP', 'AD', '2D', '3D', '4D', '5D', '6D', '7D', '8D', '9D', '10D', 'JD', 'QD', 'KD', 'AT', '2T', '3T', '4T', '5T', '6T', '7T', '8T', '9T', '10T', 'JT', 'QT', 'KT', 'Joker1', 'Joker2']\n",
            "379501200.0\n",
            "2598960.0\n",
            "0.6848357791754018\n"
          ]
        }
      ]
    },
    {
      "cell_type": "markdown",
      "source": [
        "# Generando 3 numeros aleatorios diferentes\n",
        "\n"
      ],
      "metadata": {
        "id": "HQtT-m2YNuZy"
      }
    },
    {
      "cell_type": "code",
      "source": [
        "import numpy as np\n",
        "import random\n",
        "from collections import Counter\n",
        "import pandas as pd\n",
        "\n",
        "\n",
        "lista_nada  = []\n",
        "lista_pares  = []\n",
        "lista_tercias = []\n",
        "\n",
        "# Diez veces la generción de números y la construcción de probabilidades\n",
        "# para cada tipo de mano de Póker\n",
        "for gen in range(10):\n",
        "  # Generar una lista de 100 números aleatorios en el rango de 000 a 999\n",
        "  numeros = [random.randint(100, 999) for _ in range(100)]\n",
        "\n",
        "  print(numeros)\n",
        "  manos = []\n",
        "  for n in numeros:\n",
        "    manos.append(contar_frecuencia_poker(n))\n",
        "  # print(manos)\n",
        "\n",
        "  # Contar la frecuencia de cada tipo de mano\n",
        "  frecuencia = Counter(manos)\n",
        "  lista_tuplas = list(frecuencia.items())\n",
        "  print(\"lista tuplas: \")\n",
        "  print(lista_tuplas)\n",
        "  print(len(lista_tuplas))\n",
        "  if len(lista_tuplas) == 2:\n",
        "    # El nuevo ítem que deseas agregar\n",
        "    nueva_tupla = ('Tercia', 0)\n",
        "    lista_tuplas.append(nueva_tupla)\n",
        "  # Crear un DataFrame\n",
        "  tabla = pd.DataFrame(lista_tuplas, columns=['Tipo de Mano', 'Frecuencia'])\n",
        "  #print(lista_tuplas[:0])\n",
        "  tabla = tabla.sort_values(by='Frecuencia', ascending=False)\n",
        "\n",
        "  # Mostrar la tabla de frecuencias\n",
        "  print(tabla)\n"
      ],
      "metadata": {
        "colab": {
          "base_uri": "https://localhost:8080/"
        },
        "id": "qthsEHH-OoYX",
        "outputId": "8dd7d1f6-557f-4793-f083-0a5f88c006fb"
      },
      "execution_count": 246,
      "outputs": [
        {
          "output_type": "stream",
          "name": "stdout",
          "text": [
            "[568, 259, 581, 616, 604, 831, 310, 946, 132, 619, 852, 119, 876, 614, 611, 295, 741, 506, 303, 492, 298, 270, 502, 163, 811, 468, 686, 129, 501, 261, 244, 843, 907, 144, 907, 484, 151, 832, 428, 862, 964, 693, 612, 212, 789, 780, 906, 775, 864, 479, 361, 741, 207, 166, 580, 427, 513, 972, 371, 296, 738, 192, 211, 485, 840, 243, 814, 307, 328, 435, 885, 660, 762, 200, 931, 663, 925, 601, 545, 222, 537, 155, 154, 622, 440, 694, 676, 991, 976, 340, 153, 130, 823, 136, 166, 495, 823, 908, 172, 450]\n",
            "lista tuplas: \n",
            "[('Nada', 74), ('Un Par', 25), ('Tercia', 1)]\n",
            "3\n",
            "  Tipo de Mano  Frecuencia\n",
            "0         Nada          74\n",
            "1       Un Par          25\n",
            "2       Tercia           1\n",
            "[266, 821, 602, 152, 321, 611, 257, 806, 445, 673, 148, 701, 356, 544, 405, 141, 518, 354, 617, 372, 460, 876, 348, 570, 679, 361, 511, 900, 328, 203, 471, 281, 187, 524, 730, 224, 619, 178, 189, 877, 397, 326, 524, 280, 902, 569, 903, 432, 653, 152, 248, 353, 977, 528, 438, 836, 436, 291, 540, 406, 288, 593, 964, 139, 389, 507, 151, 986, 829, 439, 229, 282, 136, 965, 620, 185, 585, 104, 200, 873, 912, 241, 777, 593, 790, 622, 194, 281, 811, 213, 400, 322, 604, 659, 761, 553, 526, 209, 331, 393]\n",
            "lista tuplas: \n",
            "[('Un Par', 24), ('Nada', 75), ('Tercia', 1)]\n",
            "3\n",
            "  Tipo de Mano  Frecuencia\n",
            "1         Nada          75\n",
            "0       Un Par          24\n",
            "2       Tercia           1\n",
            "[546, 314, 681, 695, 946, 772, 537, 641, 870, 274, 589, 612, 648, 563, 712, 554, 253, 462, 618, 175, 881, 162, 978, 482, 521, 283, 134, 206, 746, 264, 371, 211, 704, 468, 197, 781, 579, 658, 874, 332, 209, 898, 550, 133, 601, 205, 922, 116, 734, 938, 808, 590, 448, 489, 927, 931, 991, 602, 900, 308, 867, 667, 533, 763, 486, 844, 295, 400, 175, 381, 180, 444, 627, 615, 561, 786, 934, 664, 226, 719, 741, 735, 407, 609, 395, 837, 618, 214, 937, 214, 850, 616, 602, 751, 974, 389, 850, 359, 507, 366]\n",
            "lista tuplas: \n",
            "[('Nada', 77), ('Un Par', 22), ('Tercia', 1)]\n",
            "3\n",
            "  Tipo de Mano  Frecuencia\n",
            "0         Nada          77\n",
            "1       Un Par          22\n",
            "2       Tercia           1\n",
            "[111, 838, 502, 804, 856, 972, 553, 986, 928, 616, 593, 723, 940, 100, 399, 853, 169, 337, 619, 205, 158, 507, 892, 769, 218, 478, 443, 960, 632, 248, 190, 808, 620, 553, 439, 259, 171, 877, 414, 151, 833, 344, 910, 879, 234, 259, 651, 778, 222, 417, 278, 722, 589, 449, 184, 868, 887, 342, 609, 969, 478, 908, 257, 240, 579, 660, 726, 995, 967, 702, 344, 643, 667, 441, 162, 594, 692, 671, 117, 953, 994, 631, 981, 849, 178, 962, 715, 116, 744, 686, 252, 227, 966, 746, 574, 347, 255, 793, 752, 408]\n",
            "lista tuplas: \n",
            "[('Tercia', 2), ('Un Par', 35), ('Nada', 63)]\n",
            "3\n",
            "  Tipo de Mano  Frecuencia\n",
            "2         Nada          63\n",
            "1       Un Par          35\n",
            "0       Tercia           2\n",
            "[201, 989, 900, 568, 389, 973, 432, 636, 658, 949, 135, 404, 993, 157, 618, 813, 758, 209, 282, 663, 656, 167, 934, 108, 596, 806, 598, 702, 597, 691, 126, 885, 884, 944, 117, 658, 505, 624, 127, 478, 134, 317, 731, 856, 198, 502, 976, 662, 635, 655, 358, 857, 793, 367, 399, 354, 857, 511, 946, 787, 768, 658, 214, 206, 353, 414, 943, 835, 704, 895, 345, 577, 477, 356, 585, 510, 688, 545, 393, 132, 877, 215, 134, 869, 653, 566, 201, 681, 362, 687, 666, 303, 393, 622, 229, 828, 738, 428, 425, 388]\n",
            "lista tuplas: \n",
            "[('Nada', 64), ('Un Par', 35), ('Tercia', 1)]\n",
            "3\n",
            "  Tipo de Mano  Frecuencia\n",
            "0         Nada          64\n",
            "1       Un Par          35\n",
            "2       Tercia           1\n",
            "[428, 292, 269, 991, 791, 304, 101, 702, 526, 212, 279, 472, 621, 194, 124, 283, 964, 697, 611, 782, 240, 261, 536, 273, 300, 866, 888, 170, 381, 309, 529, 220, 259, 810, 683, 779, 484, 601, 354, 516, 372, 828, 494, 816, 201, 963, 560, 530, 458, 597, 951, 183, 717, 205, 736, 514, 792, 320, 630, 741, 153, 426, 270, 227, 429, 378, 875, 570, 487, 126, 330, 487, 372, 640, 447, 703, 368, 445, 944, 719, 602, 863, 883, 896, 826, 902, 300, 937, 214, 872, 145, 179, 270, 617, 432, 868, 867, 489, 704, 138]\n",
            "lista tuplas: \n",
            "[('Nada', 78), ('Un Par', 21), ('Tercia', 1)]\n",
            "3\n",
            "  Tipo de Mano  Frecuencia\n",
            "0         Nada          78\n",
            "1       Un Par          21\n",
            "2       Tercia           1\n",
            "[426, 727, 972, 773, 572, 173, 430, 474, 645, 931, 788, 984, 856, 706, 186, 365, 579, 497, 387, 375, 668, 965, 958, 545, 340, 866, 627, 350, 607, 707, 849, 481, 394, 624, 442, 440, 131, 641, 215, 871, 387, 933, 668, 878, 899, 849, 988, 233, 763, 501, 392, 394, 337, 499, 436, 773, 663, 530, 892, 164, 843, 685, 741, 936, 762, 420, 340, 375, 829, 845, 313, 806, 326, 771, 211, 664, 662, 251, 810, 923, 785, 422, 858, 856, 854, 748, 355, 381, 391, 999, 960, 910, 597, 599, 746, 611, 500, 868, 685, 557]\n",
            "lista tuplas: \n",
            "[('Nada', 65), ('Un Par', 34), ('Tercia', 1)]\n",
            "3\n",
            "  Tipo de Mano  Frecuencia\n",
            "0         Nada          65\n",
            "1       Un Par          34\n",
            "2       Tercia           1\n",
            "[867, 554, 105, 100, 606, 426, 380, 100, 417, 537, 272, 552, 734, 950, 504, 511, 989, 751, 526, 206, 634, 634, 548, 144, 251, 987, 513, 173, 172, 606, 112, 324, 311, 190, 300, 501, 897, 895, 340, 619, 357, 506, 966, 552, 998, 886, 126, 507, 646, 768, 664, 797, 321, 329, 534, 698, 931, 371, 721, 866, 395, 199, 697, 952, 216, 811, 265, 479, 824, 346, 794, 531, 756, 844, 732, 610, 437, 536, 851, 735, 882, 997, 226, 114, 817, 744, 658, 148, 307, 857, 546, 244, 929, 437, 415, 528, 516, 260, 524, 580]\n",
            "lista tuplas: \n",
            "[('Nada', 69), ('Un Par', 31)]\n",
            "2\n",
            "  Tipo de Mano  Frecuencia\n",
            "0         Nada          69\n",
            "1       Un Par          31\n",
            "2       Tercia           0\n",
            "[825, 917, 142, 927, 224, 554, 344, 569, 883, 755, 428, 934, 323, 785, 987, 768, 995, 190, 756, 217, 307, 468, 496, 580, 431, 634, 853, 452, 529, 845, 143, 296, 764, 393, 652, 444, 654, 988, 980, 948, 423, 601, 578, 741, 978, 232, 708, 256, 191, 886, 257, 193, 396, 739, 955, 189, 820, 628, 183, 615, 530, 816, 951, 158, 542, 434, 249, 608, 566, 997, 946, 636, 542, 832, 601, 143, 141, 506, 985, 866, 453, 435, 983, 753, 410, 620, 375, 821, 751, 536, 366, 848, 429, 615, 262, 463, 387, 504, 839, 526]\n",
            "lista tuplas: \n",
            "[('Nada', 77), ('Un Par', 22), ('Tercia', 1)]\n",
            "3\n",
            "  Tipo de Mano  Frecuencia\n",
            "0         Nada          77\n",
            "1       Un Par          22\n",
            "2       Tercia           1\n",
            "[832, 456, 649, 584, 752, 203, 643, 172, 605, 537, 296, 626, 663, 657, 448, 622, 875, 257, 277, 547, 607, 660, 280, 221, 495, 393, 550, 290, 546, 935, 425, 444, 230, 957, 844, 665, 960, 807, 359, 330, 517, 129, 220, 430, 936, 148, 212, 953, 812, 565, 393, 146, 895, 271, 665, 479, 381, 129, 885, 285, 645, 836, 564, 493, 197, 769, 600, 114, 351, 123, 354, 836, 173, 200, 118, 873, 240, 380, 101, 674, 990, 677, 516, 835, 363, 842, 379, 852, 586, 850, 895, 878, 911, 834, 942, 149, 225, 732, 670, 125]\n",
            "lista tuplas: \n",
            "[('Nada', 70), ('Un Par', 29), ('Tercia', 1)]\n",
            "3\n",
            "  Tipo de Mano  Frecuencia\n",
            "0         Nada          70\n",
            "1       Un Par          29\n",
            "2       Tercia           1\n"
          ]
        }
      ]
    },
    {
      "cell_type": "markdown",
      "source": [
        "# Probabilidades de poker\n",
        "\n"
      ],
      "metadata": {
        "id": "tm1u5K4em6ie"
      }
    },
    {
      "cell_type": "code",
      "source": [
        "import pandas as pd\n",
        "\n",
        "def f_prob_poker(cuantas):\n",
        "  # Crear un DataFrame con las probabilidades\n",
        "  if cuantas == 3:\n",
        "    tabla = pd.DataFrame({'Mano': ['NADA', 'PAR', 'TERCIA'], 'Probabilidad': [0.7200, 0.2700, 0.0100]})\n",
        "    return tabla\n",
        "  if cuantas == 4:\n",
        "    tabla = pd.DataFrame({'Mano': ['NADA', 'PAR', 'DOS PARES', 'TERCIA', 'POKER'], 'Probabilidad': [0.5040, 0.4320, 0.0270, 0.0360, 0.0010]})\n",
        "    return tabla\n",
        "  if cuantas == 5:\n",
        "    tabla = pd.DataFrame({'Mano': ['NADA', 'PAR', 'DOS PARES', 'TERCIA', 'TERCIA PAR', 'POKER', 'QUINTILLA'], 'Probabilidad': [0.3024, 0.5040, 0.1080, 0.0720, 0.0090, 0.0045, 0.0001]})\n",
        "    return tabla\n",
        "\n",
        "# Mostrar el DataFrame\n",
        "print(\"TRES NUMEROS\")\n",
        "print(f_prob_poker(3))\n",
        "print(\"CUATRO NUMEROS\")\n",
        "print(f_prob_poker(4))\n",
        "print(\"CINCO NUMEROS\")\n",
        "print(f_prob_poker(5))\n",
        "\n",
        "\n",
        "\n",
        "\n",
        "\n"
      ],
      "metadata": {
        "colab": {
          "base_uri": "https://localhost:8080/"
        },
        "id": "NYl1KSGLm-Ly",
        "outputId": "fbfa722e-c72b-4538-8b99-59bd89d8c75c"
      },
      "execution_count": 237,
      "outputs": [
        {
          "output_type": "stream",
          "name": "stdout",
          "text": [
            "TRES NUMEROS\n",
            "     Mano  Probabilidad\n",
            "0    NADA          0.72\n",
            "1     PAR          0.27\n",
            "2  TERCIA          0.01\n",
            "CUATRO NUMEROS\n",
            "        Mano  Probabilidad\n",
            "0       NADA         0.504\n",
            "1        PAR         0.432\n",
            "2  DOS PARES         0.027\n",
            "3     TERCIA         0.036\n",
            "4      POKER         0.001\n",
            "CINCO NUMEROS\n",
            "         Mano  Probabilidad\n",
            "0        NADA        0.3024\n",
            "1         PAR        0.5040\n",
            "2   DOS PARES        0.1080\n",
            "3      TERCIA        0.0720\n",
            "4  TERCIA PAR        0.0090\n",
            "5       POKER        0.0045\n",
            "6   QUINTILLA        0.0001\n"
          ]
        }
      ]
    }
  ]
}