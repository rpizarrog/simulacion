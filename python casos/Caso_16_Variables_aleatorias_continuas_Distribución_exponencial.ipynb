{
  "nbformat": 4,
  "nbformat_minor": 0,
  "metadata": {
    "colab": {
      "provenance": [],
      "authorship_tag": "ABX9TyMdhX9XSAIl8KhgnyQRK4ru",
      "include_colab_link": true
    },
    "kernelspec": {
      "name": "python3",
      "display_name": "Python 3"
    },
    "language_info": {
      "name": "python"
    }
  },
  "cells": [
    {
      "cell_type": "markdown",
      "metadata": {
        "id": "view-in-github",
        "colab_type": "text"
      },
      "source": [
        "<a href=\"https://colab.research.google.com/github/rpizarrog/simulacion/blob/main/python%20casos/Caso_16_Variables_aleatorias_continuas_Distribuci%C3%B3n_exponencial.ipynb\" target=\"_parent\"><img src=\"https://colab.research.google.com/assets/colab-badge.svg\" alt=\"Open In Colab\"/></a>"
      ]
    },
    {
      "cell_type": "markdown",
      "source": [
        "# Distribución exponencial\n",
        "\n",
        "Existen distintas distribuciones que permiten tratar con variables aleatorias continuas.\n",
        "\n",
        "- Distribución uniforme continua\n",
        "- Distribución normal\n",
        "- Distribución t student\n",
        "- **Distribución exponencial**\n",
        "- Distribución chi cuadrada\n",
        "- Distribución f de Fisher\n",
        "- Entre otras....\n",
        "\n",
        "¿Qué es la distribución exponencial y en dónde se utiliza?\n",
        "\n",
        "La distribución exponencial es una distribución de probabilidad continua que se utiliza para modelar el tiempo entre eventos en un proceso de Poisson, donde los eventos ocurren de manera independiente a una tasa constante.\n",
        "\n",
        "Describe la probabilidad de que pase un cierto período de tiempo antes de que ocurra un evento. Algunas características clave de la distribución exponencial incluyen:\n",
        "\n",
        "Parámetro de tasa ($\\lambda$): La distribución exponencial está completamente definida por un parámetro de tasa ($\\lambda$), que representa la tasa promedio de eventos por unidad de tiempo. Cuanto mayor sea ($λ$), más eventos ocurrirán en un período de tiempo dado.\n",
        "\n",
        "Función de densidad de probabilidad (PDF): La función de densidad de probabilidad de la distribución exponencial se define como:\n",
        "\n",
        "\n",
        "$$\n",
        "f(x) = \\begin{cases} \\lambda \\cdot e^{-(λ\\cdot x)}\n",
        "\\text{ para x >= 0} \\\\ 0\n",
        "\\text{ para x < 0} \\end{cases} \\therefore\n",
        "$$\n",
        "\n",
        "$$\n",
        "\\lambda \\text { es el valor de la taza media}\n",
        "$$\n",
        "\n",
        "$$\n",
        "e = 2,7182818284590452…\n",
        "$$\n",
        "\n",
        "\n",
        "La distribución exponencial se utiliza en una variedad de campos, incluyendo:\n",
        "\n",
        "- Teoría de colas: Modela el tiempo de llegada entre solicitudes en una línea de espera o sistema de colas, como las llamadas telefónicas a un centro de atención al cliente.\n",
        "\n",
        "- Fiabilidad y mantenimiento: Se utiliza para modelar el tiempo hasta que un sistema o componente falle.\n",
        "\n",
        "- Procesos estocásticos: A menudo se aplica en el análisis de procesos aleatorios donde los eventos ocurren de manera estocástica, como la desintegración de átomos radioactivos.\n",
        "\n",
        "- Estadística inferencial: Se utiliza en pruebas estadísticas, como el análisis de supervivencia, para evaluar el tiempo hasta un evento (por ejemplo, la duración de vida de un producto).\n",
        "\n",
        "La distribución exponencial es valiosa para modelar y comprender el tiempo entre eventos en una amplia gama de aplicaciones, especialmente cuando se asume que los eventos ocurren de manera independiente y a una tasa constante.\n",
        "\n",
        "\n",
        "\n"
      ],
      "metadata": {
        "id": "Pvn1grA0hDM4"
      }
    },
    {
      "cell_type": "markdown",
      "source": [
        "# Descripción\n",
        "\n",
        "- El caso inicia con la generación de nnúmeros aletorios\n",
        "- De cada núero aleatorio se calcula su densidad\n",
        "- Se visualiza la densidad\n",
        "- Aplicación de distribución exponencial\n"
      ],
      "metadata": {
        "id": "ntxwiYF3pjyf"
      }
    },
    {
      "cell_type": "markdown",
      "source": [
        "# Desarrollo\n"
      ],
      "metadata": {
        "id": "aM6OiJyLqbjt"
      }
    },
    {
      "cell_type": "markdown",
      "source": [],
      "metadata": {
        "id": "dE5b_x7Sqfxj"
      }
    },
    {
      "cell_type": "markdown",
      "source": [
        "## Cargar librerías\n",
        "\n"
      ],
      "metadata": {
        "id": "dJBZYywtqfzB"
      }
    },
    {
      "cell_type": "code",
      "source": [
        "import random\n",
        "import numpy as np\n",
        "import pandas as pd\n",
        "import seaborn as sns\n",
        "import matplotlib.pyplot as plt\n",
        "from math import sqrt\n",
        "from scipy import stats\n",
        "\n",
        "# from scipy.stats import uniform  # uniforme continua\n",
        "# from scipy.stats import norm # normal\n",
        "# from scipy.stats import t # t student\n",
        "from scipy.stats import expon"
      ],
      "metadata": {
        "id": "Ya-nWm9xqkkc"
      },
      "execution_count": 2,
      "outputs": []
    },
    {
      "cell_type": "code",
      "source": [
        "import numpy as np\n",
        "import matplotlib.pyplot as plt\n",
        "from scipy.stats import expon\n",
        "\n",
        "# Parámetro de tasa (λ)\n",
        "lambda_param = 0.5  # Ajusta el valor según tus necesidades\n",
        "\n",
        "# Generar números aleatorios de la distribución exponencial\n",
        "n = 1000  # Número de muestras\n",
        "exponential_data = expon.rvs(scale=1/lambda_param, size=n)\n",
        "\n",
        "# Crear un histograma de los datos generados\n",
        "plt.hist(exponential_data, bins=30, density=True, alpha=0.5, color='b', label='Datos Simulados')\n",
        "\n",
        "# Crear la curva de densidad de la distribución exponencial\n",
        "x = np.linspace(0, max(exponential_data), 100)\n",
        "pdf = expon.pdf(x, scale=1/lambda_param)\n",
        "plt.plot(x, pdf, 'r-', lw=2, label='Distribución Exponencial')\n",
        "\n",
        "# Etiquetas y título del gráfico\n",
        "plt.xlabel('Valores')\n",
        "plt.ylabel('Densidad de Probabilidad')\n",
        "plt.title('Distribución Exponencial y Datos Simulados')\n",
        "\n",
        "# Agregar una leyenda\n",
        "plt.legend()\n",
        "\n",
        "# Mostrar el gráfico\n",
        "plt.show()\n"
      ],
      "metadata": {
        "colab": {
          "base_uri": "https://localhost:8080/",
          "height": 472
        },
        "id": "4M-VKdcKq2ql",
        "outputId": "12b363ff-d7ec-4a7c-c01a-4fbc1029a41b"
      },
      "execution_count": 3,
      "outputs": [
        {
          "output_type": "display_data",
          "data": {
            "text/plain": [
              "<Figure size 640x480 with 1 Axes>"
            ],
            "image/png": "[encoded data removed]"
          },
          "metadata": {}
        }
      ]
    },
    {
      "cell_type": "markdown",
      "source": [
        "## Generar números aleatorios"
      ],
      "metadata": {
        "id": "Pqiyt4NTpxfN"
      }
    },
    {
      "cell_type": "code",
      "source": [
        "np.random.seed(2023)\n",
        "\n"
      ],
      "metadata": {
        "id": "JtIaHJh3p0cN"
      },
      "execution_count": 31,
      "outputs": []
    },
    {
      "cell_type": "code",
      "source": [
        "n = 10\n",
        "v_lambda = 0.5\n",
        "numeros_aleatorios = expon.rvs(scale= 1/v_lambda, size=n)\n",
        "print(numeros_aleatorios)"
      ],
      "metadata": {
        "colab": {
          "base_uri": "https://localhost:8080/"
        },
        "id": "mWLKID_6rxkW",
        "outputId": "77020be3-a858-4af5-adab-9697d3b1b94c"
      },
      "execution_count": 32,
      "outputs": [
        {
          "output_type": "stream",
          "name": "stdout",
          "text": [
            "[0.77718148 4.42224556 1.77371754 0.27071433 0.30476734 1.26183111\n",
            " 0.04467458 2.59858053 1.486303   1.57463108]\n"
          ]
        }
      ]
    },
    {
      "cell_type": "markdown",
      "source": [
        "# Inerpretación\n",
        "\n",
        "Pendiente ...."
      ],
      "metadata": {
        "id": "ViOWFgC5sjWk"
      }
    }
  ]
}