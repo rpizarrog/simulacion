{
  "nbformat": 4,
  "nbformat_minor": 0,
  "metadata": {
    "colab": {
      "provenance": [],
      "authorship_tag": "ABX9TyPylCn+/yoXvaUi4/Js823b",
      "include_colab_link": true
    },
    "kernelspec": {
      "name": "python3",
      "display_name": "Python 3"
    },
    "language_info": {
      "name": "python"
    }
  },
  "cells": [
    {
      "cell_type": "markdown",
      "metadata": {
        "id": "view-in-github",
        "colab_type": "text"
      },
      "source": [
        "<a href=\"https://colab.research.google.com/github/rpizarrog/simulacion/blob/main/python%20casos/Caso_17_Distribuci%C3%B3n_de_variables_continuas_Chi_Cuadrada.ipynb\" target=\"_parent\"><img src=\"https://colab.research.google.com/assets/colab-badge.svg\" alt=\"Open In Colab\"/></a>"
      ]
    },
    {
      "cell_type": "code",
      "execution_count": null,
      "metadata": {
        "id": "KBk_7d6vArMw"
      },
      "outputs": [],
      "source": []
    },
    {
      "cell_type": "markdown",
      "source": [
        "# Chi cuadrada\n",
        "\n",
        "Existen distintas distribuciones que permiten tratar con variables aleatorias continuas\n",
        "\n",
        "- Distribución uniforme continua\n",
        "- Distribución normal\n",
        "- Distribución t student**\n",
        "- Distribucuón exponencial\n",
        "- **Distribución chi cuadrada**\n",
        "- Distribución f de Fisher\n",
        "- Entre otras....\n",
        "\n"
      ],
      "metadata": {
        "id": "_PH7TuI8A3ix"
      }
    }
  ]
}