{
  "nbformat": 4,
  "nbformat_minor": 0,
  "metadata": {
    "colab": {
      "provenance": [],
      "authorship_tag": "ABX9TyOpuj2VoGypuOUxy1dfkM39",
      "include_colab_link": true
    },
    "kernelspec": {
      "name": "python3",
      "display_name": "Python 3"
    },
    "language_info": {
      "name": "python"
    }
  },
  "cells": [
    {
      "cell_type": "markdown",
      "metadata": {
        "id": "view-in-github",
        "colab_type": "text"
      },
      "source": [
        "<a href=\"https://colab.research.google.com/github/rpizarrog/simulacion/blob/main/python%20casos/Caso_17_Distribuci%C3%B3n_de_variables_continuas_Chi_Cuadrada.ipynb\" target=\"_parent\"><img src=\"https://colab.research.google.com/assets/colab-badge.svg\" alt=\"Open In Colab\"/></a>"
      ]
    },
    {
      "cell_type": "markdown",
      "source": [
        "# Chi cuadrada\n",
        "\n",
        "Existen distintas distribuciones que permiten tratar con variables aleatorias continuas\n",
        "\n",
        "- Distribución uniforme continua\n",
        "- Distribución normal\n",
        "- Distribución t student**\n",
        "- Distribucuón exponencial\n",
        "- **Distribución chi cuadrada**\n",
        "- Distribución f de Fisher\n",
        "- Entre otras....\n",
        "\n",
        "La distribución de probabilidad continua chi cuadrada se utiliza en estadísticas para varios propósitos, principalmente en pruebas de hipótesis y estimación de parámetros.\n",
        "\n",
        "Aplicaciones de una distribucuón chi cuadrada:\n",
        "\n",
        "- Pruebas de bondad de ajuste: La distribución Chi-cuadrado se utiliza para verificar si una muestra de datos se ajusta a una distribución teórica. Esto es útil para evaluar si los datos siguen una distribución específica, como la distribución normal.\n",
        "\n",
        "- Pruebas de independencia: Se utiliza para verificar la independencia de dos variables categóricas mediante tablas de contingencia y pruebas de Chi-cuadrado.\n",
        "\n",
        "- Pruebas de homogeneidad: Se usa para verificar si las distribuciones de dos o más poblaciones son homogéneas o iguales.\n",
        "\n",
        "- Estimación de la varianza: La Chi-cuadrado se usa para estimar la varianza poblacional a partir de una muestra.\n",
        "\n",
        "- Intervalos de confianza: Se emplea para calcular intervalos de confianza para la varianza y la desviación estándar de una población.\n",
        "\n",
        "- Modelos estadísticos: La distribución Chi-cuadrado se utiliza en modelos estadísticos más avanzados, como el análisis de regresión y el análisis de varianza (ANOVA), donde se aplican pruebas basadas en esta distribución para evaluar la significancia de los\n",
        "\n"
      ],
      "metadata": {
        "id": "_PH7TuI8A3ix"
      }
    },
    {
      "cell_type": "markdown",
      "source": [
        "# Objetivo\n",
        "\n",
        "Simular la aplicación de una distribucuón chi cuadrada\n",
        "\n",
        "# Descripción\n",
        "\n",
        "- Generar números aletorios y visualizar su densidad\n"
      ],
      "metadata": {
        "id": "CJNpDIbYzAiC"
      }
    },
    {
      "cell_type": "markdown",
      "source": [
        "# Desarrollo\n",
        "\n"
      ],
      "metadata": {
        "id": "syGQ9FfkwO93"
      }
    },
    {
      "cell_type": "markdown",
      "source": [
        "## Cargar librerías\n",
        "\n"
      ],
      "metadata": {
        "id": "QFY5tPVdwQh1"
      }
    },
    {
      "cell_type": "code",
      "source": [
        "import numpy as np\n",
        "import matplotlib.pyplot as plt\n",
        "import math\n",
        "\n",
        "# from scipy.stats import uniform\n",
        "# from scipy.stats import norm\n",
        "from scipy.stats import chi2"
      ],
      "metadata": {
        "id": "QhYybRl6wb00"
      },
      "execution_count": null,
      "outputs": []
    },
    {
      "cell_type": "markdown",
      "source": [
        "## Cargar funciones"
      ],
      "metadata": {
        "id": "CH0bRbOUwSmR"
      }
    },
    {
      "cell_type": "code",
      "source": [
        "# Densidad chi cuadrada\n",
        "def f_x_dens_chi_cuadrada(x, k):\n",
        "  # Calcula la densidad de una chi cuadrada\n",
        "  # recibe los valores de x y los grados de libertad (n-1)\n",
        "  if x < 0:\n",
        "    return 0\n",
        "  numerador = x**((k / 2) - 1) * np.exp(-x / 2)\n",
        "  denominador = (2**(k / 2)) * math.gamma(k / 2)\n",
        "  dens_pdf = numerador / denominador\n",
        "  return dens_pdf\n",
        "\n",
        "\n",
        "def f_visualizar_dens_chi_cuadradada (x, gl):\n",
        "  # Calcular la PDF para cada valor en el rango\n",
        "  dens_pdf = [f_x_dens_chi_cuadrada(xi, gl) for xi in x]\n",
        "\n",
        "  # Visualizar la PDF\n",
        "  plt.plot(x, dens_pdf, label=f'PDF: Chi-cuadrado({gl})')\n",
        "  plt.title('Función de Densidad de Probabilidad (PDF) - Distribución Chi-cuadrado')\n",
        "  plt.xlabel('Valor de x')\n",
        "  plt.ylabel('Densidad de Probabilidad')\n",
        "  plt.legend()\n",
        "  plt.show()"
      ],
      "metadata": {
        "id": "M-QYtJ43wjT1"
      },
      "execution_count": null,
      "outputs": []
    },
    {
      "cell_type": "markdown",
      "source": [
        "## Fórmula de densidad de una chi cuadrada\n",
        "\n",
        "$$\n",
        "f(x) = \\frac{1}{2^{k/2} * \\gamma^{(k/2)}} *\n",
        "e^{(-x/2)} * x^{(k/2) - 1)}  \\therefore\n",
        "$$\n",
        "\n",
        "o bien:\n",
        "$$\n",
        "f(x) = \\frac{x^{(k/2 - 1)} * e^{(-x/2)}}{2^{(k/2)} * \\gamma(k/2)}\n",
        "$$\n",
        "\n",
        "$$\n",
        "\\gamma \\text{:la función gamma} \\\\\n",
        "e \\text{ el valor de e = 2.718282}\n",
        "$$\n",
        "\n",
        "$$\n",
        "\\quad x \\in (0, \\infty)\n",
        "$$\n"
      ],
      "metadata": {
        "id": "NEKkY5b_xNGl"
      }
    },
    {
      "cell_type": "markdown",
      "source": [
        "# Densidad chi cuadrada de un solo valor"
      ],
      "metadata": {
        "id": "cE7_iqP_0hTk"
      }
    },
    {
      "cell_type": "code",
      "source": [
        "x = 10\n",
        "gl = 5\n",
        "dens = f_x_dens_chi_cuadrada(x, gl)\n",
        "print(\"La densidad de \", x, \" es \", dens, \" que representa un punto en la curva\")"
      ],
      "metadata": {
        "colab": {
          "base_uri": "https://localhost:8080/"
        },
        "id": "TKnstZDC0kPk",
        "outputId": "a8d34367-dcc5-447a-9740-3f6f32134b5f"
      },
      "execution_count": 8,
      "outputs": [
        {
          "output_type": "stream",
          "name": "stdout",
          "text": [
            "La densidad de  10  es  0.028334555341734468  que represnta un punto en la curva\n"
          ]
        }
      ]
    },
    {
      "cell_type": "markdown",
      "source": [
        "## Generar números aleatorios y visualizar la densidad\n",
        "\n"
      ],
      "metadata": {
        "id": "KvlKpwMZwp4B"
      }
    },
    {
      "cell_type": "code",
      "source": [
        "# Crear un rango de valores para la PDF\n",
        "# x = np.linspace(0, 20, 1000)\n",
        "\n",
        "# Genera 1000 números aleatorios de una distribución Chi-cuadrado\n",
        "n = 1000\n",
        "gl = 5\n",
        "numeros_aleatorios = chi2.rvs(df=gl, size=n)\n",
        "\n",
        "\n",
        "print (numeros_aleatorios)"
      ],
      "metadata": {
        "id": "gCUJc9n1xiCM",
        "colab": {
          "base_uri": "https://localhost:8080/"
        },
        "outputId": "92f5a553-333f-4876-96a6-0596449af3f2"
      },
      "execution_count": 9,
      "outputs": [
        {
          "output_type": "stream",
          "name": "stdout",
          "text": [
            "[ 3.28599925  5.01317845  3.40232196  3.38330981  0.78505263 11.92686301\n",
            "  1.0771436   1.73308453  2.65355755  2.01311649  7.20968482  5.6621123\n",
            " 11.81368561  6.02657644 13.31209144  4.11205679  8.85699925  4.13972654\n",
            "  1.93324295  5.09277061  0.78229976  5.39840443  1.62579248  3.55242029\n",
            "  2.19926778  5.3050842   2.27486438  8.26962146  5.250301    4.33850997\n",
            "  0.48886528 14.31612589  6.2116712  12.34652311 11.48418071  3.46965605\n",
            "  9.40978437  2.31050929  0.90631333  7.00496413  3.98312951  4.81152883\n",
            "  8.88443013  6.0451272   2.82787995  1.09238907  6.75170592  3.83270956\n",
            "  5.18801638 13.00934735  3.33305364  2.71801679  3.03506307  4.41955654\n",
            "  5.20164793  7.1887103   4.13280392 14.74859922  4.15501716  4.22820509\n",
            "  2.91632065  7.15972603  2.55866171  4.37149025  5.36513766  5.99786601\n",
            "  1.94677452  2.74107824  5.46314875  8.46330917  2.90362065  7.86994887\n",
            " 11.7822782   3.72776917  1.51514326 10.68009954  7.82212873 11.68472028\n",
            "  4.10024373  8.84345616 11.33887511  1.30461674  7.92424005  9.88636526\n",
            "  0.5505737   3.093589    1.0968976   6.85693618  3.81365613  2.14817241\n",
            "  9.38546796  3.32869375  4.07217676  7.5972188   3.15836803 10.19948477\n",
            "  4.15446931  2.99779542  5.12409867  2.6164107   2.28993706  3.08939206\n",
            "  4.97327924  4.40738356  1.92773865  9.89786406  2.32936836  3.37996969\n",
            "  7.10250272  1.35051411  2.98062566  5.01203447  1.96212824  3.19042971\n",
            "  2.13917454  8.05140598 11.14283567 12.21339596  6.81039894  3.40898908\n",
            " 17.52811593 15.92678812  4.33818986  2.03013767  3.14555006  4.54221991\n",
            "  5.91720306  4.30851674  7.80658036  6.54672304  9.42110549  1.94366249\n",
            "  1.57316816  1.08168558  1.34678469  5.28061757  2.52131131  9.74658145\n",
            "  5.04291717  1.67355616  6.49074963  3.31780475  2.4761271   1.31677875\n",
            "  5.31152836  3.12441178  8.13320224  1.94128678  1.74730973  7.00852933\n",
            "  1.87754507  2.29900199 11.08620924 12.48758192  3.14720129  5.73969507\n",
            "  8.70075659  4.47519595  9.36810589  7.7291007   1.83407075  4.95514654\n",
            "  1.38597022  5.10068866  0.80079708 12.69728119  2.13952369  2.5727814\n",
            "  7.69218092  8.19869663  6.8228912   7.97906634  6.72621529  1.60305848\n",
            "  2.0453858   1.3732092   2.69935492  8.0411048   0.76888706  2.97085376\n",
            "  2.17160377 10.37711114  6.88464479  2.20199505  2.38275082  5.88641775\n",
            "  6.31678978  3.57963059  1.50820318 10.24220764  2.7661089   2.15971954\n",
            "  3.57073734  3.27220905  0.42256742  3.48356188  4.96790931  6.32003949\n",
            "  5.71828064  7.55750047  3.44853681  4.03175194  5.93608242  4.49879559\n",
            "  2.2359637   3.50663882  4.66732204 10.45198308  9.80873763  4.16890927\n",
            "  3.68284584  3.11621024  8.29208397  9.64138063  3.36790432  4.10270011\n",
            "  2.017999    6.84406747 10.04654265  4.73629791  6.89782236  3.25381692\n",
            "  8.82723729  2.01807555  6.85122965  1.8089134   4.01332419  2.75554315\n",
            "  4.92582861  1.60977704  4.50630445  3.89080053  2.5928141   4.47376314\n",
            "  9.2519207   3.44163782  1.23581906  2.52146151  5.60126422  6.97080183\n",
            "  2.19460981  4.80948777 11.45211663  5.98517307  3.49620627  6.39956015\n",
            "  1.83585244  3.02617791  8.63916589  6.8893471   6.77462912  6.48508609\n",
            "  8.32203536  2.02484451  3.03198795  8.93450069  3.4435104   3.68984875\n",
            "  3.39731111  2.33463563  2.32974692  6.08514093  4.26575265  2.84307057\n",
            "  3.10740504 14.07737977  1.50606004  6.6545446   2.595071    5.08436988\n",
            "  2.3129997   5.7127928   6.62619408  7.98188352  0.92805461  1.97578636\n",
            " 14.43659719  1.24553091  2.8869305   4.47673451  9.4404413   3.42107944\n",
            "  6.61266422  4.26353737  8.50499132  6.39588009  1.11238849  3.80652078\n",
            "  1.60226651  6.61330938  5.64738425  4.45535102 10.12974998  2.15761824\n",
            "  3.17062313  0.88670123  3.7977255   7.66150292  4.83598949  5.40787291\n",
            "  5.32257926  2.62703761  3.26755749  2.72082433  9.73532047  4.30031227\n",
            "  5.93892012  8.63786295  6.04465004 12.7869768   5.26852763  3.57106446\n",
            "  7.38082257 10.1402153   7.08095966 10.36897009  2.15406096  6.11144265\n",
            "  2.55355747  7.55574999  7.60261166  4.9872431   4.20516345  1.18367058\n",
            "  5.27711903  1.7013375   2.2365482   1.18428352  3.17155403  1.91953297\n",
            "  5.78390149  9.24586998  6.78149427  8.27991224  2.76434792  2.70300892\n",
            "  3.28916146  4.25472019  6.40365574  4.63506714  8.79164538  2.72424099\n",
            "  3.25539777  4.1897704   2.80649595  6.9191879   2.64646461  1.55002362\n",
            " 14.37524092  5.11679365 10.9205619   7.12256782  3.35086638  1.07535938\n",
            "  5.87741346  5.18274995  2.47795644  4.35850173  9.35250685  4.110555\n",
            "  4.68384128  2.92490385  8.09973749  2.7932449   4.95701461  4.85226465\n",
            "  3.48223325  1.98410966  2.37445445  2.66044972  4.64651123  7.470583\n",
            "  3.87235223  5.55765128  9.66368355  0.34793982  2.03254422  4.19700687\n",
            "  1.47441791  3.14068337  3.1803712   2.5825267   7.00868919  6.28028507\n",
            "  2.39523508  4.95596415  5.21697104  1.5070484   3.80680331  1.235238\n",
            "  5.14723596  2.98963829  7.06636714  1.19529919  6.53632846  3.97310666\n",
            "  1.44169641  6.50921706  0.42829517  8.49262307  1.85159808 17.30240266\n",
            "  2.50430109  8.29021431  8.83542403  4.19607672  5.53309806  3.73638261\n",
            "  3.46522399  2.72513369  5.81096313  3.16656528  3.69906161  5.67009832\n",
            " 12.43119596  6.83797608 12.38527688  4.74571587 14.32102282  5.03642656\n",
            "  6.37946685  3.85563606 10.84870392  9.89841199  6.89317865  8.66636292\n",
            "  4.16718601  2.23910016  4.65567261  4.74601714  2.29398862  1.67701066\n",
            "  5.01058506  3.58181768  3.91944015  4.16774781  0.87506733  2.78906229\n",
            "  4.69075081  4.25213991  5.20865007  3.12841637  1.31559631  1.43544789\n",
            "  1.19276863  2.00090394  1.20789038  2.28958759  7.79254282 16.91356925\n",
            "  2.58536924  0.83898061  7.72149962  5.42761483  1.32840688 12.48425431\n",
            "  7.64188723  5.65189236  6.50479808  2.21457067  4.5639527   9.73038015\n",
            "  5.92184832  2.63131912  1.26277855  1.54667347 11.14792208  6.10491968\n",
            "  7.44947694  6.99079849  2.28830724  3.97516586  2.00630242  3.81528173\n",
            "  1.08537093  7.80671272  6.14911434  8.67251768  2.49591994  4.26387281\n",
            "  2.51150024  6.86160973  4.78917938  3.19027047 10.63421003  6.94662487\n",
            "  2.71849825  4.44085294  2.21240026  9.55045636  8.61451255  4.72252386\n",
            "  7.57631227  1.95218601  4.46298612 10.98928113  4.84299336  1.22366056\n",
            "  7.18060813  2.35824335  5.3035904   5.7974674   0.74680562  8.01226322\n",
            "  3.13399581  3.33965973  9.51460243  7.07414071  5.02698201  2.10433494\n",
            "  6.37798063  0.57434413  1.99541588  3.61141718  4.37876709  6.73006155\n",
            "  8.29434928  4.16774288  1.41791981  4.04275869  4.68105358  5.32999037\n",
            "  8.70161044  1.54015158  7.86074971  0.37166411 12.58947188  4.84871926\n",
            " 10.24434339  2.61804621  2.9983823   2.14066746  4.7137536   2.49632968\n",
            "  4.71594821  7.05155445  8.41921086  6.14651622  5.67350513  4.85206253\n",
            "  3.71102454 12.48722378  8.17080511  0.7813873   6.49915899  3.63260123\n",
            "  4.14465565  7.60208974  6.16682922  3.79850261  3.55892321  2.34805281\n",
            "  8.96910556  3.05444981  5.5187392  12.8379097   2.0965465   2.53305912\n",
            "  3.98873635  2.40353804 14.40913402  3.24358888  2.90035127  2.49255609\n",
            "  3.51414872 12.5943958   4.94348987 15.1912316   2.93978495  1.67895662\n",
            "  2.56467131  4.23954351  9.07764005  3.10609279 10.24433028  5.40096276\n",
            "  7.32198678  6.27044749  3.62698257  3.65693522  3.25520105  5.37036128\n",
            "  5.74481232 12.48894272  1.13696229  4.5735857  10.26466397  4.50628056\n",
            "  2.50553459  8.03019807  4.77310637  0.42937883  1.43166736  8.21965018\n",
            "  3.32219811  3.49149094  9.42805505  1.56972046  5.30535163  6.41587305\n",
            " 13.38391374  5.37113008  4.8227623   3.56310916  2.48844342  5.13336425\n",
            "  4.44867601  5.39832981  9.03426193  1.67829731 16.61108174  5.1488992\n",
            "  6.70170896  2.24877023  9.78745596  4.38783965  3.43657083  1.92672694\n",
            "  2.29395906  1.69965678  5.44102336  2.34095316  3.84118699 10.04059883\n",
            "  7.431281    0.90650024  9.49512019  5.67827089  9.88518464  2.86478298\n",
            " 12.58527181  4.08790936  6.24973066  3.06905512  1.97506524  9.59946895\n",
            "  2.78961817  1.53549133  9.00333822  8.37716772  4.18891863  5.12698987\n",
            "  4.7548488   6.97649256  6.53243272  1.04435844  5.00249739 15.48098538\n",
            "  7.7818002   5.63434428 11.33791536  2.24251816  2.9741789  10.11260682\n",
            "  7.09079181  8.47476204  6.13621547  5.50158983  5.25617973  2.94888802\n",
            " 10.09528441  1.27703418  7.79812038  2.0824977   7.0268578   5.40781446\n",
            "  5.13838552  0.50643757  1.18049764  2.29033501  2.5168145   2.77896252\n",
            "  5.79855155  2.05352167  5.12679737  1.80889592  9.72641006  2.96170578\n",
            " 11.42879992  4.11225314  7.6344028   0.84391955  3.23199755  3.35679271\n",
            "  4.25669939  5.02234322  4.89119668  1.19806086  2.25550055  1.85572501\n",
            "  2.10493875  8.56800051  5.55298467  6.51747514  4.11692466  2.97197269\n",
            "  0.68637726  6.39589421  5.31617224  5.46548692 14.71603592  2.70051541\n",
            "  2.89267951  1.88193085  2.76125627  3.62064623  6.85316673  2.74732017\n",
            "  4.33845669  6.81291997  2.30229527  5.58761246  3.46805335  4.95113422\n",
            "  7.33792892  4.12172994  7.46489272  5.09003967  8.48194785  3.54632712\n",
            "  2.40171375  7.84279956  4.20816572  5.31627789  2.42179193  2.45394508\n",
            "  3.60629319  3.98500615  8.06248355  4.06831758  3.11645635  2.8696711\n",
            "  1.2860469   3.23090316  7.40965562 12.96785066  3.67713786  2.91541312\n",
            "  4.24567363  4.47209267  5.53314578  7.30071655  1.01008612  2.97655276\n",
            " 10.95374228  6.83214251  2.06427918  1.5973197   9.38632394  3.15411532\n",
            "  7.69652575  4.75890198  4.46915658  7.83934577  4.00840288  2.65331714\n",
            "  3.74457074  0.99084363  7.43943198  2.99625192  2.95436896  2.57544193\n",
            "  7.03868815  9.34520979  1.39969836  4.14540042 19.24014891  6.28821559\n",
            " 13.23056872  3.05325749  7.17074329  3.32927089  3.81927253  3.27927761\n",
            "  7.0894488   2.09578572  7.63999412  4.46283542  2.99945027  4.80383276\n",
            "  3.37963997  1.68795168  4.76443318  3.06228576  6.51437864  3.19671148\n",
            " 15.42947088  3.9569105   2.18272456  4.03691167 11.1014849   5.33915359\n",
            "  6.24781499  7.01889915  5.29668702  4.37188711  0.91062638  3.00920752\n",
            "  2.9102838   7.6140713   3.07983725  2.4566706   6.08688311  1.41964069\n",
            "  2.82505654  2.50015215  0.69379733  4.16889036  4.50410745  2.1939999\n",
            "  6.89341517 13.4139817   7.13465092  1.91766225  1.97905985  1.51568453\n",
            "  8.84704106  9.35022026  9.22316978  8.15903563  6.40869036  3.09806117\n",
            "  3.28234178  3.51844541  6.27975324  0.255774    7.20568712  6.36647154\n",
            "  5.10405027  5.9703673   1.16592583  5.45947011  3.1477875  17.17821871\n",
            "  8.22182392  0.80083043  5.80965582  4.66321736  9.42890786 12.0489595\n",
            "  2.30918342  2.24674701  1.48908236  6.31562079  5.60261781  7.0113131\n",
            "  7.01858561  1.30463081  5.77343518  9.46014909  5.13558278  2.50662807\n",
            "  3.92005948  4.87095519  4.8005139  10.07989146  3.01186849  3.93449961\n",
            "  7.09476975  5.13005188  0.47175323  3.65146988  1.80690216  2.25360543\n",
            "  8.15770455  8.773628    5.19502694  5.09498252  8.13589766  9.59538818\n",
            "  3.7865354   0.62887139  5.05176191  2.38608285  2.6238973   2.98241197\n",
            "  5.62050949  4.56773668  2.80456957  3.21484588  3.79562786 13.75534289\n",
            "  9.12124078  2.70333882 20.73587476  1.29653384  2.61326785  4.01640168\n",
            "  4.8019432   1.41594745  4.02115944  8.44931553  1.65808881  9.74891738\n",
            "  3.17963977  8.67132706  8.59324867  1.76043842  7.4024427  12.9203492\n",
            "  3.79700445  6.5767622   2.1505045   5.08209857  6.54917022  4.68408771\n",
            "  8.42598322  2.09512972  2.60655503  2.99491052  8.1409225   3.5389301\n",
            "  3.28122987 15.03977605  3.01027274  2.9567874   4.52429957  8.50157788\n",
            " 12.22494821  1.71050512  6.06151862  7.34980803  3.61992843  3.57321766\n",
            "  1.9187129   4.41167646  6.69293936  7.41169523  6.72110731  3.06142838\n",
            "  1.6254627   7.02926503  6.85322596  6.91076109  2.66497828  6.09463917\n",
            "  8.14080468  3.64761242  4.37942918  4.65484646  5.21220851  9.1020743\n",
            "  3.74158985  6.20586139  4.99981222  4.29867437 13.94235714  3.20048762\n",
            "  4.80578242  3.27943213  3.46389541  4.13198042  4.19871116  3.8152826\n",
            " 16.68270961  4.79087374  9.23828063  2.15052286  7.23079647  3.04726748\n",
            "  1.71850534  0.88132925  4.22232929  4.94196937  7.17695391  5.41803459\n",
            "  9.21947566  8.2588148   1.59675351  5.52687965  6.74059949  5.17831303\n",
            "  1.62585551  3.17767734  4.49855694  4.39542375  8.66094315  5.99267984\n",
            "  4.32991822  4.71916098  3.39507083  6.25139904  1.20699634  9.83291703\n",
            "  9.98476917  3.77002162  5.75408253  3.64800501  2.75915786  1.90183508\n",
            "  4.35015832  8.38148499  4.49822875  7.318457    4.24982402  5.14822286\n",
            "  6.10141976  4.58775834  2.7626006  10.29193643]\n"
          ]
        }
      ]
    },
    {
      "cell_type": "markdown",
      "source": [
        "## Visualizar la densidad\n",
        "\n",
        "Es necesario un valor de grados de libertad $gl$ que lo exige la fórmula de densidad de chi cuadrada\n",
        "  \n",
        "Se generan números aleatorios y se ordenan para mandar llamar la función que visualiza la curva.\n",
        "\n",
        "\n"
      ],
      "metadata": {
        "id": "JhhgszqUxdZ2"
      }
    },
    {
      "cell_type": "code",
      "source": [
        "\n",
        "  # Mandar llamar la función para visualziar la densidad\n",
        "  # Se ordenan los números aleatorios\n",
        "  f_visualizar_dens_chi_cuadradada(np.sort(numeros_aleatorios), gl)"
      ],
      "metadata": {
        "colab": {
          "base_uri": "https://localhost:8080/",
          "height": 472
        },
        "id": "Tw8rRrjcwsqV",
        "outputId": "fb9292c0-c713-4107-b98f-2f17cd181859"
      },
      "execution_count": 12,
      "outputs": [
        {
          "output_type": "display_data",
          "data": {
            "text/plain": [
              "<Figure size 640x480 with 1 Axes>"
            ],
            "image/png": "[encoded data removed]"
          },
          "metadata": {}
        }
      ]
    },
    {
      "cell_type": "markdown",
      "source": [
        "## Aplicación de una chi cuadrada\n",
        "\n",
        "Pendiente ...\n",
        "\n",
        "Verificar el enlace Prueba de uniformidad: https://github.com/rpizarrog/simulacion/blob/main/python%20casos/CASO_02_prueba_de_uniformidad.ipynb\n",
        "\n",
        "Verificar el enlace: Prueba de normalidad: https://github.com/rpizarrog/simulacion/blob/main/python%20casos/Caso_04_Prueba_de_Shapiro_Wilk.ipynb\n",
        "\n",
        "Verificar prueba de independeinca basadao en prueba de póker: https://github.com/rpizarrog/simulacion/blob/main/python%20casos/Caso_09_Prueba_de_independencia_de_datos_basado_en_prueba_de_Poker.ipynb\n",
        "\n",
        "\n"
      ],
      "metadata": {
        "id": "CVrbT1cxyUvl"
      }
    },
    {
      "cell_type": "markdown",
      "source": [
        "# Interpretación\n",
        "\n",
        "¿Para qué se utiliza la distribución chi cuadrada?\n",
        "¿Cómo se observa la curva de una distribución chi cuadrada?\n",
        "\n"
      ],
      "metadata": {
        "id": "9K1O_WQy0REl"
      }
    }
  ]
}