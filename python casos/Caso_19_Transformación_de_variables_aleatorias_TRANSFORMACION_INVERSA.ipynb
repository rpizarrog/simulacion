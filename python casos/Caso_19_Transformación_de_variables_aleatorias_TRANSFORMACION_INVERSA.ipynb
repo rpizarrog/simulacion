{
  "nbformat": 4,
  "nbformat_minor": 0,
  "metadata": {
    "colab": {
      "provenance": [],
      "authorship_tag": "ABX9TyMUQK6/EemVjPEtjeZcl2lJ",
      "include_colab_link": true
    },
    "kernelspec": {
      "name": "python3",
      "display_name": "Python 3"
    },
    "language_info": {
      "name": "python"
    }
  },
  "cells": [
    {
      "cell_type": "markdown",
      "metadata": {
        "id": "view-in-github",
        "colab_type": "text"
      },
      "source": [
        "<a href=\"https://colab.research.google.com/github/rpizarrog/simulacion/blob/main/python%20casos/Caso_19_Transformaci%C3%B3n_de_variables_aleatorias_TRANSFORMACION_INVERSA.ipynb\" target=\"_parent\"><img src=\"https://colab.research.google.com/assets/colab-badge.svg\" alt=\"Open In Colab\"/></a>"
      ]
    },
    {
      "cell_type": "markdown",
      "source": [
        "# Transformación de variables aleatorias\n",
        "\n",
        "¿Qué significa transformar variables aletorias ?\n",
        "\n",
        "¿Para qué se utiliza transformar variables aleatorias?\n",
        "\n",
        "Que tipo de transformaciones de variables aleatorias se pueden hacer?\n",
        "\n",
        "Ejemplos en Python de transformar variables discretas a continuas.\n",
        "\n",
        "Descripción de cada ejercicio\n",
        "\n",
        "\n",
        "\n",
        "\n",
        "\n"
      ],
      "metadata": {
        "id": "nwoolIAkzRut"
      }
    },
    {
      "cell_type": "markdown",
      "source": [
        "# Fundamento teórico\n",
        "\n",
        "La transformación de variables aleatorias es un proceso fundamental en la estadística y la probabilidad, y se utiliza por varias razones, incluyendo:\n",
        "\n",
        "- Normalización: A menudo se requiere trabajar con distribuciones específicas, como la distribución normal estándar (media igual a 0 y desviación estándar igual a 1). La transformación se usa para convertir una variable aleatoria en una distribución normal estándar.\n",
        "\n",
        "- Simplificación: Algunas distribuciones son más fáciles de trabajar que otras. La transformación se utiliza para convertir variables aleatorias en distribuciones más simples o en distribuciones conocidas.\n",
        "\n",
        "- Comparación de datos: Cuando se desean comparar dos conjuntos de datos con diferentes distribuciones, se pueden transformar ambas distribuciones para que sean comparables.\n",
        "\n",
        "- Estabilización de varianza: En estadísticas, especialmente en análisis de regresión, es común que las varianzas de las variables dependientes no sean constantes en todo el rango de los valores predictores. La transformación se utiliza para estabilizar la varianza y hacer que los residuos sean homocedásticos.\n",
        "\n",
        "- Simplificación del cálculo: Algunas transformaciones simplifican los cálculos en análisis estadísticos y probabilísticos, lo que facilita la obtención de soluciones analíticas o aproximadas.\n",
        "\n",
        "- Conformidad con supuestos estadísticos: Algunos métodos estadísticos requieren que los datos cumplan ciertos supuestos (por ejemplo, normalidad o linealidad). La transformación puede ayudar a cumplir estos supuestos.\n",
        "\n",
        "- Detección de valores atípicos: La transformación a menudo se utiliza para resaltar valores atípicos (outliers) en un conjunto de datos.\n",
        "\n",
        "- Simplificación de distribuciones marginales: En el análisis de datos multivariados, la transformación se utiliza para simplificar las distribuciones marginales y hacer que los cálculos sean más manejables.\n"
      ],
      "metadata": {
        "id": "_-UiMPnJ1rns"
      }
    },
    {
      "cell_type": "markdown",
      "source": [
        "# Desarrollo\n",
        "\n",
        "El método de **transformación inversa** es una técnica utilizada para generar variables aleatorias con una distribución específica a partir de variables aleatorias uniformemente distribuidas. La idea es invertir la función de distribución acumulativa (CDF) de la distribución deseada.\n",
        "\n",
        "Proceso:\n",
        "\n",
        "Obtener la Función de Distribución Acumulativa Inversa (CDF inversa): Primero, necesitas la función de distribución acumulativa inversa de la distribución deseada. Esta es la función que toma valores entre 0 y 1 y devuelve los valores correspondientes de la variable aleatoria.\n",
        "\n",
        "- Generar Variables Aleatorias Uniformes:\n",
        "\n",
        "  - Generar $n$ números aleatorios uniformes en el rango [0, 1]. Estos números representarán las probabilidades acumulativas.\n",
        "\n",
        "- Aplicar la Transformación Inversa:\n",
        "\n",
        "  - Utiliza la CDF (probabilida acumulada)inversa para transformar los números aleatorios uniformes en valores de la variable aleatoria deseada.\n",
        "\n"
      ],
      "metadata": {
        "id": "iTvJh7vr0-ab"
      }
    },
    {
      "cell_type": "markdown",
      "source": [
        "## Cargar librerías"
      ],
      "metadata": {
        "id": "wz7Gh8D31C5D"
      }
    },
    {
      "cell_type": "code",
      "source": [
        "import numpy as np\n",
        "import matplotlib.pyplot as plt"
      ],
      "metadata": {
        "id": "27H8A9IGgnzJ"
      },
      "execution_count": 1,
      "outputs": []
    },
    {
      "cell_type": "markdown",
      "source": [
        "## Cargar funciones\n"
      ],
      "metadata": {
        "id": "oZlvRYuc1AiS"
      }
    },
    {
      "cell_type": "markdown",
      "source": [
        "## Ejercicio. Transformar uniforme a exponencial\n",
        "\n",
        "Transformar números aleatorios a una distribución exponencial\n",
        "\n",
        "\n"
      ],
      "metadata": {
        "id": "socaYBIk1Fvs"
      }
    },
    {
      "cell_type": "markdown",
      "source": [
        "### Inicializar variables"
      ],
      "metadata": {
        "id": "3BwrCb8GhUqI"
      }
    },
    {
      "cell_type": "code",
      "source": [
        "# Tasa de llegada (parámetro de la distribución exponencial)\n",
        "var_lambda = 2.0\n",
        "\n",
        "# Número de muestras a generar\n",
        "n = 100\n"
      ],
      "metadata": {
        "id": "GQMVM-fQg1Ln"
      },
      "execution_count": 9,
      "outputs": []
    },
    {
      "cell_type": "markdown",
      "source": [
        "### Generar aleatorio exponencial\n"
      ],
      "metadata": {
        "id": "6Z9dYsJRhCZY"
      }
    },
    {
      "cell_type": "code",
      "source": [
        "# Generar números aleatorios uniformes en [0, 1]\n",
        "numeros_aleatorios = np.random.rand(n)\n",
        "print(numeros_aleatorios)\n"
      ],
      "metadata": {
        "colab": {
          "base_uri": "https://localhost:8080/"
        },
        "id": "n-qIegiahFmE",
        "outputId": "bb1d7f25-2a5c-4afa-bf8a-5e08ba0541e2"
      },
      "execution_count": 13,
      "outputs": [
        {
          "output_type": "stream",
          "name": "stdout",
          "text": [
            "[0.40292978 0.35778759 0.18306899 0.81235696 0.569304   0.39922926\n",
            " 0.00602025 0.36305244 0.78567658 0.73267377 0.08791688 0.22252084\n",
            " 0.67479453 0.50303603 0.30205526 0.33498419 0.85932746 0.92652914\n",
            " 0.81419601 0.68270427 0.85056427 0.94319381 0.98510782 0.65253165\n",
            " 0.95576618 0.28101801 0.94591633 0.15317958 0.91608252 0.50729082\n",
            " 0.68188743 0.0927971  0.31851389 0.42060481 0.90761011 0.96572223\n",
            " 0.00872322 0.27767794 0.5728554  0.04649502 0.15520296 0.60670971\n",
            " 0.50699612 0.32798807 0.36913116 0.62168565 0.21613498 0.73466483\n",
            " 0.91371896 0.3933081  0.40441482 0.59070368 0.1472047  0.4182002\n",
            " 0.20615716 0.77573931 0.46269401 0.67126668 0.35085097 0.63347525\n",
            " 0.97572222 0.32524527 0.72729213 0.6731996  0.66856656 0.40884925\n",
            " 0.8550151  0.12985368 0.63558136 0.78175106 0.29739504 0.6068486\n",
            " 0.97922713 0.58888662 0.16228538 0.6609975  0.15774783 0.30676261\n",
            " 0.78153345 0.34987593 0.51022397 0.42154527 0.98498721 0.75804549\n",
            " 0.98555956 0.25384484 0.13478657 0.28803375 0.19217479 0.30750516\n",
            " 0.40849835 0.30626041 0.85108622 0.07661027 0.06835706 0.00516828\n",
            " 0.86014714 0.66786818 0.275859   0.93258867]\n"
          ]
        }
      ]
    },
    {
      "cell_type": "markdown",
      "source": [
        "### Aplicar la transformación\n"
      ],
      "metadata": {
        "id": "QYWGOaT4hYv_"
      }
    },
    {
      "cell_type": "markdown",
      "source": [
        "$$\n",
        " x_{exponencial} = - log{\\frac{1 - x_{uniforme}}{λ}}\n",
        "$$\n",
        "\n",
        "El logaritmo natural *log* es la inversa de la función exponencial, es el logaritmo natural es el logaritmo en base *e*.\n",
        "\n",
        "En *python* con numpy con la función *log(x)*"
      ],
      "metadata": {
        "id": "SwmYDoSphfef"
      }
    },
    {
      "cell_type": "code",
      "source": [
        "# Aplicar la transformada inversa para convertir a exponencial\n",
        "numeros_aleatorios_exponenciales = -np.log(1 - numeros_aleatorios) / var_lambda\n",
        "print(numeros_aleatorios_exponenciales)"
      ],
      "metadata": {
        "colab": {
          "base_uri": "https://localhost:8080/"
        },
        "id": "MAJNzE3phaxi",
        "outputId": "22607611-17f4-4d0e-fc22-d89458006a29"
      },
      "execution_count": 11,
      "outputs": [
        {
          "output_type": "stream",
          "name": "stdout",
          "text": [
            "[1.32610696e+00 3.08422488e-01 8.88254389e-02 2.03619422e-01\n",
            " 2.26708214e-02 9.95045278e-01 1.29259689e-01 3.05865134e-01\n",
            " 4.93672428e-01 9.29021935e-01 2.23295283e-01 1.57024941e+00\n",
            " 2.68337280e-01 1.60197230e-01 3.90087708e-01 2.49109293e-01\n",
            " 1.20187374e-01 1.33996542e+00 6.32912223e-02 3.05173889e-01\n",
            " 1.58197000e+00 1.85241073e-01 1.30692786e-01 1.09856818e-02\n",
            " 2.84964100e-01 8.65690271e-02 7.24241712e-01 4.42495032e-01\n",
            " 1.15941507e+00 3.24848036e-01 2.39925647e-01 1.54113283e-01\n",
            " 1.87096652e-01 5.34710744e-01 3.22335777e-01 3.12471148e-02\n",
            " 2.07209983e-01 6.61644143e-02 4.56306229e-01 3.22370395e-01\n",
            " 1.62461275e+00 1.26723182e-01 4.78215352e-01 7.60977170e-03\n",
            " 4.27892360e+00 1.67387607e-01 2.69778074e-01 5.58349208e-01\n",
            " 3.99195790e-03 1.12966951e+00 9.36633111e-02 1.77207746e-02\n",
            " 4.41287336e-01 7.45788159e-01 7.22259299e-02 2.30255416e-01\n",
            " 1.60897481e-01 4.15664661e-01 6.25497955e-01 9.23634146e-01\n",
            " 4.09145410e-01 3.59451837e-02 1.21582147e+00 8.66497917e-01\n",
            " 2.80472220e-02 2.53621875e-01 9.97318084e-03 1.27173259e+00\n",
            " 9.87514500e-02 2.62537457e-01 1.17501425e-01 4.47345157e-01\n",
            " 2.44932651e-01 1.68473240e+00 1.65334290e-02 7.51480351e-01\n",
            " 2.60761679e-01 6.13658239e-01 4.00807122e-02 1.67966620e-01\n",
            " 4.88285352e-01 2.30316125e-01 2.94758450e-01 8.19251381e-02\n",
            " 3.70067714e-01 3.76698003e-01 5.65153612e-01 5.36279213e-01\n",
            " 3.85247823e-01 1.06201362e-01 1.46463598e-01 1.16582471e-01\n",
            " 3.78357001e-01 1.94050633e-01 1.06697837e+00 9.56590802e-03\n",
            " 1.72605239e+00 1.78829509e-01 3.56553663e-02 1.21994438e-01]\n"
          ]
        }
      ]
    },
    {
      "cell_type": "markdown",
      "source": [
        "### Visualizar histograma y densidad de la función exponencial\n"
      ],
      "metadata": {
        "id": "kJYsgzAOiPk5"
      }
    },
    {
      "cell_type": "code",
      "source": [
        "# Visualizar la distribución exponencial\n",
        "plt.hist(numeros_aleatorios_exponenciales, bins=30, density=True, alpha=0.6, color='b', label='Distribución Exponencial')\n",
        "\n",
        "# Graficar la función de densidad de probabilidad exponencial\n",
        "x = np.linspace(0, 5, 100)\n",
        "pdf = var_lambda * np.exp(-var_lambda * x)\n",
        "plt.plot(x, pdf, 'r-', lw=2, label='PDF Exponencial')\n",
        "\n",
        "plt.xlabel('Valores')\n",
        "plt.ylabel('Densidad de Probabilidad')\n",
        "plt.title('Transformación de Uniforme a Exponencial')\n",
        "plt.legend()\n",
        "plt.show()"
      ],
      "metadata": {
        "colab": {
          "base_uri": "https://localhost:8080/",
          "height": 472
        },
        "id": "U1ozbUqHiTAv",
        "outputId": "ec203c68-4cf9-4515-ba26-364ad64779a2"
      },
      "execution_count": 12,
      "outputs": [
        {
          "output_type": "display_data",
          "data": {
            "text/plain": [
              "<Figure size 640x480 with 1 Axes>"
            ],
            "image/png": "[encoded data removed]"
          },
          "metadata": {}
        }
      ]
    },
    {
      "cell_type": "markdown",
      "source": [
        "# Inerpretación del caso\n",
        "\n",
        "¿Para qué se utiliza una función de transformación inversa?, ¿en dónde se aplica? y ¿cómo se interpreta?\n",
        "\n",
        "La transformación inversa se utiliza en el ámbito de la generación de números aleatorios y simulación estocástica.\n",
        "\n",
        "Esta técnica es particularmente valiosa cuando se necesita generar variables aleatorias con una distribución específica, y se basa en la relación entre las distribuciones uniformes y otras distribuciones.\n",
        "\n",
        "La transformación inversa es una técnica para convertir números aleatorios uniformes en el intervalo [0, 1] en números aleatorios que siguen una distribución particular. La interpretación es que, dado que los números aleatorios uniformes son fáciles de generar, esta técnica proporciona una manera eficiente de obtener variables aleatorias con cualquier distribución deseada.\n",
        "\n",
        "Este caso presentó la transformación invesa de una variable aleatoria uniorme entre o y 1 a una variable aleatoria exponencial."
      ],
      "metadata": {
        "id": "K6DFRkUG08RQ"
      }
    },
    {
      "cell_type": "markdown",
      "source": [
        "# Bibliografía\n",
        "\n",
        "Ejercicios extraídos de chat.gpt: https://chat.openai.com/c/ab0b8e10-eef1-4a48-95b8-f44c287c5ded"
      ],
      "metadata": {
        "id": "3lvxH-yyjGz_"
      }
    }
  ]
}