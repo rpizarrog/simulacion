{
  "nbformat": 4,
  "nbformat_minor": 0,
  "metadata": {
    "colab": {
      "provenance": [],
      "authorship_tag": "ABX9TyNISFZZx0LYYqnSXkqWvkal",
      "include_colab_link": true
    },
    "kernelspec": {
      "name": "python3",
      "display_name": "Python 3"
    },
    "language_info": {
      "name": "python"
    }
  },
  "cells": [
    {
      "cell_type": "markdown",
      "metadata": {
        "id": "view-in-github",
        "colab_type": "text"
      },
      "source": [
        "<a href=\"https://colab.research.google.com/github/rpizarrog/simulacion/blob/main/python%20casos/Caso_08_Prueba_de_huecos.ipynb\" target=\"_parent\"><img src=\"https://colab.research.google.com/assets/colab-badge.svg\" alt=\"Open In Colab\"/></a>"
      ]
    },
    {
      "cell_type": "markdown",
      "source": [
        "# Objetivo\n",
        "\n",
        "Realiza prueba de independencia de una secuencia de datos pseudoaleatorio.\n",
        "\n",
        "# Descripcón\n",
        "\n",
        "* Se cargan librerías.\n",
        "* Se crear los datos a parir de una lista de numeros que puede ser npumeros generados de manera aleatoria.\n",
        "* Se genera secuenia de 0's y 1's y se determinan los huecos.\n",
        "* Se construye una tabla de frecuencia con la frecuencia de valores que hay de cada hueco. Cuantos huecos de 0, cupantos 1 cúantos de 2, sucesivamente.\n",
        "* Se construye la tabla de frecuencia con los valores observados, esperados y chi cuadrada\n",
        "* Se determinan las sumatorias\n",
        "* Se establece el valor de alfa de significancia.\n",
        "* Se etablece hipótesis nula $H_0$  y alternativa $H_a$.\n",
        "* Se contrasta el valor calculado de chi cuadada cotra el valor chi cuadrda de acuerdo con el valor chi cuadrada calculado de acuerdo con la distribución chi cuadrada por la derecha.\n",
        "* De acuerdo al contraste se toma la decisión de aceptar la $H_0$ de si los datos son independientes.\n",
        "\n",
        "\n"
      ],
      "metadata": {
        "id": "ZFml0JttnnC5"
      }
    },
    {
      "cell_type": "markdown",
      "source": [
        "# Conceptos\n",
        "\n",
        "Pendiente ..."
      ],
      "metadata": {
        "id": "afTYhEBWo00Y"
      }
    },
    {
      "cell_type": "markdown",
      "source": [
        "# Desarrollo"
      ],
      "metadata": {
        "id": "6KeLQ4p8o5L1"
      }
    },
    {
      "cell_type": "markdown",
      "source": [
        "## Librerías\n"
      ],
      "metadata": {
        "id": "aTSzw52jW3m1"
      }
    },
    {
      "cell_type": "code",
      "source": [
        "import numpy as np\n",
        "import pandas as pd\n",
        "from scipy.stats import chi2"
      ],
      "metadata": {
        "id": "aPBjBjM2XDOl"
      },
      "execution_count": 49,
      "outputs": []
    },
    {
      "cell_type": "markdown",
      "source": [
        "## Crear funciones\n",
        "\n"
      ],
      "metadata": {
        "id": "0WKFTfYTZUYe"
      }
    },
    {
      "cell_type": "code",
      "source": [
        "def f_secuencia(numeros, li, ls):\n",
        "  # Crea la secuencia binaria\n",
        "  secuencia = np.where((datos >= li) & (datos <= ls), 1, 0)\n",
        "  return secuencia\n",
        "\n",
        "def f_huecos(secuencia):\n",
        "  huecos = 0\n",
        "  cuantos_ceros = []\n",
        "\n",
        "  # Contar los huecos\n",
        "  i = 0\n",
        "  while i < (n - 1):\n",
        "    if secuencia[i] == 1:\n",
        "        huecos += 1\n",
        "        j = i + 1\n",
        "        ceros = 0\n",
        "        while j < n and secuencia[j] == 0:\n",
        "            ceros += 1\n",
        "            j += 1\n",
        "        cuantos_ceros.append(ceros)\n",
        "    i += 1\n",
        "  return huecos, cuantos_ceros\n",
        "# print(\"Número de huecos entre unos consecutivos:\", huecos)\n",
        "# print(\"Cuántos ceros\")\n",
        "# print(cuantos_ceros)\n",
        "\n",
        "def f_tabla_frec_huecos (cuantos_ceros, huecos, li, ls):\n",
        "  # Determina los valores mínimo y máximo en cuantos_ceros\n",
        "  minimo_huecos = min(cuantos_ceros)\n",
        "  maximo_huecos = max(cuantos_ceros) + 1\n",
        "\n",
        "  # Crea una lista de rango desde 0 hasta 4\n",
        "  rango = list(range(maximo_huecos+1))\n",
        "\n",
        "  # Crea un diccionario para contar la frecuencia de cada número\n",
        "  frecuencia = {valor: cuantos_ceros.count(valor) for valor in rango}\n",
        "\n",
        "  # Crea un DataFrame a partir del diccionario\n",
        "  tabla = pd.DataFrame(list(frecuencia.items()), columns=['Xi', 'Frec_Oi'])\n",
        "\n",
        "  # Ordenar la tabla de frecuencias por el número de ceros Xi:\n",
        "  tabla = tabla.sort_values(by='Xi')\n",
        "\n",
        "  # Calcular Frec_Ei\n",
        "  alfa = li\n",
        "  beta = ls\n",
        "  h = huecos\n",
        "\n",
        "  Frec_Ei = []\n",
        "  for i in range(maximo_huecos+1):\n",
        "    #print (i)\n",
        "    if i < maximo_huecos:\n",
        "      Frec_Ei.append(h * (beta - alfa) * (1 - (beta - alfa)) ** i)\n",
        "    else:\n",
        "      Frec_Ei.append(h * (1 - (beta - alfa)) ** i)\n",
        "\n",
        "  tabla['Frec_Ei'] = Frec_Ei\n",
        "\n",
        "  tabla['chi_cuad'] = (tabla['Frec_Ei'] - tabla['Frec_Oi']) ** 2 / (tabla['Frec_Ei'])\n",
        "  # Calcular el valor Esperado Frec_Ei\n",
        "\n",
        "  # Las sumatorias:\n",
        "  suma_Ei = sum(tabla['Frec_Ei'])\n",
        "  suma_Oi = sum(tabla['Frec_Oi'])\n",
        "  suma_chi_cuad = sum(tabla['chi_cuad'])\n",
        "  print (\"Suma de Ei\", suma_Ei)\n",
        "  print (\"Suma de Oi\", suma_Ei)\n",
        "  print (\"Suma de chi_cuadi\", suma_chi_cuad)\n",
        "  return tabla, suma_chi_cuad\n"
      ],
      "metadata": {
        "id": "gjImzF2wZhRI"
      },
      "execution_count": 50,
      "outputs": []
    },
    {
      "cell_type": "markdown",
      "source": [
        "## Cargar o crear datos presudoaleatorios"
      ],
      "metadata": {
        "id": "VRi1d6-VW5i-"
      }
    },
    {
      "cell_type": "code",
      "source": [
        "\n",
        "# Los datos\n",
        "datos = np.array([0.7, 0.08, 0.29, 0.04, 0.33, 0.93, 0.04, 0.06, 0.4, 0.72,\n",
        "                  0.19, 0.21, 0.01, 0.53, 0.73, 0.99, 0.76, 0.2, 0.39, 0.5,\n",
        "                  0.02, 0.4, 0.33, 0.89, 0.57, 0.19, 0.63, 0.54, 0.49, 0.76,\n",
        "                  0.19, 0.74, 0.34, 0.87, 0.46, 0.58, 0.81, 0.74, 0.06, 0.68,\n",
        "                  0.12, 0.86, 0.87, 0.75, 0.53, 0.09, 0.1, 0.6, 0.05, 0.34])\n",
        "print(datos)"
      ],
      "metadata": {
        "colab": {
          "base_uri": "https://localhost:8080/"
        },
        "id": "9OLuXkiiXKF8",
        "outputId": "636215e6-c3aa-4870-849b-6890000d24cb"
      },
      "execution_count": 51,
      "outputs": [
        {
          "output_type": "stream",
          "name": "stdout",
          "text": [
            "[0.7  0.08 0.29 0.04 0.33 0.93 0.04 0.06 0.4  0.72 0.19 0.21 0.01 0.53\n",
            " 0.73 0.99 0.76 0.2  0.39 0.5  0.02 0.4  0.33 0.89 0.57 0.19 0.63 0.54\n",
            " 0.49 0.76 0.19 0.74 0.34 0.87 0.46 0.58 0.81 0.74 0.06 0.68 0.12 0.86\n",
            " 0.87 0.75 0.53 0.09 0.1  0.6  0.05 0.34]\n"
          ]
        }
      ]
    },
    {
      "cell_type": "markdown",
      "source": [
        "## Crear la secuencia de 0's y 1's\n",
        "\n",
        "La secuencia se crea con base en los rangos con el valor de límite inferior y superior alfa y beta en término de la fórmula.\n",
        "\n",
        "$$\n",
        "alfa = \\alpha = 0.3\n",
        "$$\n",
        "\n",
        "$$\n",
        "beta = \\beta = 0.8 \\therefore\n",
        "$$\n",
        "\n",
        "$$\n",
        "\\alpha \\text {, debe ser menor que }\\beta\n",
        "$$\n",
        "\n",
        "$$\n",
        "\\alpha < \\beta\n",
        "$$\n"
      ],
      "metadata": {
        "id": "1nPKlAItXQL1"
      }
    },
    {
      "cell_type": "code",
      "source": [
        "# Establece los umbrales\n",
        "li = 0.3\n",
        "ls = 0.8\n",
        "\n",
        "# Crea la secuencia binaria\n",
        "secuencia = f_secuencia(datos, li, ls )\n",
        "\n",
        "n = len(secuencia)\n",
        "print(n)\n",
        "print(secuencia)\n",
        "#print(np.array(secuencia).reshape(5, 10))\n"
      ],
      "metadata": {
        "colab": {
          "base_uri": "https://localhost:8080/"
        },
        "id": "ESZPuUdSYRJ0",
        "outputId": "1b2357cc-112d-49e3-e4ed-ffac1c18fba7"
      },
      "execution_count": 52,
      "outputs": [
        {
          "output_type": "stream",
          "name": "stdout",
          "text": [
            "50\n",
            "[1 0 0 0 1 0 0 0 1 1 0 0 0 1 1 0 1 0 1 1 0 1 1 0 1 0 1 1 1 1 0 1 1 0 1 1 0\n",
            " 1 0 1 0 0 0 1 1 0 0 1 0 1]\n"
          ]
        }
      ]
    },
    {
      "cell_type": "markdown",
      "source": [
        "## Contar los 0's y 0's para determinar frecuencias"
      ],
      "metadata": {
        "id": "nuffruSYYZBN"
      }
    },
    {
      "cell_type": "code",
      "source": [
        "huecos, cuantos_ceros, = f_huecos(secuencia)\n",
        "print(\"Número de huecos entre unos consecutivos:\", huecos)\n",
        "print(\"Cuántos y como están la frecuencia de huecos ceros\")\n",
        "print(cuantos_ceros)"
      ],
      "metadata": {
        "colab": {
          "base_uri": "https://localhost:8080/"
        },
        "id": "857LVIkxas7-",
        "outputId": "0f7b18f1-18ca-4390-b6bc-846ac8d29c21"
      },
      "execution_count": 53,
      "outputs": [
        {
          "output_type": "stream",
          "name": "stdout",
          "text": [
            "Número de huecos entre unos consecutivos: 25\n",
            "Cuántos y como están la frecuencia de huecos ceros\n",
            "[3, 3, 0, 3, 0, 1, 1, 0, 1, 0, 1, 1, 0, 0, 0, 1, 0, 1, 0, 1, 1, 3, 0, 2, 1]\n"
          ]
        }
      ]
    },
    {
      "cell_type": "markdown",
      "source": [
        "## Crear tabla de frecuencias\n",
        "\n",
        "Se crea la tabla de frecuencias con los valores observados y esperados\n",
        "\n",
        "El último registro se refiere a que la frecuencia esperada sea mayr o igual que el valor de $X_i$.\n",
        "\n",
        "$$\n",
        "Ei = h \\cdot (\\alpha - \\beta) \\cdot [1 - (\\alpha - \\beta)]^i\n",
        "$$\n",
        "\n",
        "$$\n",
        "\\chi^{2}_{o} = \\frac{(Ei - Oi)^2}{Ei}\n",
        "$$"
      ],
      "metadata": {
        "id": "EMhR8J9aYmwN"
      }
    },
    {
      "cell_type": "code",
      "source": [
        "tabla, suma_chi_cuad = f_tabla_frec_huecos(cuantos_ceros, huecos, li, ls)\n",
        "print(tabla)\n",
        "print (\"Suma de chi_cuadi\", suma_chi_cuad)\n"
      ],
      "metadata": {
        "colab": {
          "base_uri": "https://localhost:8080/"
        },
        "id": "VZEC46llcJf4",
        "outputId": "28ac7c9d-73f0-4392-879e-c04db5da564e"
      },
      "execution_count": 54,
      "outputs": [
        {
          "output_type": "stream",
          "name": "stdout",
          "text": [
            "Suma de Ei 25.0\n",
            "Suma de Oi 25.0\n",
            "Suma de chi_cuadi 9.56\n",
            "   Xi  Frec_Oi  Frec_Ei  chi_cuad\n",
            "0   0       10  12.5000    0.5000\n",
            "1   1       10   6.2500    2.2500\n",
            "2   2        1   3.1250    1.4450\n",
            "3   3        4   1.5625    3.8025\n",
            "4   4        0   1.5625    1.5625\n",
            "Suma de chi_cuadi 9.56\n"
          ]
        }
      ]
    },
    {
      "cell_type": "markdown",
      "source": [
        "## Constrastar chi cuadrada\n",
        "\n",
        "Contrastar el valor de chi cuadrada calculado contra el valor de chi cuadrada de acuerdo con el valor de significanacia de alfa cola a la derecha de la distribucón chi cuadrada"
      ],
      "metadata": {
        "id": "sQNAkPGilWeR"
      }
    },
    {
      "cell_type": "code",
      "execution_count": 55,
      "metadata": {
        "colab": {
          "base_uri": "https://localhost:8080/"
        },
        "id": "_EfA37FQLnCh",
        "outputId": "12f75f86-f483-4069-cbc7-4977e8099562"
      },
      "outputs": [
        {
          "output_type": "stream",
          "name": "stdout",
          "text": [
            "valor_prueba_chi: 9.487729036781154\n",
            "Se rechaza H0 y se acepta Ha. Los datos no son independientes\n"
          ]
        }
      ],
      "source": [
        "\n",
        "# Calcular el etadístico de prueba de chi cuadrada\n",
        "confianza = 0.95\n",
        "alfa_significancia = 1 - confianza\n",
        "\n",
        "gl = intervalos = len(tabla) - 1 # Par ael valor de grados de libertad\n",
        "valor_prueba_chi = chi2.ppf(1 - alfa_significancia, df=gl)\n",
        "print(\"valor_prueba_chi:\", valor_prueba_chi)\n",
        "\n",
        "# Realizar el contraste\n",
        "H0 = \"Los datos son independientes\"\n",
        "Ha = \"Los datos no son independientes\"\n",
        "\n",
        "if suma_chi_cuad < valor_prueba_chi:\n",
        "    decision = f\"Se acepta H0. {H0}\"\n",
        "else:\n",
        "    decision = f\"Se rechaza H0 y se acepta Ha. {Ha}\"\n",
        "\n",
        "print(decision)\n"
      ]
    },
    {
      "cell_type": "markdown",
      "source": [
        "## Otros datos\n"
      ],
      "metadata": {
        "id": "eRxchbRPk5M9"
      }
    },
    {
      "cell_type": "code",
      "source": [
        "datos = np.array([5, 0, 3, 2, 4, 7, 6, 9, 8, 6, 5])\n",
        "print(datos)\n",
        "\n",
        "\n",
        "# Establece los umbrales\n",
        "li = 3\n",
        "ls = 8\n",
        "\n",
        "# Crea la secuencia binaria\n",
        "secuencia = f_secuencia(datos, li, ls )\n",
        "n = len(secuencia)\n",
        "print(n)\n",
        "print(secuencia)\n",
        "\n",
        "# Huecos\n",
        "huecos, cuantos_ceros, = f_huecos(secuencia)\n",
        "print(\"Número de huecos entre unos consecutivos:\", huecos)\n",
        "print(\"Cuántos y como están la frecuencia de huecos ceros\")\n",
        "print(cuantos_ceros)\n",
        "\n",
        "# Tabla\n",
        "tabla, suma_chi_cuad = f_tabla_frec_huecos(cuantos_ceros, huecos, li, ls)\n",
        "print(tabla)\n",
        "print (\"Suma de chi_cuadi\", suma_chi_cuad)\n",
        "\n",
        "# Calcular el etadístico de prueba de chi cuadrada\n",
        "confianza = 0.95\n",
        "alfa_significancia = 1 - confianza\n",
        "\n",
        "gl = intervalos = len(tabla) - 1 # Par ael valor de grados de libertad\n",
        "valor_prueba_chi = chi2.ppf(1 - alfa_significancia, df=gl)\n",
        "print(\"valor_prueba_chi:\", valor_prueba_chi)\n",
        "\n",
        "# Realizar el contraste\n",
        "H0 = \"Los datos son independientes\"\n",
        "Ha = \"Los datos no son independientes\"\n",
        "\n",
        "if suma_chi_cuad < valor_prueba_chi:\n",
        "    decision = f\"Se acepta H0. {H0}\"\n",
        "else:\n",
        "    decision = f\"Se rechaza H0 y se acepta Ha. {Ha}\"\n",
        "\n",
        "print(decision)\n"
      ],
      "metadata": {
        "colab": {
          "base_uri": "https://localhost:8080/"
        },
        "id": "XpknId3kk6tz",
        "outputId": "2f82d090-8e2b-4392-a691-42a0a60228cd"
      },
      "execution_count": 58,
      "outputs": [
        {
          "output_type": "stream",
          "name": "stdout",
          "text": [
            "[5 0 3 2 4 7 6 9 8 6 5]\n",
            "11\n",
            "[1 0 1 0 1 1 1 0 1 1 1]\n",
            "Número de huecos entre unos consecutivos: 7\n",
            "Cuántos y como están la frecuencia de huecos ceros\n",
            "[1, 1, 0, 0, 1, 0, 0]\n",
            "Suma de Ei 7\n",
            "Suma de Oi 7\n",
            "Suma de chi_cuadi -6.607142857142861\n",
            "   Xi  Frec_Oi  Frec_Ei    chi_cuad\n",
            "0   0        4       35   27.457143\n",
            "1   1        3     -140 -146.064286\n",
            "2   2        0      112  112.000000\n",
            "Suma de chi_cuadi -6.607142857142861\n",
            "valor_prueba_chi: 5.991464547107979\n",
            "Se acepta H0. Los datos son independientes\n"
          ]
        }
      ]
    },
    {
      "cell_type": "markdown",
      "source": [
        "## Visualizando prueba\n"
      ],
      "metadata": {
        "id": "9_7m1n2QoxB3"
      }
    },
    {
      "cell_type": "code",
      "source": [
        "# Visualizar prueba\n",
        "# Pendiente con chi cuadrada"
      ],
      "metadata": {
        "id": "xf39VvYvoy3W"
      },
      "execution_count": null,
      "outputs": []
    },
    {
      "cell_type": "markdown",
      "source": [
        "# Interpretación\n",
        "\n",
        "pendiente ...."
      ],
      "metadata": {
        "id": "63VVT72Do7zp"
      }
    }
  ]
}