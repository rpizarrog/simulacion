{
  "nbformat": 4,
  "nbformat_minor": 0,
  "metadata": {
    "colab": {
      "provenance": [],
      "authorship_tag": "ABX9TyNEsSzY/DgWLZNBcYonDYVG",
      "include_colab_link": true
    },
    "kernelspec": {
      "name": "python3",
      "display_name": "Python 3"
    },
    "language_info": {
      "name": "python"
    }
  },
  "cells": [
    {
      "cell_type": "markdown",
      "metadata": {
        "id": "view-in-github",
        "colab_type": "text"
      },
      "source": [
        "<a href=\"https://colab.research.google.com/github/rpizarrog/simulacion/blob/main/python%20casos/Caso_12_Variables_aleatorias_discretas.ipynb\" target=\"_parent\"><img src=\"https://colab.research.google.com/assets/colab-badge.svg\" alt=\"Open In Colab\"/></a>"
      ]
    },
    {
      "cell_type": "markdown",
      "source": [
        "# Objetivo\n",
        "\n",
        "Visualizar variables discretas con las distribuciones discretas."
      ],
      "metadata": {
        "id": "CuiskwT36JIh"
      }
    },
    {
      "cell_type": "markdown",
      "source": [
        "# Cargar librerías\n"
      ],
      "metadata": {
        "id": "PNa6MemT6T3B"
      }
    },
    {
      "cell_type": "code",
      "source": [
        "from scipy.stats import poisson\n",
        "from scipy.stats import hypergeom\n",
        "from scipy.stats import binom\n",
        "import matplotlib.pyplot as plt\n",
        "import numpy as np"
      ],
      "metadata": {
        "id": "MXH2QaFX6V9o"
      },
      "execution_count": 18,
      "outputs": []
    },
    {
      "cell_type": "markdown",
      "source": [
        "# Desarrollo\n",
        "\n",
        "Visualizar distribuciones discretas de probabilidad."
      ],
      "metadata": {
        "id": "As9PSEMD8Ygu"
      }
    },
    {
      "cell_type": "markdown",
      "source": [
        "## Distribución binomial\n"
      ],
      "metadata": {
        "id": "7_r-MRal6u0W"
      }
    },
    {
      "cell_type": "code",
      "source": [
        "\n",
        "# Parámetros de la distribución binomial\n",
        "n = 10  # Número de ensayos\n",
        "p = 0.3  # Probabilidad de éxito en cada ensayo\n",
        "\n",
        "# Generar valores aleatorios de la distribución binomial\n",
        "valores_aleatorios = binom.rvs(n=n, p=p, size=1000)\n",
        "\n",
        "# Visualizar el histograma de los valores generados\n",
        "plt.hist(valores_aleatorios, bins=np.arange(0, n + 2) - 0.5, density=True, rwidth=0.8)\n",
        "plt.title(\"Distribución Binomial (n=10, p=0.3)\")\n",
        "plt.xticks(range(n + 1))\n",
        "plt.xlabel(\"Número de Éxitos\")\n",
        "plt.ylabel(\"Probabilidad\")\n",
        "plt.show()\n"
      ],
      "metadata": {
        "colab": {
          "base_uri": "https://localhost:8080/",
          "height": 472
        },
        "id": "gxWiu4S3611V",
        "outputId": "d03f8c8e-5c67-4ef1-b079-90f87610ac5b"
      },
      "execution_count": 19,
      "outputs": [
        {
          "output_type": "display_data",
          "data": {
            "text/plain": [
              "<Figure size 640x480 with 1 Axes>"
            ],
            "image/png": "[encoded data removed]"
          },
          "metadata": {}
        }
      ]
    },
    {
      "cell_type": "markdown",
      "source": [
        "## Distribución hipergeométrica\n",
        "\n",
        "Suponer que se tiene una baraja de cartas con 52 cartas, de las cuales 4 son ases (éxito) y 48 no son ases (fracaso). Se desea calcular la probabilidad de obtener exactamente 2 ases en una mano de 5 cartas seleccionadas al azar."
      ],
      "metadata": {
        "id": "aIDnJioy6w9W"
      }
    },
    {
      "cell_type": "code",
      "source": [
        "\n",
        "\n",
        "# Parámetros de la distribución hipergeométrica\n",
        "N = 52  # Tamaño de la población\n",
        "K = 4   # Número de elementos de tipo \"éxito\" en la población\n",
        "n = 5   # Tamaño de la muestra\n",
        "\n",
        "# Calcular la probabilidad de obtener exactamente 2 ases\n",
        "x = 2  # Número de éxitos deseados\n",
        "probabilidad = hypergeom.pmf(x, N, K, n)\n",
        "\n",
        "# Visualizar la probabilidad\n",
        "print(f\"La probabilidad de obtener exactamente 2 ases en una muestra de 5 cartas es: {probabilidad:.4f}\")\n"
      ],
      "metadata": {
        "colab": {
          "base_uri": "https://localhost:8080/"
        },
        "id": "d6DF3Tse6ztt",
        "outputId": "a870acb6-ca6e-4edd-cf37-8abe392b4124"
      },
      "execution_count": 20,
      "outputs": [
        {
          "output_type": "stream",
          "name": "stdout",
          "text": [
            "La probabilidad de obtener exactamente 2 ases en una muestra de 5 cartas es: 0.0399\n"
          ]
        }
      ]
    },
    {
      "cell_type": "markdown",
      "source": [
        "## Distribución Poisson"
      ],
      "metadata": {
        "id": "xvD_Xnd36a6u"
      }
    },
    {
      "cell_type": "code",
      "source": [
        "\n",
        "# Parámetro de la distribución de Poisson (lambda)\n",
        "mu_lambda = 3\n",
        "\n",
        "# Generar valores aleatorios de la distribución de Poisson\n",
        "valores_aleatorios = poisson.rvs(mu=mu_lambda, size=1000)\n",
        "\n",
        "# Visualizar el histograma de los valores generados\n",
        "plt.hist(valores_aleatorios, bins=20, density=True)\n",
        "plt.title(\"Distribución de Poisson\")\n",
        "plt.show()\n"
      ],
      "metadata": {
        "colab": {
          "base_uri": "https://localhost:8080/",
          "height": 452
        },
        "id": "DRuIPuv46OE-",
        "outputId": "e445dc10-5fa7-4d1c-d2d2-beb614da4fc1"
      },
      "execution_count": 21,
      "outputs": [
        {
          "output_type": "display_data",
          "data": {
            "text/plain": [
              "<Figure size 640x480 with 1 Axes>"
            ],
            "image/png": "[encoded data removed]"
          },
          "metadata": {}
        }
      ]
    },
    {
      "cell_type": "markdown",
      "source": [
        "# Interpretación del caso\n",
        "\n",
        "Pendiente"
      ],
      "metadata": {
        "id": "OZfCUFNw9D9O"
      }
    }
  ]
}