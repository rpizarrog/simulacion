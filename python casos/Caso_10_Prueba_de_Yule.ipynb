{
  "nbformat": 4,
  "nbformat_minor": 0,
  "metadata": {
    "colab": {
      "provenance": [],
      "authorship_tag": "ABX9TyNJXCUTQpmDhwo972NpvDga",
      "include_colab_link": true
    },
    "kernelspec": {
      "name": "python3",
      "display_name": "Python 3"
    },
    "language_info": {
      "name": "python"
    }
  },
  "cells": [
    {
      "cell_type": "markdown",
      "metadata": {
        "id": "view-in-github",
        "colab_type": "text"
      },
      "source": [
        "<a href=\"https://colab.research.google.com/github/rpizarrog/simulacion/blob/main/python%20casos/Caso_10_Prueba_de_Yule.ipynb\" target=\"_parent\"><img src=\"https://colab.research.google.com/assets/colab-badge.svg\" alt=\"Open In Colab\"/></a>"
      ]
    },
    {
      "cell_type": "markdown",
      "source": [
        "# Objetivo\n",
        "\n",
        "Determinar e interpretar la prueba de Yule\n",
        "\n",
        "# Descripción\n",
        "\n",
        "* A partir de unos datos recabados y cargados se forma tabla de contingencia\n",
        "* Se determina el valor de *p_prueba* (probabilidad)\n",
        "* Se determina los valores a, b, c y d de la tabla de contingencia de una estructura de n * n (2 * 2).\n",
        "* Se determina el valor de alfa de significacncia, normalmente al $\\alpha = 0.05$.\n",
        "* Se contrasta el valor de *p_prueba* contra el valor de significancia $\\alpha=0.05$ y se toma la decisión de si el valor de Yule tiene un significado entre las variables.\n",
        "\n",
        "Decisión:\n",
        "\n",
        "$$\n",
        "\\text{Si } (\\chi^{2} < p.valor)\\text{: Hay significancia estadística}\n",
        "$$\n",
        "\n",
        "$$\n",
        "\\text{de lo contrario:} \\text{ No hay significancia estadística}\n",
        "$$\n",
        "\n",
        "\n",
        "La fórmula para calcular prueba de Yule; el valor debe salir entre -1 y 1 y significa nivel de relación entre las variables:\n",
        "$$\n",
        "Yule = Q = \\frac{a\\cdot d - b\\cdot c}{a\\cdot d + b\\cdot c}\n",
        "$$\n",
        "\n",
        "La fórmula para determinar el valor de chi cuadrada calculada para el contraste contra el valor de *p_valor* de acuerdo al valor de significancia de *alfa* y a un grado $(gl = 1)$ de libertad.\n",
        "\n",
        "$$\n",
        "Chi cuadrada = \\chi^{2} = \\frac{(a\\cdot d-b\\cdot c)^2\\cdot(a+b+c+d)}{(a+b)\\cdot(c+d)\\cdot(a+c)\\cdot(b+d)}\n",
        "$$\n",
        "\n",
        "\n",
        "\n",
        "\n"
      ],
      "metadata": {
        "id": "3biaffneTYn8"
      }
    },
    {
      "cell_type": "markdown",
      "source": [
        "# Desarrollo\n",
        "\n",
        "\n",
        "\n"
      ],
      "metadata": {
        "id": "Z4ufrnxyT0OM"
      }
    },
    {
      "cell_type": "markdown",
      "source": [
        "## Cargar librerías\n",
        "\n",
        "\n"
      ],
      "metadata": {
        "id": "Of4LTDcQT8Ri"
      }
    },
    {
      "cell_type": "code",
      "source": [
        "# Instalar para la sesión de este caso\n",
        "!pip install scipy\n"
      ],
      "metadata": {
        "id": "b8krEv23UEbc"
      },
      "execution_count": null,
      "outputs": []
    },
    {
      "cell_type": "code",
      "source": [
        "import numpy as np\n",
        "from scipy.stats import chi2_contingency"
      ],
      "metadata": {
        "id": "wQHfeOO2UAX7"
      },
      "execution_count": 2,
      "outputs": []
    },
    {
      "cell_type": "markdown",
      "source": [
        "## Cargar los datos\n",
        "\n",
        "Se recupera una encuesta sobre el estudio de dos variables.\n",
        "\n",
        "Se hizo una encuesta y fueron seleccionadas aleatoriamente 300 personas.\n",
        "\n",
        "Se le preguntó a su género que puede ser hombre y mujer etiquetado de la siguiente manera:\n",
        "* H: Hombre\n",
        "* M: Mujer\n",
        "¿Cuál es su género? H: Hombre o M:Mujer\n",
        "\n",
        "Se les preguntó si consumen alcohol hoy en día (presente) en su distintas denominaciones (cerveza, vino, tequila mezcal, bebidas preparadas, entre otros) y en cualquier cantidad, sean dosis mínimas equilabradas y saluables o ingesta de alcohol.\n",
        "\n",
        "¿Consume alcohol? Si o No.\n",
        "\n",
        "\n",
        "## Aquí la tabla de contingencia\n",
        "\\begin{array}{c} \\hline\n",
        " &  \\text{No consume} & \\text{Si consume} \\\\ \\hline\n",
        " Género&  &  \\\\\n",
        "H: Hombre & 15 & 238 \\\\\n",
        "M: Mujer & 11 & 46 \\\\ \\hline\n",
        "\\end{array}\n",
        "\n"
      ],
      "metadata": {
        "id": "7rJ30WDBUQS7"
      }
    },
    {
      "cell_type": "markdown",
      "source": [
        "## Hacer pueba de Yule"
      ],
      "metadata": {
        "id": "16vrASJWs2e8"
      }
    },
    {
      "cell_type": "code",
      "source": [
        "# Crear una tabla de contingencia a partir de tus datos\n",
        "tabla_de_contingencia = np.array([[15, 238], [11, 46]])  # FALSE/TRUE en función de género\n",
        "\n",
        "print(\"Aquí la tabla de contingencia: \")\n",
        "print(\"\\n\")\n",
        "print(tabla_de_contingencia)\n",
        "print(\"\\n\")\n",
        "\n",
        "\n",
        "# Realizar la prueba de chi-cuadrado de independencia\n",
        "chi2, p_valor, _, _ = chi2_contingency(tabla_de_contingencia)\n",
        "\n",
        "# Calcular el coeficiente de Yule\n",
        "a, b, c, d = tabla_de_contingencia.ravel()  # Extraer los valores de la tabla\n",
        "Yule_coefficient = (a * d - b * c) / (a * d + b * c)\n",
        "\n",
        "print(f'Valor de Yule: {Yule_coefficient:.2f}')\n",
        "print(f'Valor de chi2: {chi2:.2f}')\n",
        "print(f'Valor p_valor (chi-cuadrado): {p_valor:.4f}')\n",
        "\n",
        "\n",
        "# Verificar el valor de p\n",
        "\n",
        "# Realizar una prueba de significancia (se puede ajustar el nivel de significancia )\n",
        "alfa = 0.05\n",
        "print (\"Hay distinción enre consumo de alcohol enre hombres y mujeres ?\")\n",
        "if p_valor < alfa:\n",
        "    print('Existe una asociación significativa entre las variables, estadísticamente hablando.')\n",
        "else:\n",
        "    print('No hay evidencia de una asociación significativa entre las vaiables, estadísticamente hablando.')"
      ],
      "metadata": {
        "colab": {
          "base_uri": "https://localhost:8080/"
        },
        "id": "H9qR_JiYT-mX",
        "outputId": "65ea3dd8-4c85-4624-c7e0-04c829985137"
      },
      "execution_count": 15,
      "outputs": [
        {
          "output_type": "stream",
          "name": "stdout",
          "text": [
            "Aquí la tabla de contingencia: \n",
            "\n",
            "\n",
            "[[ 15 238]\n",
            " [ 11  46]]\n",
            "\n",
            "\n",
            "Valor de Yule: -0.58\n",
            "Valor de chi2: 9.15\n",
            "Valor p_valor (chi-cuadrado): 0.0025\n",
            "Hay distinción enre consumo de alcohol enre hombres y mujeres ?\n",
            "Existe una asociación significativa entre las variables, estadísticamente hablando.\n"
          ]
        }
      ]
    },
    {
      "cell_type": "markdown",
      "source": [
        "## Visualización\n",
        "\n"
      ],
      "metadata": {
        "id": "vKIz8k2m4ULM"
      }
    },
    {
      "cell_type": "code",
      "source": [
        "# Pendiente"
      ],
      "metadata": {
        "id": "GKmRGkQV4XXU"
      },
      "execution_count": null,
      "outputs": []
    },
    {
      "cell_type": "markdown",
      "source": [],
      "metadata": {
        "id": "SaffqYOr-DAu"
      }
    },
    {
      "cell_type": "markdown",
      "source": [],
      "metadata": {
        "id": "r8yKc702-DCL"
      }
    },
    {
      "cell_type": "markdown",
      "source": [
        "# Relación estudiar no estudiar aprobar no aprobar\n",
        "\n",
        "\\begin{array}{c} \\hline\n",
        " &  \\text{No aprobar} & \\text{Aprobar} \\\\ \\hline\n",
        " Género&  &  \\\\\n",
        "Estudiar & 15 & 40 \\\\\n",
        "No estudiar & 25 & 20 \\\\ \\hline\n",
        "\\end{array}"
      ],
      "metadata": {
        "id": "NCOcdcnu-DDX"
      }
    },
    {
      "cell_type": "code",
      "source": [
        "# Crear una tabla de contingencia a partir de tus datos\n",
        "tabla_de_contingencia = np.array([[15, 40], [25, 20]])  # FALSE/TRUE en función de género\n",
        "\n",
        "print(\"Aquí la tabla de contingencia: \")\n",
        "print(\"\\n\")\n",
        "print(tabla_de_contingencia)\n",
        "print(\"\\n\")\n",
        "\n",
        "# Realizar la prueba de chi-cuadrado de independencia\n",
        "chi2, p_valor, _, _ = chi2_contingency(tabla_de_contingencia)\n",
        "\n",
        "# Calcular el coeficiente de Yule\n",
        "a, b, c, d = tabla_de_contingencia.ravel()  # Extraer los valores de la tabla\n",
        "Yule_coefficient = (a * d - b * c) / (a * d + b * c)\n",
        "\n",
        "print(f'Valor de Yule: {Yule_coefficient:.2f}')\n",
        "print(f'Valor de chi2: {chi2:.2f}')\n",
        "print(f'Valor p_valor (chi-cuadrado): {p_valor:.4f}')\n",
        "\n",
        "\n",
        "# Verificar el valor de p\n",
        "\n",
        "# Realizar una prueba de significancia (se puede ajustar el nivel de significancia )\n",
        "alfa = 0.05\n",
        "print (\"Estudiar o preparar, implica aprobar o no aprobar un examen ?\")\n",
        "if p_valor < alfa:\n",
        "    print('Existe una asociación significativa entre las variables.')\n",
        "else:\n",
        "    print('No hay evidencia de una asociación significativa.')"
      ],
      "metadata": {
        "colab": {
          "base_uri": "https://localhost:8080/"
        },
        "id": "_fJkEoqaA8J4",
        "outputId": "e8a9bd29-7c9a-418a-ca20-579c2574605f"
      },
      "execution_count": 14,
      "outputs": [
        {
          "output_type": "stream",
          "name": "stdout",
          "text": [
            "Aquí la tabla de contingencia: \n",
            "\n",
            "\n",
            "[[15 40]\n",
            " [25 20]]\n",
            "\n",
            "\n",
            "Valor de Yule: -0.54\n",
            "Valor de chi2: 7.11\n",
            "Valor p_valor (chi-cuadrado): 0.0077\n",
            "Estudiar o preparar, implica aprobar o no aprobar un examen ?\n",
            "Existe una asociación significativa entre las variables.\n"
          ]
        }
      ]
    },
    {
      "cell_type": "code",
      "source": [
        "# Visualizar\n",
        "\n",
        "# PEndiente"
      ],
      "metadata": {
        "id": "IL_he4mABOnQ"
      },
      "execution_count": null,
      "outputs": []
    },
    {
      "cell_type": "markdown",
      "source": [
        "# Interpretación\n",
        "\n",
        "El valor *p_value* en una prueba estadística, en la prueba de Yule, se utiliza para determinar si existe una relación estadísticamente significativa entre las variables categóricas que se analizza,\n",
        "\n",
        "Para este ejercicio resultó que si hay evidencia para concluir que hay una relación significativa a la inversa entre el consumo de alcohol entre hombre y mujeres. Se observa que los hombres consumen más alcohol y estadísticamente se hizo la prumeba que así lo demuestra."
      ],
      "metadata": {
        "id": "t4STF3gFT1-M"
      }
    },
    {
      "cell_type": "markdown",
      "source": [],
      "metadata": {
        "id": "vcPc76OPTcgR"
      }
    }
  ]
}