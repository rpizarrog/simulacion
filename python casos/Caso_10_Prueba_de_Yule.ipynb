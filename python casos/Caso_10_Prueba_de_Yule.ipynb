{
  "nbformat": 4,
  "nbformat_minor": 0,
  "metadata": {
    "colab": {
      "provenance": [],
      "authorship_tag": "ABX9TyMPgiJPOxnGFuvtntmsYVr0",
      "include_colab_link": true
    },
    "kernelspec": {
      "name": "python3",
      "display_name": "Python 3"
    },
    "language_info": {
      "name": "python"
    }
  },
  "cells": [
    {
      "cell_type": "markdown",
      "metadata": {
        "id": "view-in-github",
        "colab_type": "text"
      },
      "source": [
        "<a href=\"https://colab.research.google.com/github/rpizarrog/simulacion/blob/main/python%20casos/Caso_10_Prueba_de_Yule.ipynb\" target=\"_parent\"><img src=\"https://colab.research.google.com/assets/colab-badge.svg\" alt=\"Open In Colab\"/></a>"
      ]
    },
    {
      "cell_type": "markdown",
      "source": [
        "# Objetivo\n",
        "\n",
        "Determinar e interpretar la prueba de Yule\n",
        "\n",
        "# Descripción\n",
        "\n",
        "* A partir de unos datos recabados y cargados se forma tabla de contingencia\n",
        "* Se determina el valor de *p_prueba* (probabilidad)\n",
        "* Se determina los valores a, b, c y d de la tabla de contingencia de una estructura de n * n (2 * 2).\n",
        "* Se determina el valor de alfa de significacncia, normalmente al $\\alpha = 0.05$.\n",
        "* Se contrasta el valor de *p_prueba* contra el valor de significancia $\\alpha=0.05$ y se toma la decisión de si el valor de Yule tiene un significado entre las variables.\n",
        "\n",
        "Decisión:\n",
        "\n",
        "$$\n",
        "\\text{Si } (\\chi^{2} < p.valor)\\text{: Hay significancia estadística}\n",
        "$$\n",
        "\n",
        "$$\n",
        "\\text{de lo contrario:} \\text{ No hay significancia estadística}\n",
        "$$\n",
        "\n",
        "\n",
        "La fórmula para calcular prueba de Yule; el valor debe salir entre -1 y 1 y significa nivel de relación entre las variables:\n",
        "$$\n",
        "Yule = Q = \\frac{a\\cdot d - b\\cdot c}{a\\cdot d + b\\cdot c}\n",
        "$$\n",
        "\n",
        "La fórmula para determinar el valor de chi cuadrada calculada para el contraste contra el valor de *p_valor* de acuerdo al valor de significancia de *alfa* y a un grado $(gl = 1)$ de libertad.\n",
        "\n",
        "$$\n",
        "Chi cuadrada = \\chi^{2} = \\frac{(a\\cdot d-b\\cdot c)^2\\cdot(a+b+c+d)}{(a+b)\\cdot(c+d)\\cdot(a+c)\\cdot(b+d)}\n",
        "$$\n",
        "\n",
        "\n",
        "\n",
        "\n"
      ],
      "metadata": {
        "id": "3biaffneTYn8"
      }
    },
    {
      "cell_type": "markdown",
      "source": [
        "# Desarrollo\n",
        "\n",
        "\n",
        "\n"
      ],
      "metadata": {
        "id": "Z4ufrnxyT0OM"
      }
    },
    {
      "cell_type": "markdown",
      "source": [
        "## Cargar librerías\n",
        "\n",
        "\n"
      ],
      "metadata": {
        "id": "Of4LTDcQT8Ri"
      }
    },
    {
      "cell_type": "code",
      "source": [
        "# Instalar para la sesión de este caso\n",
        "!pip install scipy\n"
      ],
      "metadata": {
        "id": "b8krEv23UEbc"
      },
      "execution_count": null,
      "outputs": []
    },
    {
      "cell_type": "code",
      "source": [
        "import numpy as np\n",
        "from scipy.stats import chi2_contingency"
      ],
      "metadata": {
        "id": "wQHfeOO2UAX7"
      },
      "execution_count": 2,
      "outputs": []
    },
    {
      "cell_type": "markdown",
      "source": [
        "## Cargar los datos\n",
        "\n",
        "Se recupera una encuesta sobre el estudio de dos variables.\n",
        "\n",
        "Se hizo una encuesta y fueron seleccionadas aleatoriamente 300 personas.\n",
        "\n",
        "Se le preguntó a su género que puede ser hombre y mujer etiquetado de la siguiente manera:\n",
        "* H: Hombre\n",
        "* M: Mujer\n",
        "¿Cuál es su género? H: Hombre o M:Mujer\n",
        "\n",
        "Se les preguntó si consumen alcohol hoy en día (presente) en su distintas denominaciones (cerveza, vino, tequila mezcal, bebidas preparadas, entre otros) y en cualquier cantidad, sean dosis mínimas equilabradas y saluables o ingesta de alcohol.\n",
        "\n",
        "¿Consume alcohol? Si o No.\n",
        "\n",
        "\n",
        "## Aquí la tabla de contingencia\n",
        "\\begin{array}{c} \\hline\n",
        " &  \\text{No consume} & \\text{Si consume} \\\\ \\hline\n",
        " Género&  &  \\\\\n",
        "H: Hombre & 15 & 238 \\\\\n",
        "M: Mujer & 11 & 46 \\\\ \\hline\n",
        "\\end{array}\n",
        "\n"
      ],
      "metadata": {
        "id": "7rJ30WDBUQS7"
      }
    },
    {
      "cell_type": "markdown",
      "source": [
        "## Hacer pueba de Yule"
      ],
      "metadata": {
        "id": "16vrASJWs2e8"
      }
    },
    {
      "cell_type": "code",
      "source": [
        "# Crear una tabla de contingencia a partir de tus datos\n",
        "tabla_de_contingencia = np.array([[15, 238], [11, 46]])  # FALSE/TRUE en función de género\n",
        "\n",
        "print(\"Aquí la tabla de contingencia: \")\n",
        "print(\"\\n\")\n",
        "print(tabla_de_contingencia)\n",
        "print(\"\\n\")\n",
        "\n",
        "\n",
        "# Realizar la prueba de chi-cuadrado de independencia\n",
        "chi2, p_valor, _, _ = chi2_contingency(tabla_de_contingencia)\n",
        "\n",
        "# Calcular el coeficiente de Yule\n",
        "a, b, c, d = tabla_de_contingencia.ravel()  # Extraer los valores de la tabla\n",
        "Yule_coefficient = (a * d - b * c) / (a * d + b * c)\n",
        "\n",
        "print(f'Valor de Yule: {Yule_coefficient:.2f}')\n",
        "print(f'Valor de chi2: {chi2:.2f}')\n",
        "print(f'Valor p_valor (chi-cuadrado): {p_valor:.4f}')\n",
        "\n",
        "\n",
        "# Verificar el valor de p\n",
        "\n",
        "# Realizar una prueba de significancia (se puede ajustar el nivel de significancia )\n",
        "alfa = 0.05\n",
        "print (\"Hay distinción enre consumo de alcohol enre hombres y mujeres ?\")\n",
        "if p_valor < alfa:\n",
        "    print('Existe una asociación significativa entre las variables, estadísticamente hablando.')\n",
        "else:\n",
        "    print('No hay evidencia de una asociación significativa entre las vaiables, estadísticamente hablando.')"
      ],
      "metadata": {
        "colab": {
          "base_uri": "https://localhost:8080/"
        },
        "id": "H9qR_JiYT-mX",
        "outputId": "65ea3dd8-4c85-4624-c7e0-04c829985137"
      },
      "execution_count": 15,
      "outputs": [
        {
          "output_type": "stream",
          "name": "stdout",
          "text": [
            "Aquí la tabla de contingencia: \n",
            "\n",
            "\n",
            "[[ 15 238]\n",
            " [ 11  46]]\n",
            "\n",
            "\n",
            "Valor de Yule: -0.58\n",
            "Valor de chi2: 9.15\n",
            "Valor p_valor (chi-cuadrado): 0.0025\n",
            "Hay distinción enre consumo de alcohol enre hombres y mujeres ?\n",
            "Existe una asociación significativa entre las variables, estadísticamente hablando.\n"
          ]
        }
      ]
    },
    {
      "cell_type": "markdown",
      "source": [
        "## Visualización\n",
        "\n"
      ],
      "metadata": {
        "id": "vKIz8k2m4ULM"
      }
    },
    {
      "cell_type": "code",
      "source": [
        "# Pendiente"
      ],
      "metadata": {
        "id": "GKmRGkQV4XXU"
      },
      "execution_count": null,
      "outputs": []
    },
    {
      "cell_type": "markdown",
      "source": [],
      "metadata": {
        "id": "SaffqYOr-DAu"
      }
    },
    {
      "cell_type": "markdown",
      "source": [],
      "metadata": {
        "id": "r8yKc702-DCL"
      }
    },
    {
      "cell_type": "markdown",
      "source": [
        "# Relación estudiar no estudiar aprobar no aprobar\n",
        "\n",
        "\\begin{array}{c} \\hline\n",
        " &  \\text{No aprobar} & \\text{Aprobar} \\\\ \\hline\n",
        " Estudio&  &  \\\\\n",
        "Estudiar & 15 & 40 \\\\\n",
        "No estudiar & 25 & 20 \\\\ \\hline\n",
        "\\end{array}"
      ],
      "metadata": {
        "id": "NCOcdcnu-DDX"
      }
    },
    {
      "cell_type": "code",
      "source": [
        "# Crear una tabla de contingencia a partir de tus datos\n",
        "tabla_de_contingencia = np.array([[15, 40], [25, 20]])  # FALSE/TRUE en función de género\n",
        "\n",
        "print(\"Aquí la tabla de contingencia: \")\n",
        "print(\"\\n\")\n",
        "print(tabla_de_contingencia)\n",
        "print(\"\\n\")\n",
        "\n",
        "# Realizar la prueba de chi-cuadrado de independencia\n",
        "chi2, p_valor, _, _ = chi2_contingency(tabla_de_contingencia)\n",
        "\n",
        "# Calcular el coeficiente de Yule\n",
        "a, b, c, d = tabla_de_contingencia.ravel()  # Extraer los valores de la tabla\n",
        "Yule_coefficient = (a * d - b * c) / (a * d + b * c)\n",
        "\n",
        "print(f'Valor de Yule: {Yule_coefficient:.2f}')\n",
        "print(f'Valor de chi2: {chi2:.2f}')\n",
        "print(f'Valor p_valor (chi-cuadrado): {p_valor:.4f}')\n",
        "\n",
        "\n",
        "# Verificar el valor de p\n",
        "\n",
        "# Realizar una prueba de significancia (se puede ajustar el nivel de significancia )\n",
        "alfa = 0.05\n",
        "print (\"Estudiar o preparar, implica aprobar o no aprobar un examen ?\")\n",
        "if p_valor < alfa:\n",
        "    print('Existe una asociación significativa entre las variables.')\n",
        "else:\n",
        "    print('No hay evidencia de una asociación significativa.')"
      ],
      "metadata": {
        "colab": {
          "base_uri": "https://localhost:8080/"
        },
        "id": "_fJkEoqaA8J4",
        "outputId": "e8a9bd29-7c9a-418a-ca20-579c2574605f"
      },
      "execution_count": 14,
      "outputs": [
        {
          "output_type": "stream",
          "name": "stdout",
          "text": [
            "Aquí la tabla de contingencia: \n",
            "\n",
            "\n",
            "[[15 40]\n",
            " [25 20]]\n",
            "\n",
            "\n",
            "Valor de Yule: -0.54\n",
            "Valor de chi2: 7.11\n",
            "Valor p_valor (chi-cuadrado): 0.0077\n",
            "Estudiar o preparar, implica aprobar o no aprobar un examen ?\n",
            "Existe una asociación significativa entre las variables.\n"
          ]
        }
      ]
    },
    {
      "cell_type": "code",
      "source": [
        "# Visualizar\n",
        "\n",
        "# PEndiente"
      ],
      "metadata": {
        "id": "IL_he4mABOnQ"
      },
      "execution_count": null,
      "outputs": []
    },
    {
      "cell_type": "markdown",
      "source": [
        "## Relación entre hacre deporte y lesiones\n",
        "\n",
        "\n",
        "\n",
        "\\begin{array}{c} \\hline\n",
        " &  \\text{No lesión} & \\text{Lesión} \\\\ \\hline\n",
        " Deporte&  &  \\\\\n",
        "Si hace deporte & 18 & 18 \\\\\n",
        "No hace deporte & 20 & 44 \\\\ \\hline\n",
        "\\end{array}\n",
        "\n"
      ],
      "metadata": {
        "id": "1T_l920HFEgW"
      }
    },
    {
      "cell_type": "markdown",
      "source": [
        "## Los datos\n",
        "\n",
        "Se cargan los datos ...\n"
      ],
      "metadata": {
        "id": "Fz8bs9PVGTzY"
      }
    },
    {
      "cell_type": "code",
      "source": [
        "import pandas as pd\n",
        "url = \"https://raw.githubusercontent.com/rpizarrog/simulacion/main/datos/deporte_lesiones.csv\"\n",
        "datos = pd.read_csv(url)\n",
        "datos"
      ],
      "metadata": {
        "colab": {
          "base_uri": "https://localhost:8080/",
          "height": 423
        },
        "id": "eu0-C1OCGVfy",
        "outputId": "c4e2debe-bdec-48c8-fe2c-6b96da574d31"
      },
      "execution_count": 20,
      "outputs": [
        {
          "output_type": "execute_result",
          "data": {
            "text/plain": [
              "    Unnamed: 0          deporte  lesion\n",
              "0            1  SI HACE DEPORTE   False\n",
              "1            2  SI HACE DEPORTE    True\n",
              "2            3  SI HACE DEPORTE    True\n",
              "3            4  SI HACE DEPORTE   False\n",
              "4            5  SI HACE DEPORTE    True\n",
              "..         ...              ...     ...\n",
              "95          96  SI HACE DEPORTE    True\n",
              "96          97  SI HACE DEPORTE    True\n",
              "97          98  SI HACE DEPORTE   False\n",
              "98          99  SI HACE DEPORTE    True\n",
              "99         100  SI HACE DEPORTE   False\n",
              "\n",
              "[100 rows x 3 columns]"
            ],
            "text/html": [
              "\n",
              "  <div id=\"df-cfdbc7c1-d997-46ea-ba2e-fe5e56259751\" class=\"colab-df-container\">\n",
              "    <div>\n",
              "<style scoped>\n",
              "    .dataframe tbody tr th:only-of-type {\n",
              "        vertical-align: middle;\n",
              "    }\n",
              "\n",
              "    .dataframe tbody tr th {\n",
              "        vertical-align: top;\n",
              "    }\n",
              "\n",
              "    .dataframe thead th {\n",
              "        text-align: right;\n",
              "    }\n",
              "</style>\n",
              "<table border=\"1\" class=\"dataframe\">\n",
              "  <thead>\n",
              "    <tr style=\"text-align: right;\">\n",
              "      <th></th>\n",
              "      <th>Unnamed: 0</th>\n",
              "      <th>deporte</th>\n",
              "      <th>lesion</th>\n",
              "    </tr>\n",
              "  </thead>\n",
              "  <tbody>\n",
              "    <tr>\n",
              "      <th>0</th>\n",
              "      <td>1</td>\n",
              "      <td>SI HACE DEPORTE</td>\n",
              "      <td>False</td>\n",
              "    </tr>\n",
              "    <tr>\n",
              "      <th>1</th>\n",
              "      <td>2</td>\n",
              "      <td>SI HACE DEPORTE</td>\n",
              "      <td>True</td>\n",
              "    </tr>\n",
              "    <tr>\n",
              "      <th>2</th>\n",
              "      <td>3</td>\n",
              "      <td>SI HACE DEPORTE</td>\n",
              "      <td>True</td>\n",
              "    </tr>\n",
              "    <tr>\n",
              "      <th>3</th>\n",
              "      <td>4</td>\n",
              "      <td>SI HACE DEPORTE</td>\n",
              "      <td>False</td>\n",
              "    </tr>\n",
              "    <tr>\n",
              "      <th>4</th>\n",
              "      <td>5</td>\n",
              "      <td>SI HACE DEPORTE</td>\n",
              "      <td>True</td>\n",
              "    </tr>\n",
              "    <tr>\n",
              "      <th>...</th>\n",
              "      <td>...</td>\n",
              "      <td>...</td>\n",
              "      <td>...</td>\n",
              "    </tr>\n",
              "    <tr>\n",
              "      <th>95</th>\n",
              "      <td>96</td>\n",
              "      <td>SI HACE DEPORTE</td>\n",
              "      <td>True</td>\n",
              "    </tr>\n",
              "    <tr>\n",
              "      <th>96</th>\n",
              "      <td>97</td>\n",
              "      <td>SI HACE DEPORTE</td>\n",
              "      <td>True</td>\n",
              "    </tr>\n",
              "    <tr>\n",
              "      <th>97</th>\n",
              "      <td>98</td>\n",
              "      <td>SI HACE DEPORTE</td>\n",
              "      <td>False</td>\n",
              "    </tr>\n",
              "    <tr>\n",
              "      <th>98</th>\n",
              "      <td>99</td>\n",
              "      <td>SI HACE DEPORTE</td>\n",
              "      <td>True</td>\n",
              "    </tr>\n",
              "    <tr>\n",
              "      <th>99</th>\n",
              "      <td>100</td>\n",
              "      <td>SI HACE DEPORTE</td>\n",
              "      <td>False</td>\n",
              "    </tr>\n",
              "  </tbody>\n",
              "</table>\n",
              "<p>100 rows × 3 columns</p>\n",
              "</div>\n",
              "    <div class=\"colab-df-buttons\">\n",
              "\n",
              "  <div class=\"colab-df-container\">\n",
              "    <button class=\"colab-df-convert\" onclick=\"convertToInteractive('df-cfdbc7c1-d997-46ea-ba2e-fe5e56259751')\"\n",
              "            title=\"Convert this dataframe to an interactive table.\"\n",
              "            style=\"display:none;\">\n",
              "\n",
              "  <svg xmlns=\"http://www.w3.org/2000/svg\" height=\"24px\" viewBox=\"0 -960 960 960\">\n",
              "    <path d=\"M120-120v-720h720v720H120Zm60-500h600v-160H180v160Zm220 220h160v-160H400v160Zm0 220h160v-160H400v160ZM180-400h160v-160H180v160Zm440 0h160v-160H620v160ZM180-180h160v-160H180v160Zm440 0h160v-160H620v160Z\"/>\n",
              "  </svg>\n",
              "    </button>\n",
              "\n",
              "  <style>\n",
              "    .colab-df-container {\n",
              "      display:flex;\n",
              "      gap: 12px;\n",
              "    }\n",
              "\n",
              "    .colab-df-convert {\n",
              "      background-color: #E8F0FE;\n",
              "      border: none;\n",
              "      border-radius: 50%;\n",
              "      cursor: pointer;\n",
              "      display: none;\n",
              "      fill: #1967D2;\n",
              "      height: 32px;\n",
              "      padding: 0 0 0 0;\n",
              "      width: 32px;\n",
              "    }\n",
              "\n",
              "    .colab-df-convert:hover {\n",
              "      background-color: #E2EBFA;\n",
              "      box-shadow: 0px 1px 2px rgba(60, 64, 67, 0.3), 0px 1px 3px 1px rgba(60, 64, 67, 0.15);\n",
              "      fill: #174EA6;\n",
              "    }\n",
              "\n",
              "    .colab-df-buttons div {\n",
              "      margin-bottom: 4px;\n",
              "    }\n",
              "\n",
              "    [theme=dark] .colab-df-convert {\n",
              "      background-color: #3B4455;\n",
              "      fill: #D2E3FC;\n",
              "    }\n",
              "\n",
              "    [theme=dark] .colab-df-convert:hover {\n",
              "      background-color: #434B5C;\n",
              "      box-shadow: 0px 1px 3px 1px rgba(0, 0, 0, 0.15);\n",
              "      filter: drop-shadow(0px 1px 2px rgba(0, 0, 0, 0.3));\n",
              "      fill: #FFFFFF;\n",
              "    }\n",
              "  </style>\n",
              "\n",
              "    <script>\n",
              "      const buttonEl =\n",
              "        document.querySelector('#df-cfdbc7c1-d997-46ea-ba2e-fe5e56259751 button.colab-df-convert');\n",
              "      buttonEl.style.display =\n",
              "        google.colab.kernel.accessAllowed ? 'block' : 'none';\n",
              "\n",
              "      async function convertToInteractive(key) {\n",
              "        const element = document.querySelector('#df-cfdbc7c1-d997-46ea-ba2e-fe5e56259751');\n",
              "        const dataTable =\n",
              "          await google.colab.kernel.invokeFunction('convertToInteractive',\n",
              "                                                    [key], {});\n",
              "        if (!dataTable) return;\n",
              "\n",
              "        const docLinkHtml = 'Like what you see? Visit the ' +\n",
              "          '<a target=\"_blank\" href=https://colab.research.google.com/notebooks/data_table.ipynb>data table notebook</a>'\n",
              "          + ' to learn more about interactive tables.';\n",
              "        element.innerHTML = '';\n",
              "        dataTable['output_type'] = 'display_data';\n",
              "        await google.colab.output.renderOutput(dataTable, element);\n",
              "        const docLink = document.createElement('div');\n",
              "        docLink.innerHTML = docLinkHtml;\n",
              "        element.appendChild(docLink);\n",
              "      }\n",
              "    </script>\n",
              "  </div>\n",
              "\n",
              "\n",
              "<div id=\"df-b8de112d-2202-4d62-9bbf-7ef5b1de8790\">\n",
              "  <button class=\"colab-df-quickchart\" onclick=\"quickchart('df-b8de112d-2202-4d62-9bbf-7ef5b1de8790')\"\n",
              "            title=\"Suggest charts.\"\n",
              "            style=\"display:none;\">\n",
              "\n",
              "<svg xmlns=\"http://www.w3.org/2000/svg\" height=\"24px\"viewBox=\"0 0 24 24\"\n",
              "     width=\"24px\">\n",
              "    <g>\n",
              "        <path d=\"M19 3H5c-1.1 0-2 .9-2 2v14c0 1.1.9 2 2 2h14c1.1 0 2-.9 2-2V5c0-1.1-.9-2-2-2zM9 17H7v-7h2v7zm4 0h-2V7h2v10zm4 0h-2v-4h2v4z\"/>\n",
              "    </g>\n",
              "</svg>\n",
              "  </button>\n",
              "\n",
              "<style>\n",
              "  .colab-df-quickchart {\n",
              "      --bg-color: #E8F0FE;\n",
              "      --fill-color: #1967D2;\n",
              "      --hover-bg-color: #E2EBFA;\n",
              "      --hover-fill-color: #174EA6;\n",
              "      --disabled-fill-color: #AAA;\n",
              "      --disabled-bg-color: #DDD;\n",
              "  }\n",
              "\n",
              "  [theme=dark] .colab-df-quickchart {\n",
              "      --bg-color: #3B4455;\n",
              "      --fill-color: #D2E3FC;\n",
              "      --hover-bg-color: #434B5C;\n",
              "      --hover-fill-color: #FFFFFF;\n",
              "      --disabled-bg-color: #3B4455;\n",
              "      --disabled-fill-color: #666;\n",
              "  }\n",
              "\n",
              "  .colab-df-quickchart {\n",
              "    background-color: var(--bg-color);\n",
              "    border: none;\n",
              "    border-radius: 50%;\n",
              "    cursor: pointer;\n",
              "    display: none;\n",
              "    fill: var(--fill-color);\n",
              "    height: 32px;\n",
              "    padding: 0;\n",
              "    width: 32px;\n",
              "  }\n",
              "\n",
              "  .colab-df-quickchart:hover {\n",
              "    background-color: var(--hover-bg-color);\n",
              "    box-shadow: 0 1px 2px rgba(60, 64, 67, 0.3), 0 1px 3px 1px rgba(60, 64, 67, 0.15);\n",
              "    fill: var(--button-hover-fill-color);\n",
              "  }\n",
              "\n",
              "  .colab-df-quickchart-complete:disabled,\n",
              "  .colab-df-quickchart-complete:disabled:hover {\n",
              "    background-color: var(--disabled-bg-color);\n",
              "    fill: var(--disabled-fill-color);\n",
              "    box-shadow: none;\n",
              "  }\n",
              "\n",
              "  .colab-df-spinner {\n",
              "    border: 2px solid var(--fill-color);\n",
              "    border-color: transparent;\n",
              "    border-bottom-color: var(--fill-color);\n",
              "    animation:\n",
              "      spin 1s steps(1) infinite;\n",
              "  }\n",
              "\n",
              "  @keyframes spin {\n",
              "    0% {\n",
              "      border-color: transparent;\n",
              "      border-bottom-color: var(--fill-color);\n",
              "      border-left-color: var(--fill-color);\n",
              "    }\n",
              "    20% {\n",
              "      border-color: transparent;\n",
              "      border-left-color: var(--fill-color);\n",
              "      border-top-color: var(--fill-color);\n",
              "    }\n",
              "    30% {\n",
              "      border-color: transparent;\n",
              "      border-left-color: var(--fill-color);\n",
              "      border-top-color: var(--fill-color);\n",
              "      border-right-color: var(--fill-color);\n",
              "    }\n",
              "    40% {\n",
              "      border-color: transparent;\n",
              "      border-right-color: var(--fill-color);\n",
              "      border-top-color: var(--fill-color);\n",
              "    }\n",
              "    60% {\n",
              "      border-color: transparent;\n",
              "      border-right-color: var(--fill-color);\n",
              "    }\n",
              "    80% {\n",
              "      border-color: transparent;\n",
              "      border-right-color: var(--fill-color);\n",
              "      border-bottom-color: var(--fill-color);\n",
              "    }\n",
              "    90% {\n",
              "      border-color: transparent;\n",
              "      border-bottom-color: var(--fill-color);\n",
              "    }\n",
              "  }\n",
              "</style>\n",
              "\n",
              "  <script>\n",
              "    async function quickchart(key) {\n",
              "      const quickchartButtonEl =\n",
              "        document.querySelector('#' + key + ' button');\n",
              "      quickchartButtonEl.disabled = true;  // To prevent multiple clicks.\n",
              "      quickchartButtonEl.classList.add('colab-df-spinner');\n",
              "      try {\n",
              "        const charts = await google.colab.kernel.invokeFunction(\n",
              "            'suggestCharts', [key], {});\n",
              "      } catch (error) {\n",
              "        console.error('Error during call to suggestCharts:', error);\n",
              "      }\n",
              "      quickchartButtonEl.classList.remove('colab-df-spinner');\n",
              "      quickchartButtonEl.classList.add('colab-df-quickchart-complete');\n",
              "    }\n",
              "    (() => {\n",
              "      let quickchartButtonEl =\n",
              "        document.querySelector('#df-b8de112d-2202-4d62-9bbf-7ef5b1de8790 button');\n",
              "      quickchartButtonEl.style.display =\n",
              "        google.colab.kernel.accessAllowed ? 'block' : 'none';\n",
              "    })();\n",
              "  </script>\n",
              "</div>\n",
              "    </div>\n",
              "  </div>\n"
            ]
          },
          "metadata": {},
          "execution_count": 20
        }
      ]
    },
    {
      "cell_type": "code",
      "source": [
        "# Falta crear la tabla de contingencia de manera autmáica a parti de los datos\n",
        "# que sea dinámica\n",
        "\n",
        "\n",
        "\n",
        "# Crear una tabla de contingencia a partir de tus datos\n",
        "tabla_de_contingencia = np.array([[18, 18], [20, 40]])  # FALSE/TRUE en función de género\n",
        "\n",
        "print(\"Aquí la tabla de contingencia: \")\n",
        "print(\"\\n\")\n",
        "print(tabla_de_contingencia)\n",
        "print(\"\\n\")\n",
        "\n",
        "# Realizar la prueba de chi-cuadrado de independencia\n",
        "chi2, p_valor, _, _ = chi2_contingency(tabla_de_contingencia)\n",
        "\n",
        "# Calcular el coeficiente de Yule\n",
        "a, b, c, d = tabla_de_contingencia.ravel()  # Extraer los valores de la tabla\n",
        "Yule_coefficient = (a * d - b * c) / (a * d + b * c)\n",
        "\n",
        "print(f'Valor de Yule: {Yule_coefficient:.2f}')\n",
        "print(f'Valor de chi2: {chi2:.2f}')\n",
        "print(f'Valor p_valor (chi-cuadrado): {p_valor:.4f}')\n",
        "\n",
        "\n",
        "# Verificar el valor de p\n",
        "\n",
        "# Realizar una prueba de significancia (se puede ajustar el nivel de significancia )\n",
        "alfa = 0.05\n",
        "print (\"Estudiar o preparar, implica aprobar o no aprobar un examen ?\")\n",
        "if p_valor < alfa:\n",
        "    print('Existe una asociación significativa entre las variables.')\n",
        "else:\n",
        "    print('No hay evidencia de una asociación significativa.')"
      ],
      "metadata": {
        "colab": {
          "base_uri": "https://localhost:8080/"
        },
        "id": "tJULCic2Fggx",
        "outputId": "f2b4cfe4-f813-461a-d4e9-0f1e2f955154"
      },
      "execution_count": 21,
      "outputs": [
        {
          "output_type": "stream",
          "name": "stdout",
          "text": [
            "Aquí la tabla de contingencia: \n",
            "\n",
            "\n",
            "[[18 18]\n",
            " [20 40]]\n",
            "\n",
            "\n",
            "Valor de Yule: 0.33\n",
            "Valor de chi2: 1.96\n",
            "Valor p_valor (chi-cuadrado): 0.1612\n",
            "Estudiar o preparar, implica aprobar o no aprobar un examen ?\n",
            "No hay evidencia de una asociación significativa.\n"
          ]
        }
      ]
    },
    {
      "cell_type": "markdown",
      "source": [
        "# Interpretación\n",
        "\n",
        "El valor *p_value* en una prueba estadística, en la prueba de Yule, se utiliza para determinar si existe una relación estadísticamente significativa entre las variables categóricas que se analizza,\n",
        "\n",
        "Para este ejercicio resultó que si hay evidencia para concluir que hay una relación significativa a la inversa entre el consumo de alcohol entre hombre y mujeres. Se observa que los hombres consumen más alcohol y estadísticamente se hizo la prumeba que así lo demuestra."
      ],
      "metadata": {
        "id": "t4STF3gFT1-M"
      }
    },
    {
      "cell_type": "markdown",
      "source": [],
      "metadata": {
        "id": "vcPc76OPTcgR"
      }
    }
  ]
}