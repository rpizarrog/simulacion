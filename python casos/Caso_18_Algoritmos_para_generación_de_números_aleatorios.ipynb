{
  "nbformat": 4,
  "nbformat_minor": 0,
  "metadata": {
    "colab": {
      "provenance": [],
      "authorship_tag": "ABX9TyNRJ8u3vNfVD21Lvq0UPVLZ",
      "include_colab_link": true
    },
    "kernelspec": {
      "name": "python3",
      "display_name": "Python 3"
    },
    "language_info": {
      "name": "python"
    }
  },
  "cells": [
    {
      "cell_type": "markdown",
      "metadata": {
        "id": "view-in-github",
        "colab_type": "text"
      },
      "source": [
        "<a href=\"https://colab.research.google.com/github/rpizarrog/simulacion/blob/main/python%20casos/Caso_18_Algoritmos_para_generaci%C3%B3n_de_n%C3%BAmeros_aleatorios.ipynb\" target=\"_parent\"><img src=\"https://colab.research.google.com/assets/colab-badge.svg\" alt=\"Open In Colab\"/></a>"
      ]
    },
    {
      "cell_type": "code",
      "execution_count": null,
      "metadata": {
        "id": "x5D861ZF-9Ci"
      },
      "outputs": [],
      "source": []
    },
    {
      "cell_type": "markdown",
      "source": [
        "# Objetivo\n",
        "\n",
        "Simular algoritmos para generación de números aleatorios\n",
        "\n",
        "# Decripción\n",
        "\n",
        "Se simulan algunos métodos casico de la literatura ára generaci´pn de números aleatorrios."
      ],
      "metadata": {
        "id": "ZwA6J5ZC_UyK"
      }
    },
    {
      "cell_type": "markdown",
      "source": [
        "# Fundamento teórico\n",
        "\n",
        "Algunas características importantes de un proceso de generación de números aleatorios.\n",
        "\n",
        "Para comenzar, se debe proporcionar una entrada como semilla o un valor que inicie la secuencia. Esto es necesario para poder generar secuencias diferentes cada vez.\n",
        "\n",
        "La repetitiviad es una característica de los números aletorios que significa que tanto se tarda (periodo o ciclo) en volverse a generar los mismos numeros a partir de la semilla inicial y de los anteriores valores aleatorios.\n",
        "\n",
        "La duración de la secuencia, antes de que comience a repetirse, se llama período. Un período largo es importante porque muchas aplicaciones prácticas requieren una gran cantidad de datos aleatorios y una secuencia repetitiva puede ser menos efectiva. En tales casos, es importante que la elección de la semilla no influya en los resultados potenciales.\n",
        "\n",
        "El tamaño de los valores de los datos de salida y el estado interno y, por lo tanto, la entrada del generador (semilla), son a menudo características intrínsecas del algoritmo y permanecen constantes\n",
        "\n",
        "La eficiencia de un algormtimo de generador de números aleatorios tiene  que ver con el tamaño de los valores de los datos de salida y el estado interno y, por lo tanto, la entrada del generador (semilla), son a menudo características intrínsecas del algoritmo y permanecen constantes.\n",
        "\n",
        "Sin embargo, el término eficiencia debe evaluarse no tanto en términos de complejidad computacional, sino en términos de la posibilidad de una implementación rápida y eficiente de las arquitecturas de cálculo disponibles.\n",
        "\n"
      ],
      "metadata": {
        "id": "zVy_8QnG_hpw"
      }
    },
    {
      "cell_type": "markdown",
      "source": [
        "# Desarrollo\n",
        "\n"
      ],
      "metadata": {
        "id": "NylT57Ad_Zow"
      }
    },
    {
      "cell_type": "markdown",
      "source": [
        "## Cargar librerías\n"
      ],
      "metadata": {
        "id": "teP8He7J_cCm"
      }
    },
    {
      "cell_type": "code",
      "source": [
        "import numpy as np"
      ],
      "metadata": {
        "id": "OPA0i5kr_dr4"
      },
      "execution_count": 4,
      "outputs": []
    },
    {
      "cell_type": "markdown",
      "source": [
        "## Generador lineal congruencial (Linear congruential generator)\n",
        "\n",
        "$$\n",
        "x_{k+1} = (a \\cdot x_{k} + c) \\text{ mod m}\n",
        "$$\n",
        "\n",
        "- a es el multiplicador (enteros no negativos)\n",
        "- c es el incremento (enteros no negativos)\n",
        "- m es la moda (enteros no negativos)\n",
        "- x0 es el valor inicial (semilla o enteros no negativos) )\n",
        "\n",
        "La función mod significa el residuo de una división: Ejemplo\n",
        "\n",
        "$$\n",
        "18 /4 \\text{ el residuo es 2}\n",
        "$$\n",
        "\n",
        "Este algoritmo tiene las siguientes carcterísticias:\n",
        "\n",
        "- es cíclico aproximadamente igual a $m$,\n",
        "- genera valores discretos"
      ],
      "metadata": {
        "id": "03NgmlrDAhI1"
      }
    },
    {
      "cell_type": "markdown",
      "source": [
        "### Valores iniciales"
      ],
      "metadata": {
        "id": "WdxrjVayEuwQ"
      }
    },
    {
      "cell_type": "code",
      "source": [
        "x0 = semilla = 3\n",
        "a = 2  # ¿Que sucede si se cambia a 0?\n",
        "c = 20  # Que pasa si se modifica?\n",
        "m = 10  # ´qué sucede si se aumenta el valor del divisor moda 10"
      ],
      "metadata": {
        "id": "a7kBNGznD_s7"
      },
      "execution_count": 29,
      "outputs": []
    },
    {
      "cell_type": "markdown",
      "source": [
        "### Generando números aleatorios\n"
      ],
      "metadata": {
        "id": "kdBqgkvwEwaa"
      }
    },
    {
      "cell_type": "code",
      "source": [
        "# Generar el primer valor\n",
        "x = np.mod(a * x0 + c, m)\n",
        "print(x)"
      ],
      "metadata": {
        "colab": {
          "base_uri": "https://localhost:8080/"
        },
        "id": "XgFZLFylEzW8",
        "outputId": "060f3da4-a4a7-460f-d918-ac9c589ed754"
      },
      "execution_count": 30,
      "outputs": [
        {
          "output_type": "stream",
          "name": "stdout",
          "text": [
            "6\n"
          ]
        }
      ]
    },
    {
      "cell_type": "code",
      "source": [
        "# Generar los primeros 20 valores\n",
        "# Se verifica que se repote el ciclo aproximadamente en el\n",
        "# valor m = 5, cada 5 valores\n",
        "for x in range (1, 20):\n",
        "  x = np.mod((a * x + c), m)\n",
        "  print (x)"
      ],
      "metadata": {
        "colab": {
          "base_uri": "https://localhost:8080/"
        },
        "id": "DUo8kG-AFY4Z",
        "outputId": "632aea39-9675-40a0-aa4d-4d3e306c91d9"
      },
      "execution_count": 31,
      "outputs": [
        {
          "output_type": "stream",
          "name": "stdout",
          "text": [
            "2\n",
            "4\n",
            "6\n",
            "8\n",
            "0\n",
            "2\n",
            "4\n",
            "6\n",
            "8\n",
            "0\n",
            "2\n",
            "4\n",
            "6\n",
            "8\n",
            "0\n",
            "2\n",
            "4\n",
            "6\n",
            "8\n"
          ]
        }
      ]
    },
    {
      "cell_type": "markdown",
      "source": [
        "## Números aleatorios con distribución uniforme\n",
        "\n",
        "$$\n",
        "U_n = \\frac{x_n}{m}\n",
        "$$\n",
        "\n",
        "$$\n",
        "U_n: \\text{es el valor aleatortio de una distribución uniforme}\n",
        "$$\n",
        "$$\n",
        "X_n: \\text{ es}\n",
        "$$\n",
        "$$\n",
        "m: \\text{ es el valor de moda o valor de residuo en la función mod}\n",
        "$$\n"
      ],
      "metadata": {
        "id": "7f66Y5SlHl9R"
      }
    },
    {
      "cell_type": "markdown",
      "source": [
        "### Inicializando valores\n"
      ],
      "metadata": {
        "id": "Z1ecu2zCKikg"
      }
    },
    {
      "cell_type": "code",
      "source": [
        "a = 75\n",
        "c = 0\n",
        "# m = 200 # Cambiar a 2 ** 31 - 1 the Learmonth-Lewis generator.\n",
        "m = 2 ** 31 -1\n",
        "x = 0.01"
      ],
      "metadata": {
        "id": "FAwtBjiZKpL8"
      },
      "execution_count": 67,
      "outputs": []
    },
    {
      "cell_type": "code",
      "source": [
        "x= np.mod((a*x+c),m)\n",
        "u = x/m\n",
        "print(u)"
      ],
      "metadata": {
        "colab": {
          "base_uri": "https://localhost:8080/"
        },
        "id": "8CQrY9mbK1DX",
        "outputId": "dcf80b7b-a386-4ce4-941f-944773a64223"
      },
      "execution_count": 68,
      "outputs": [
        {
          "output_type": "stream",
          "name": "stdout",
          "text": [
            "3.4924596564343477e-10\n"
          ]
        }
      ]
    },
    {
      "cell_type": "markdown",
      "source": [
        "### Generando números aleatorios"
      ],
      "metadata": {
        "id": "JBVn38idKkNL"
      }
    },
    {
      "cell_type": "code",
      "source": [
        "for i in range(1,100):\n",
        "  x= np.mod((a*x+c),m)\n",
        "  u = x/m\n",
        "  print(u)\n",
        "\n",
        "\n"
      ],
      "metadata": {
        "colab": {
          "base_uri": "https://localhost:8080/"
        },
        "id": "qGNpz5--K6KP",
        "outputId": "f25a4065-6078-48a1-e1ea-a985e471eae1"
      },
      "execution_count": 69,
      "outputs": [
        {
          "output_type": "stream",
          "name": "stdout",
          "text": [
            "2.6193447423257608e-08\n",
            "1.9645085567443206e-06\n",
            "0.00014733814175582404\n",
            "0.011050360631686804\n",
            "0.8287770473765103\n",
            "0.15827855323826825\n",
            "0.8708914928701201\n",
            "0.3168619652590072\n",
            "0.7646473944255372\n",
            "0.34855458191528665\n",
            "0.14159364364649804\n",
            "0.6195232734873534\n",
            "0.46424551155150195\n",
            "0.818413366362645\n",
            "0.38100247719837466\n",
            "0.575185789878101\n",
            "0.13893424085757428\n",
            "0.4200680643180702\n",
            "0.5051048238552663\n",
            "0.8828617891449769\n",
            "0.21463418587326732\n",
            "0.09756394049504956\n",
            "0.3172955371287165\n",
            "0.7971652846537369\n",
            "0.7873963490302658\n",
            "0.05472617726993104\n",
            "0.10446329524482754\n",
            "0.8347471433620653\n",
            "0.6060357521549034\n",
            "0.4526814116177528\n",
            "0.9511058713314616\n",
            "0.3329403498596234\n",
            "0.9705262394717551\n",
            "0.7894679603816327\n",
            "0.21009702862244892\n",
            "0.7572771466836693\n",
            "0.7957860012751938\n",
            "0.6839500956395409\n",
            "0.29625717296556436\n",
            "0.2192879724173285\n",
            "0.44659793129963704\n",
            "0.49484484747277796\n",
            "0.11336356045834886\n",
            "0.5022670343761645\n",
            "0.6700275782123336\n",
            "0.2520683659250235\n",
            "0.9051274443767627\n",
            "0.8845583282572024\n",
            "0.34187461929017426\n",
            "0.6405964467630705\n",
            "0.04473350723028812\n",
            "0.35501304227160896\n",
            "0.6259781703706729\n",
            "0.9483627778004682\n",
            "0.12720833503511192\n",
            "0.5406251276333933\n",
            "0.5468845725045002\n",
            "0.016342937837514532\n",
            "0.22572033781358988\n",
            "0.929025336019241\n",
            "0.6769002014430706\n",
            "0.767515108230298\n",
            "0.5636331172723478\n",
            "0.2724837954260799\n",
            "0.4362846569559931\n",
            "0.7213492716994832\n",
            "0.10119537746123754\n",
            "0.5896533095928157\n",
            "0.22399821946117945\n",
            "0.799866459588458\n",
            "0.9899844691343533\n",
            "0.248835185076499\n",
            "0.6626388807374234\n",
            "0.6979160553067532\n",
            "0.3437041480064877\n",
            "0.777811100486578\n",
            "0.3358325364933501\n",
            "0.18744023700125526\n",
            "0.05801777509414487\n",
            "0.35133313206086547\n",
            "0.34998490456491005\n",
            "0.24886784236825438\n",
            "0.6650881776190773\n",
            "0.8816133214308011\n",
            "0.12099910731008234\n",
            "0.07493304825617608\n",
            "0.6199786192132061\n",
            "0.49839644099045377\n",
            "0.37973307428403436\n",
            "0.47998057130257626\n",
            "0.9985428476932192\n",
            "0.8907135769914434\n",
            "0.8035182743582494\n",
            "0.2638705768687048\n",
            "0.7902932651528591\n",
            "0.2719948864644369\n",
            "0.39961648483277135\n",
            "0.9712363624578512\n",
            "0.8427271843388338\n"
          ]
        }
      ]
    },
    {
      "cell_type": "markdown",
      "source": [
        "## Algoritmo de Fibonacci retrasado (lagged Fibonacci algorithm)\n",
        "\n",
        "Es útil para muchas aplicaciones, especialmente en computación paralela, para alargar el período del generador o aumentar el ciclo de repetición de números aleatorios.\n",
        "\n",
        "Una de las técnicas desarrolladas es hacer que $X_n + 1$ dependa de los dos valores anteriores, $X_n$ y $X_{n-1}$, en lugar de sólo de $X_n$.\n",
        "\n",
        "$$\n",
        "x_{n+1} = (x_{n} + x_{n-1}) \\text { mod m}\n",
        "$$\n",
        "\n",
        "Esta fórmula no pasa la prueba de aleatoriedad entonces se mejora:\n",
        "\n",
        "$$\n",
        "x_{n+1} = (x_{n} + x_{n-k}) \\text { mod m}\n",
        "$$\n",
        "\n",
        "\n",
        "\n",
        "\n"
      ],
      "metadata": {
        "id": "0azmVyLPNCeJ"
      }
    },
    {
      "cell_type": "markdown",
      "source": [
        "### Inicializar valores"
      ],
      "metadata": {
        "id": "hqJ-iN9aPk85"
      }
    },
    {
      "cell_type": "code",
      "source": [
        "x0 = 1\n",
        "x1 = 1\n",
        "# m = 1 # Cambiar por 2 ** 32\n",
        "m = 2 ** 32\n",
        "\n"
      ],
      "metadata": {
        "id": "69j7_FrKPheh"
      },
      "execution_count": 88,
      "outputs": []
    },
    {
      "cell_type": "code",
      "source": [
        "x  = np.mod((x0 + x1), m)\n",
        "print (x)"
      ],
      "metadata": {
        "colab": {
          "base_uri": "https://localhost:8080/"
        },
        "id": "r9WZHuvsP1IC",
        "outputId": "caed470d-f749-4bef-ced9-0500a5185f25"
      },
      "execution_count": 89,
      "outputs": [
        {
          "output_type": "stream",
          "name": "stdout",
          "text": [
            "2\n"
          ]
        }
      ]
    },
    {
      "cell_type": "markdown",
      "source": [
        "### Generando números aleatorios\n"
      ],
      "metadata": {
        "id": "6Eqr-mb0QeJw"
      }
    },
    {
      "cell_type": "code",
      "source": [
        "for i in range (1,10):\n",
        "  x= np.mod((x0+x1), m)\n",
        "  x0=x1\n",
        "  x1=x\n",
        "  print(x)\n",
        "\n"
      ],
      "metadata": {
        "colab": {
          "base_uri": "https://localhost:8080/"
        },
        "id": "88Kz_yrTQgsa",
        "outputId": "fd3ce064-faa5-4c55-cdff-67f8299dc17a"
      },
      "execution_count": 96,
      "outputs": [
        {
          "output_type": "stream",
          "name": "stdout",
          "text": [
            "363076002\n",
            "2876210327\n",
            "3239286329\n",
            "1820529360\n",
            "764848393\n",
            "2585377753\n",
            "3350226146\n",
            "1640636603\n",
            "695895453\n"
          ]
        }
      ]
    },
    {
      "cell_type": "markdown",
      "source": [
        "### Fibonacci chat gpt\n"
      ],
      "metadata": {
        "id": "U0aHSc0NRFlU"
      }
    },
    {
      "cell_type": "code",
      "source": [
        "class GeneradorFibonacci:\n",
        "    def __init__(self, seed1, seed2):\n",
        "        self.state = [seed1, seed2]\n",
        "\n",
        "    def generar(self, n):\n",
        "        numeros_aleatorios = []\n",
        "        for _ in range(n):\n",
        "            self.state[0], self.state[1] = self.state[1], (self.state[0] + self.state[1]) % 1.0\n",
        "            numeros_aleatorios.append(self.state[0])\n",
        "        return numeros_aleatorios\n",
        "\n",
        "# Inicializa el generador con dos semillas\n",
        "generador = GeneradorFibonacci(seed1=0.14, seed2=0.45)\n",
        "\n",
        "# Genera una secuencia de 10 números aleatorios\n",
        "secuencia_aleatoria = generador.generar(n=10)\n",
        "\n",
        "# Imprime la secuencia de números aleatorios\n",
        "print(secuencia_aleatoria)\n"
      ],
      "metadata": {
        "colab": {
          "base_uri": "https://localhost:8080/"
        },
        "id": "JI6kefLTRI5A",
        "outputId": "4f51048c-6030-46a5-e5ef-d57b796c16ec"
      },
      "execution_count": 108,
      "outputs": [
        {
          "output_type": "stream",
          "name": "stdout",
          "text": [
            "[0.45, 0.5900000000000001, 0.040000000000000036, 0.6300000000000001, 0.6700000000000002, 0.30000000000000027, 0.9700000000000004, 0.2700000000000007, 0.2400000000000011, 0.5100000000000018]\n"
          ]
        }
      ]
    },
    {
      "cell_type": "markdown",
      "source": [
        "# Interpretación\n",
        "\n",
        "- ¿Para qué usar semilla en la generación de números aleatorios?\n",
        "\n",
        "- ¿Qué significa el concepto de periodicidad en la generación de números aleatorios?\n",
        "\n",
        "- ¿Que podria ser una descripción de eficiencia en un algoritmo de generación de números aleatorios?\n",
        "\n",
        "- ¿Qué es una generación de números aleatorios de Fobonnaci y porqué tan popular?\n",
        "\n"
      ],
      "metadata": {
        "id": "F-CNk_cPSKVx"
      }
    },
    {
      "cell_type": "markdown",
      "source": [
        "# Bibliografía\n",
        "\n",
        "Ciaburro, Giuseppe. Hands-On Simulation Modeling with Python: Develop simulation models to get accurate results and enhance decision-making processes Packt Publishing. Kindle Edition."
      ],
      "metadata": {
        "id": "0o53124-AaCK"
      }
    }
  ]
}