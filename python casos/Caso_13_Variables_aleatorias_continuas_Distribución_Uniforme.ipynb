{
  "nbformat": 4,
  "nbformat_minor": 0,
  "metadata": {
    "colab": {
      "provenance": [],
      "authorship_tag": "ABX9TyN+YK0Ltw13KV8TbOcpez9b",
      "include_colab_link": true
    },
    "kernelspec": {
      "name": "python3",
      "display_name": "Python 3"
    },
    "language_info": {
      "name": "python"
    }
  },
  "cells": [
    {
      "cell_type": "markdown",
      "metadata": {
        "id": "view-in-github",
        "colab_type": "text"
      },
      "source": [
        "<a href=\"https://colab.research.google.com/github/rpizarrog/simulacion/blob/main/python%20casos/Caso_13_Variables_aleatorias_continuas_Distribuci%C3%B3n_Uniforme.ipynb\" target=\"_parent\"><img src=\"https://colab.research.google.com/assets/colab-badge.svg\" alt=\"Open In Colab\"/></a>"
      ]
    },
    {
      "cell_type": "markdown",
      "source": [
        "# Variables aleatorias continuas. Distribución Uniforme\n",
        "\n",
        "Existen distintas distribuciones que permiten tratar con variables aleatoris continuas\n",
        "\n",
        "- **Distribución uniforme continua**\n",
        "- Distribución normal\n",
        "- Distribución t student\n",
        "- Distribucuón exponencial\n",
        "- Distribución chi cuadrada\n",
        "- Distribución f de Fisher\n",
        "- Entre otras....\n",
        "\n",
        "\n"
      ],
      "metadata": {
        "id": "_5vJFa_U0tJB"
      }
    },
    {
      "cell_type": "markdown",
      "source": [
        "# Distribución uniforme\n",
        "\n",
        "La distribución uniforme continua es una familia de distribuciones de probabilidad para variables aleatorias continuas, tales que para cada miembro de la familia, todos los intervalos de igual longitud en la distribución en su rango son igualmente probables. El dominio está definido por dos parámetros, a  y b, que son sus valores mínimo y máximo respectivamente.\n",
        "\n",
        "\n",
        "La distribución o modelo uniforme puede considerarse como proveniente de un proceso de extracción aleatoria .El planteamiento radica en el hecho de que la probabilidad se distribuye uniformemente a lo largo de un intervalo . Así : dada una variable aleatoria continua, x\n",
        " , definida en el intervalo [a,b]\n",
        " de la recta real, se dice que x\n",
        " tiene una distribución uniforme en el intervalo [a,b].\n",
        "\n",
        "\n",
        "¿En dónde se utiliza?\n",
        "\n",
        "Todos los valores en un intervalo tienen la misma probabilidad.\n",
        "Se usa para modelar situaciones en las que todas las observaciones son igualmente probables, como en algunas simulaciones o muestreos.\n",
        "\n",
        "### Fórmula de la densidad\n",
        "\n",
        "$$\n",
        "f(x) =\n",
        "\\begin{cases}\n",
        "\\frac{1}{b-a} &,\\, \\text{para }a\\leq x \\leq b ,\\\\\n",
        "0&,\\, \\text{en cualquier otro caso }\n",
        "\\end{cases}\n",
        "$$\n",
        "\n",
        "\n"
      ],
      "metadata": {
        "id": "-nh4V2nx1ED_"
      }
    },
    {
      "cell_type": "markdown",
      "source": [
        "# Objetivo\n",
        "\n",
        "Generar n números aleatorios de la disribución continua y visualizar su histograma y densidad."
      ],
      "metadata": {
        "id": "g9hFvAlGRhNj"
      }
    },
    {
      "cell_type": "markdown",
      "source": [
        "# Desarrollo\n",
        "\n",
        "Existen diversas alternativas para generar números aleatorios de variables continuas en Python.\n",
        "\n",
        "Este caso se ajsutará a utilizar la bilioteca *from scipy.stats* y la correspondiente distribución.\n"
      ],
      "metadata": {
        "id": "IbfLw-Ez1WH7"
      }
    },
    {
      "cell_type": "markdown",
      "source": [
        "## Cargar librerias\n"
      ],
      "metadata": {
        "id": "atulLINc1XyU"
      }
    },
    {
      "cell_type": "code",
      "source": [
        "import random\n",
        "import numpy as np\n",
        "import pandas as pd\n",
        "import seaborn as sns\n",
        "import matplotlib.pyplot as plt\n",
        "\n",
        "from scipy.stats import uniform  # uniforme continua\n",
        "from scipy.stats import norm # normal\n",
        "\n",
        "# from IPython.display import display, HTML # Para html tablas ..."
      ],
      "metadata": {
        "id": "x3zc4lwh1ZXt"
      },
      "execution_count": 3,
      "outputs": []
    },
    {
      "cell_type": "markdown",
      "source": [
        "## Crear funciones\n",
        "\n"
      ],
      "metadata": {
        "id": "0GG79nHh1biF"
      }
    },
    {
      "cell_type": "code",
      "source": [
        "def f_visualizar_histograma_continua (datos, k):\n",
        "  # Crear un gráfico de distribución de la variable continua\n",
        "  sns.histplot(data=datos, kde=True)\n",
        "  plt.xlabel(datos.columns[0])\n",
        "  plt.ylabel('Frecuencia')\n",
        "  plt.title('Distribución de Variable Continua')\n",
        "  plt.show()\n",
        "\n",
        "# Recibe una datos con una variable continua y el número de cortes o clases\n",
        "# que sirven para construir tabla basados en los k clases\n",
        "def f_construye_tabla_distribucion_continua(datos, k):\n",
        "  # Crear una tabla de frecuencia\n",
        "  tabla_frecuencia = pd.cut(datos.iloc[:, 0], bins=k, include_lowest=True).value_counts().reset_index()\n",
        "  tabla_frecuencia.columns = ['Clase', 'Frec']\n",
        "  # tabla_frecuencia\n",
        "\n",
        "  # Ordenar la tabla de frecuencia por el intervalo\n",
        "  tabla_frecuencia = tabla_frecuencia.sort_values(by='Clase')\n",
        "  tabla_frecuencia = tabla_frecuencia.reset_index(drop=True) # Regenera index\n",
        "\n",
        "  # Generar columnas siguientes\n",
        "  tabla_frecuencia['Frec Rel'] = tabla_frecuencia['Frec'] / n\n",
        "  tabla_frecuencia['Frec Porc'] = tabla_frecuencia['Frec'] / n * 100\n",
        "  tabla_frecuencia['Frec Ac'] = tabla_frecuencia['Frec'].cumsum()\n",
        "\n",
        "  return tabla_frecuencia"
      ],
      "metadata": {
        "id": "yMpcKyYh4QEe"
      },
      "execution_count": 4,
      "outputs": []
    },
    {
      "cell_type": "markdown",
      "source": [
        "## Sembrar la semilla\n"
      ],
      "metadata": {
        "id": "c_s7jK_O5GlO"
      }
    },
    {
      "cell_type": "code",
      "source": [
        "random.seed(2023) ## semilla año 2023"
      ],
      "metadata": {
        "id": "2HosQ1sn5IXG"
      },
      "execution_count": 5,
      "outputs": []
    },
    {
      "cell_type": "markdown",
      "source": [
        "### Ejercicio Pizza\n",
        "\n",
        "La entrega de Pizzas llega entre 15 y 45 minutos de manera uniforme. Simular 100 entregas y luego calcular la probabilida de que la entrega llegue entre 20 y 30 minutos."
      ],
      "metadata": {
        "id": "xAzHJjUFR4Z3"
      }
    },
    {
      "cell_type": "code",
      "source": [
        "# Generar 100 números aleatorios en una distribución uniforme entre 15 y 45 minutos\n",
        "min = 15\n",
        "max = 45 - min # o sea 30 a partir de 15 que da 45 el valor máximo\n",
        "n = 100\n",
        "\n",
        "# Crear una variable aleatoria uniforme continua\n",
        "uniform_rv = uniform(loc = min, scale = max)  # los define el inicio 15 y scale la amplitud\n",
        "\n",
        "# Generar números aleatorios a partir de la distribución\n",
        "numeros_aleatorios = uniform_rv.rvs(size=n)\n",
        "\n",
        "\n",
        "# Imprimir los números aleatorios\n",
        "np.round(numeros_aleatorios, 4)"
      ],
      "metadata": {
        "colab": {
          "base_uri": "https://localhost:8080/"
        },
        "id": "wSNy8-ql1iFF",
        "outputId": "e545cd47-52fc-41c4-9a48-a0683c3fe3c1"
      },
      "execution_count": 6,
      "outputs": [
        {
          "output_type": "execute_result",
          "data": {
            "text/plain": [
              "array([36.6805, 38.1843, 41.1124, 41.5813, 38.9076, 36.2665, 22.4825,\n",
              "       20.1696, 42.0903, 31.2428, 25.9759, 27.6483, 37.4293, 30.8142,\n",
              "       39.6819, 33.7082, 20.1563, 35.0783, 20.3216, 25.1076, 24.7281,\n",
              "       21.0008, 38.4592, 32.7192, 26.3382, 15.0591, 29.4284, 30.6761,\n",
              "       40.283 , 29.1487, 17.7456, 34.7611, 15.2901, 26.8489, 24.6594,\n",
              "       17.9237, 42.0127, 43.2405, 30.7107, 40.8441, 40.2703, 15.1789,\n",
              "       35.1686, 33.0024, 25.2643, 37.682 , 29.3649, 40.1485, 42.4256,\n",
              "       20.7257, 41.8197, 41.5646, 19.952 , 44.3455, 25.3361, 26.7524,\n",
              "       27.8828, 21.4872, 26.384 , 29.6175, 26.6892, 44.5348, 41.1103,\n",
              "       37.1603, 20.1851, 31.3533, 15.3428, 35.2172, 15.9635, 35.7207,\n",
              "       35.0895, 25.9887, 22.0573, 37.4392, 42.5311, 32.5654, 21.5129,\n",
              "       30.0412, 34.5977, 17.6163, 35.2565, 42.5292, 23.5164, 20.7372,\n",
              "       17.7648, 40.3476, 25.6448, 40.1668, 21.96  , 32.2009, 35.5197,\n",
              "       43.1444, 27.4068, 24.8748, 38.4358, 20.4201, 15.8776, 31.2375,\n",
              "       43.7762, 42.9985])"
            ]
          },
          "metadata": {},
          "execution_count": 6
        }
      ]
    },
    {
      "cell_type": "markdown",
      "source": [
        "### Visualizar histograma y su densidad\n"
      ],
      "metadata": {
        "id": "ESWG3SM04qM-"
      }
    },
    {
      "cell_type": "code",
      "source": [
        "# Convertir los números aleatorios a un data.frame\n",
        "datos = pd.DataFrame({\"tiempos\" :numeros_aleatorios})\n",
        "k = 7 # Numero de cortes o divisiones o clases en el histograma\n",
        "\n",
        "# Solo mandar llamar la función\n",
        "\n",
        "f_visualizar_histograma_continua (datos, k)"
      ],
      "metadata": {
        "colab": {
          "base_uri": "https://localhost:8080/",
          "height": 472
        },
        "id": "J5MmsAFW4uqa",
        "outputId": "0820c9cd-e6f6-43f7-e8d9-ab27fedf9249"
      },
      "execution_count": 7,
      "outputs": [
        {
          "output_type": "display_data",
          "data": {
            "text/plain": [
              "<Figure size 640x480 with 1 Axes>"
            ],
            "image/png": "[encoded data removed]"
          },
          "metadata": {}
        }
      ]
    },
    {
      "cell_type": "markdown",
      "source": [
        "### Curva de densidad y probabilidad área bajo la curva\n",
        "\n",
        "Se visualiza sólo la curva de densidad  por cada valor de los datos.\n",
        "\n",
        "¿Cuál es la probabilidad de que la piza llegue entre 20 y 30 minutos?\n",
        "\n"
      ],
      "metadata": {
        "id": "raPvcLdsMNeY"
      }
    },
    {
      "cell_type": "markdown",
      "source": [
        "Se utiliza la función *pdf()* de la librería *scipy.stats*\n",
        "\n"
      ],
      "metadata": {
        "id": "E-CJEbj5ROxG"
      }
    },
    {
      "cell_type": "code",
      "source": [
        "# Intervalo a visualizar\n",
        "intervalo_a = 20\n",
        "intervalo_b = intervalo_a + 10  # Hasta 30\n",
        "\n",
        "# Crear una secuencia de valores en el rango completo de la distribución uniforme\n",
        "x = np.linspace(min, max+min)\n",
        "\n",
        "# Calcular la densidad de probabilidad de la distribución uniforme\n",
        "densidad = uniform.pdf(x, loc=min, scale=max)\n",
        "\n",
        "# Dibujar la curva de densidad de probabilidad\n",
        "plt.plot(x, densidad, 'r-', lw=2)\n",
        "\n",
        "# Resaltar el área bajo la curva entre 20 y 30\n",
        "x_fill = np.linspace(intervalo_a, intervalo_b)\n",
        "y_fill = uniform.pdf(x_fill, loc=intervalo_a, scale=intervalo_b)\n",
        "plt.fill_between(x_fill, y_fill, alpha=0.3, color='orange')\n",
        "\n",
        "# Etiquetas y título del gráfico\n",
        "plt.xlabel('Tiempos (mins)')\n",
        "plt.ylabel('Densidad de probabilidad')\n",
        "plt.title('Distribución Uniforme y Área bajo la Curva')\n",
        "\n",
        "# Mostrar el gráfico\n",
        "plt.show()"
      ],
      "metadata": {
        "colab": {
          "base_uri": "https://localhost:8080/",
          "height": 474
        },
        "id": "auFZLEXJMafJ",
        "outputId": "b52c3e86-96c7-447b-c83f-1b340c53997c"
      },
      "execution_count": 8,
      "outputs": [
        {
          "output_type": "display_data",
          "data": {
            "text/plain": [
              "<Figure size 640x480 with 1 Axes>"
            ],
            "image/png": "[encoded data removed]"
          },
          "metadata": {}
        }
      ]
    },
    {
      "cell_type": "markdown",
      "source": [
        "### La probabilidad\n",
        "\n",
        "¿Cúal es la probabilidad de que la Pizza llegue entre 20 y 30 minutos?.\n"
      ],
      "metadata": {
        "id": "6-OTTHI-ysYF"
      }
    },
    {
      "cell_type": "code",
      "source": [
        "# Calcular la probabilidad de que llegue entre 20 y 30 minutos\n",
        "probabilidad = uniform.cdf(intervalo_b, loc=min, scale=max) - uniform.cdf(intervalo_a, loc=min, scale=max)\n",
        "#probabilidad = probabilidad * 100\n",
        "print(f\"La probabilidad de que la pizza llegue entre 20 y 30 minutos es: {probabilidad:.2f} %\")\n",
        "print (\"Es lo que representa el área amarilla con respecto al 100% en la imagen anterior\")"
      ],
      "metadata": {
        "colab": {
          "base_uri": "https://localhost:8080/"
        },
        "id": "iFSCRc4FTJ6m",
        "outputId": "bac32b14-0a23-45ce-b57c-112d14bd7733"
      },
      "execution_count": 9,
      "outputs": [
        {
          "output_type": "stream",
          "name": "stdout",
          "text": [
            "La probabilidad de que la pizza llegue entre 20 y 30 minutos es: 0.33 %\n",
            "Es lo que representa el área amarilla con respecto al 100% en la imagen anterior\n"
          ]
        }
      ]
    },
    {
      "cell_type": "markdown",
      "source": [
        "# Interpretación\n",
        "\n",
        "Pendiente ..."
      ],
      "metadata": {
        "id": "12IkblHTe5q1"
      }
    }
  ]
}