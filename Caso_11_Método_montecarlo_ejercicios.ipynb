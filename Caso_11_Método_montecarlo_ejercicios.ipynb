{
  "nbformat": 4,
  "nbformat_minor": 0,
  "metadata": {
    "colab": {
      "provenance": [],
      "authorship_tag": "ABX9TyPs0xerFIv0RDJMBy+nrL3O",
      "include_colab_link": true
    },
    "kernelspec": {
      "name": "python3",
      "display_name": "Python 3"
    },
    "language_info": {
      "name": "python"
    }
  },
  "cells": [
    {
      "cell_type": "markdown",
      "metadata": {
        "id": "view-in-github",
        "colab_type": "text"
      },
      "source": [
        "<a href=\"https://colab.research.google.com/github/rpizarrog/simulacion/blob/main/Caso_11_M%C3%A9todo_montecarlo_ejercicios.ipynb\" target=\"_parent\"><img src=\"https://colab.research.google.com/assets/colab-badge.svg\" alt=\"Open In Colab\"/></a>"
      ]
    },
    {
      "cell_type": "markdown",
      "source": [
        "# Objetivo\n",
        "\n",
        "Simular el método montecarlo\n",
        "\n",
        "# Descripción\n",
        "\n",
        "Simular el tiro al blanco en el círculo de radi igual a 1 y centro coordenada en 1,1\n",
        "\n"
      ],
      "metadata": {
        "id": "uxEy7nQlRFUX"
      }
    },
    {
      "cell_type": "markdown",
      "source": [
        "# Desarrollo\n"
      ],
      "metadata": {
        "id": "-keFqKVNRSCf"
      }
    },
    {
      "cell_type": "markdown",
      "source": [
        "## Cargar librerías\n",
        "\n"
      ],
      "metadata": {
        "id": "oGxDxwmvRTqZ"
      }
    },
    {
      "cell_type": "code",
      "source": [
        "import random\n",
        "import math as mt\n",
        "import plotly.express as px\n",
        "import pandas as pd\n",
        "import matplotlib.pyplot as plt\n",
        "import numpy as np\n",
        "\n",
        "from scipy.stats import norm\n"
      ],
      "metadata": {
        "id": "0356EdToR4RY"
      },
      "execution_count": 52,
      "outputs": []
    },
    {
      "cell_type": "markdown",
      "source": [
        "## Crear funciones\n",
        "\n"
      ],
      "metadata": {
        "id": "QnTAe5c8R-ls"
      }
    },
    {
      "cell_type": "code",
      "source": [
        "def f_visualizar_tiros(x1, y1, adentro):\n",
        "  tiros = pd.DataFrame({'x': x1, 'y': y1, 'adentro':adentro})\n",
        "  # print(tiros)\n",
        "\n",
        "  # Centro y radio del círculo\n",
        "  centro = (1, 1)\n",
        "  radio = 1\n",
        "\n",
        "  # Crear un conjunto de puntos para el círculo\n",
        "  theta = np.linspace(0, 2*np.pi, 100)\n",
        "  x = centro[0] + radio * np.cos(theta)\n",
        "  y = centro[1] + radio * np.sin(theta)\n",
        "\n",
        "  # Crear la figura y el gráfico\n",
        "  fig, ax = plt.subplots()\n",
        "  ax.plot(x, y)\n",
        "  ax.set_aspect('equal', adjustable='box')\n",
        "  ax.set_xlim(0, 2)\n",
        "  ax.set_ylim(0, 2)\n",
        "  ax.set_xlabel('Eje X')\n",
        "  ax.set_ylabel('Eje Y')\n",
        "\n",
        "  # Marcar el centro del círculo\n",
        "  ax.plot(centro[0], centro[1])\n",
        "\n",
        "  colors = ['green' if a == 1 else 'red' for a in adentro]\n",
        "  # Agregar los puntos generados\n",
        "  ax.scatter(x1, y1, c=colors, s=5)\n",
        "\n",
        "  # Mostrar la leyenda\n",
        "  ax.legend()\n",
        "\n",
        "  # Mostrar el gráfico\n",
        "  plt.show()\n",
        "\n",
        "def f_monte_carlo_pi(n):\n",
        "  aciertos = 0\n",
        "  x = []\n",
        "  y = []\n",
        "  adentro = []\n",
        "  for t in range(n):\n",
        "    x_coord = random.uniform(0, 2)\n",
        "    y_coord = random.uniform(0, 2)\n",
        "    x.append(x_coord)  # Genera x aleatorio entre 0 y 2\n",
        "    y.append(y_coord)  # Genera y aleatorio entre 0 y 2\n",
        "    distancia = mt.sqrt((x_coord-1)**2+(y_coord-1)**2) # Distancia conforme a formula de distancia\n",
        "    # print(\"distancia y coordenada \", distancia, x, y)\n",
        "\n",
        "    if distancia <= 1:\n",
        "      aciertos += 1\n",
        "      adentro.append(1)\n",
        "    else:\n",
        "      adentro.append(0)\n",
        "\n",
        "  prob = aciertos / n\n",
        "  pi_aprox= (aciertos / n) * 4  # Probabilidad * 4 da un valor aproximado de pi\n",
        "  f_visualizar_tiros(x, y, adentro)\n",
        "  return aciertos, prob, pi_aprox\n",
        "\n",
        "# # Función para simular una compra\n",
        "def f_simular_compra(num_articulos, media_precio, desviacion_precio):\n",
        "    return [random.normalvariate(media_precio, desviacion_precio) for _ in range(num_articulos)]\n",
        "\n",
        "def f_visualizar_compras(media1, desv1, media2, desv2):\n",
        "  # Crear datos para las dos distribuciones\n",
        "  datos1 = np.random.normal(media1, desv1, 1000)\n",
        "  datos2 = np.random.normal(media2, desv2, 1000)\n",
        "\n",
        "  print (datos1)\n",
        "\n",
        "  # Crear un rango de valores para el eje x\n",
        "  x = np.linspace(0, 10, 1000)\n",
        "\n",
        "  # Calcular las densidades de probabilidad para las dos distribuciones\n",
        "  densidad1 = norm.pdf(datos1, media1, desv1)\n",
        "  # densidad2 = norm.pdf(x, media2, desv2)\n",
        "\n",
        "  print (densidad1)\n",
        "\n",
        "  # Crear el gráfico\n",
        "  plt.figure(figsize=(10, 6))\n",
        "  plt.plot(x, densidad1, label=f'Media: {media1}, Desviación Estándar: {desv1}')\n",
        "  # plt.plot(x, densidad2, label=f'Media: {media2}, Desviación Estándar: {desv2}')\n",
        "  plt.legend()\n",
        "  plt.title('Distribuciones de Densidad')\n",
        "  plt.xlabel('Valores')\n",
        "  plt.ylabel('Densidad de Probabilidad')\n",
        "  plt.grid(True)\n",
        "  plt.show()"
      ],
      "metadata": {
        "id": "zdE8rRq2SA8h"
      },
      "execution_count": 54,
      "outputs": []
    },
    {
      "cell_type": "code",
      "source": [
        "# Crear datos para las dos distribuciones\n",
        "media1, desviacion_estandar1 = 0, 1\n",
        "media2, desviacion_estandar2 = 2, 0.5\n",
        "\n"
      ],
      "metadata": {
        "id": "KQl1PViqUptH"
      },
      "execution_count": null,
      "outputs": []
    },
    {
      "cell_type": "markdown",
      "source": [
        "##  Tiro al blanco\n",
        "\n",
        "En un círculo de radio igual a 1 con centro en coordenada (1,1) inscrito en un cuadrado de lado igual a 2.\n",
        "\n",
        "Determina el valor de pi aproximado con un asimulación de valores aleatorios uniformente entre 0 y 2.\n",
        "\n",
        "Simule con diversos valroes de generación de números aleatorios\n",
        "\n"
      ],
      "metadata": {
        "id": "PSXliWGfRWD2"
      }
    },
    {
      "cell_type": "code",
      "source": [
        "# Simular tiro al blanco\n",
        "\n",
        "# Probar las funciones\n",
        "n = 1000000 #  0000000 #00000  # Número de puntos aleatorios generados\n",
        "aciertos, prob, pi_aprox = f_monte_carlo_pi(n)\n",
        "# print (\"Aciertos  = \", )\n",
        "print (\"Aciertos = \", aciertos, \" de entre \", n , \" tiros; \", \"probabilidad es \", prob)\n",
        "print(f\"Estimación de pi con {n} muestras: \", pi_aprox)\n"
      ],
      "metadata": {
        "colab": {
          "base_uri": "https://localhost:8080/",
          "height": 562
        },
        "id": "5KGsrxdfSJAP",
        "outputId": "5626cf3c-53a3-4446-8d7f-3f48d6f0cb23"
      },
      "execution_count": 63,
      "outputs": [
        {
          "output_type": "stream",
          "name": "stderr",
          "text": [
            "WARNING:matplotlib.legend:No artists with labels found to put in legend.  Note that artists whose label start with an underscore are ignored when legend() is called with no argument.\n",
            "/usr/local/lib/python3.10/dist-packages/IPython/core/pylabtools.py:151: UserWarning: Creating legend with loc=\"best\" can be slow with large amounts of data.\n",
            "  fig.canvas.print_figure(bytes_io, **kw)\n"
          ]
        },
        {
          "output_type": "display_data",
          "data": {
            "text/plain": [
              "<Figure size 640x480 with 1 Axes>"
            ],
            "image/png": "[encoded data removed]"
          },
          "metadata": {}
        },
        {
          "output_type": "stream",
          "name": "stdout",
          "text": [
            "Aciertos =  785373  de entre  1000000  tiros;  probabilidad es  0.785373\n",
            "Estimación de pi con 1000000 muestras:  3.141492\n"
          ]
        }
      ]
    },
    {
      "cell_type": "markdown",
      "source": [],
      "metadata": {
        "id": "QuwORW8ZRvHN"
      }
    },
    {
      "cell_type": "markdown",
      "source": [
        "## Compra de artículos\n",
        "\n",
        "Se simula n compras de 5 artículo determinando la media de todas las comrpas en una generación aleatoria de comrpas bajo la distribución  norma\n"
      ],
      "metadata": {
        "id": "kNjmKnDjSub3"
      }
    },
    {
      "cell_type": "code",
      "source": [
        "# Compras de productos\n",
        "\n",
        "# Parámetros de la simulación\n",
        "num_compras = 1000  # Número de compras simuladas\n",
        "num_articulos = 5   # Número de artículos en cada compra\n",
        "media_precio = 50   # Media del precio de un artículo\n",
        "desviacion_precio = 10  # Desviación estándar del precio de un artículo\n",
        "\n",
        "# Realizar la simulación de Montecarlo\n",
        "costos_promedio = []\n",
        "for _ in range(num_compras):\n",
        "    compra = f_simular_compra(num_articulos, media_precio, desviacion_precio)\n",
        "    # print (\"compra\", compra)\n",
        "\n",
        "    costo_promedio_compra = np.mean(compra)\n",
        "    # print(\"costo promedio compra\", costo_promedio_compra)\n",
        "\n",
        "    costos_promedio.append(costo_promedio_compra)\n",
        "\n",
        "# Calcular la estimación de Montecarlo del costo promedio\n",
        "estimacion_costo_promedio = np.mean(costos_promedio)\n",
        "estimacion_costo_desv_std = np.std(costos_promedio)\n",
        "\n",
        "print (\"Precio promedio inicial\", media_precio)\n",
        "print (\"Desviación estándar inicial \", desviacion_precio)\n",
        "print(\"\\n\")\n",
        "\n",
        "print(f\"Estimación Montecarlo del costo promedio de una compra: {estimacion_costo_promedio}\")\n",
        "print(f\"Desviación estándar de: {estimacion_costo_desv_std}\")\n",
        "\n",
        "\n",
        "# Pendiente ...\n",
        "# f_visualizar_compras(media_precio, desviacion_precio, estimacion_costo_promedio, estimacion_costo_desv_std)"
      ],
      "metadata": {
        "colab": {
          "base_uri": "https://localhost:8080/"
        },
        "id": "CBadk0Nq0b4S",
        "outputId": "de2191c5-2603-488f-d57a-54e996933b07"
      },
      "execution_count": 69,
      "outputs": [
        {
          "output_type": "stream",
          "name": "stdout",
          "text": [
            "Precio promedio inicial 50\n",
            "Desviación estándar inicial  10\n",
            "\n",
            "\n",
            "Estimación Montecarlo del costo promedio de una compra: 49.99159511237279\n",
            "Desviación estándar de: 4.410918118626891\n"
          ]
        }
      ]
    },
    {
      "cell_type": "markdown",
      "source": [
        "# Simular casos de contagio\n",
        "\n",
        "Simular bajo una condición aleatoria casos de contagio (por ejemplo COVID) usando método de Motecarlo.\n",
        "\n",
        "pendiente ...\n",
        "\n",
        "Representar visualmente.\n",
        "\n",
        "\n",
        "\n",
        "\n"
      ],
      "metadata": {
        "id": "dsk7Scb2TsTV"
      }
    },
    {
      "cell_type": "markdown",
      "source": [
        "## Simular manos de póker con dos jugadores\n",
        "\n",
        "Simular mano de póker con dos jugadores\n",
        "\n",
        "pendiente ...\n",
        "Representar visualmente."
      ],
      "metadata": {
        "id": "ZBxfXmuBT0Tk"
      }
    },
    {
      "cell_type": "markdown",
      "source": [
        "## Simular productos defecutuosos de un proceso de fabricación\n",
        "\n",
        "En un proceso de fabricación de productos, existe cierta cantidad de productos defectuosos que se comportan bajo una distribución tal vez (hipergeometrica).\n",
        "\n",
        "Simular mediante método de motencarlo y unacondición de aleatoriedad la cantidad de productos defectuosos.\n",
        "\n",
        "\n",
        "Pendiente ...\n",
        "\n"
      ],
      "metadata": {
        "id": "142FmOsZkBpM"
      }
    },
    {
      "cell_type": "markdown",
      "source": [
        "## Simular comportamiento de votaciones\n",
        "\n",
        "Simular comportamiento de votaciones en un proceso de elección.\n",
        "\n",
        "Representar visualmente.\n",
        "\n"
      ],
      "metadata": {
        "id": "oR4O4QFmrttU"
      }
    },
    {
      "cell_type": "markdown",
      "source": [
        "## Simular resultados deportivos\n",
        "\n",
        "Simular bajo el método de motencarlo resutlados deportivos basado en historia de ganados y perdidos.\n",
        "\n",
        "Representar visualmente."
      ],
      "metadata": {
        "id": "Tf1IXnnRr1Mb"
      }
    },
    {
      "cell_type": "markdown",
      "source": [
        "# Interpretación\n",
        "\n",
        "Pendiente"
      ],
      "metadata": {
        "id": "LQphK9onTp2m"
      }
    }
  ]
}