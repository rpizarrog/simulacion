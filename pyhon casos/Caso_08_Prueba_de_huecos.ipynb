{
  "nbformat": 4,
  "nbformat_minor": 0,
  "metadata": {
    "colab": {
      "provenance": [],
      "authorship_tag": "ABX9TyOytkRFlHwbWAkcoopl6FRe",
      "include_colab_link": true
    },
    "kernelspec": {
      "name": "python3",
      "display_name": "Python 3"
    },
    "language_info": {
      "name": "python"
    }
  },
  "cells": [
    {
      "cell_type": "markdown",
      "metadata": {
        "id": "view-in-github",
        "colab_type": "text"
      },
      "source": [
        "<a href=\"https://colab.research.google.com/github/rpizarrog/simulacion/blob/main/pyhon%20casos/Caso_08_Prueba_de_huecos.ipynb\" target=\"_parent\"><img src=\"https://colab.research.google.com/assets/colab-badge.svg\" alt=\"Open In Colab\"/></a>"
      ]
    },
    {
      "cell_type": "markdown",
      "source": [
        "# Objetivo\n",
        "\n",
        "Realiza prueba de independencia de una secuencia de datos pseudoaleatorio.\n",
        "\n",
        "# Descripción\n",
        "\n",
        "* Se cargan librerías.\n",
        "* Se crear los datos a parir de una lista de números que puede ser números generados de manera aleatoria o que provienen de una muestra aleatoria.\n",
        "* Se genera secuencia de 0's y 1's y se determinan los huecos.\n",
        "* Se construye una tabla de frecuencia con la frecuencia de valores que hay de cada hueco. ses determina la freuencia de ¿cuántos huecos de 0?, ¿cuántos de 1?, ¿cúantos de 2? así sucesivamente.\n",
        "* Se construye la tabla de frecuencia con los valores observados, esperados y chi cuadrada en relación los huecos de la secuencia.\n",
        "* Se determinan las sumatorias\n",
        "* Se establece el valor de alfa de significancia.\n",
        "* Se establece hipótesis nula $H_0$  y alternativa $H_a$.\n",
        "\n",
        "$$\n",
        "H_0: \\text{Los datos SI son independientes}\n",
        "$$\n",
        "\n",
        "$$\n",
        "H_a: \\text{Los datos NO son independientes}\n",
        "$$\n",
        "* Se contrasta el valor calculado de chi cuadrada calcuadi que debe ser menor en relción a el valor chi cuadrada de prueba determinado por la distribución chi cuadrada por la derecha.\n",
        "\n",
        "* Si es menor el valor chi cuadrada calculado contra el valor de prueba chi se acepta $H_0$ de lo contrario se rechaza $H_0$**.\n",
        "\n",
        "* De acuerdo al contraste se toma la decisión de aceptar la $H_0$ de si los datos son independientes o no son independientes.\n",
        "\n",
        "\n"
      ],
      "metadata": {
        "id": "ZFml0JttnnC5"
      }
    },
    {
      "cell_type": "markdown",
      "source": [
        "# Conceptos\n",
        "\n",
        "La independencia de los datos es un concepto fundamental en estadísticas y análisis de datos que se refiere a la falta de relación o dependencia entre las observaciones o eventos.\n",
        "\n",
        "Existen diversar puebas estadísticas como las pruebas de póker, prueba de corrida arriba abajo, prueba de series, prueba de huecos entre otros que se utilizan para identificar independencia o no de los datos y que ayudan a la interpretación de los resultados con precisión.\n",
        "\n",
        "La independencia de datos es un concepto estadístico y puede depender del contexto de los datos, de la muestra y de los análisis específicos.\n",
        "\n",
        "Datos Independientes: Cuando los datos son independientes, significa que la ocurrencia o valor de un evento o punto no está influenciado por los otros eventos o puntos en el conjunto de datos. En otras palabras, no hay relación causal o dependencia entre las observaciones. Cada observación se considera un evento aislado y no afecta ni está influenciada por las demás.\n",
        "\n",
        "Datos No Independientes: Si los datos no son independientes, implica que existe algún tipo de relación o dependencia entre las observaciones. Esto puede manifestarse en diferentes formas, tal vez detectando algún patrón que indica que las observaciones no son eventos aislados y se ven afectados por otros.\n",
        "\n",
        "En el contexto de las pruebas de huecos, se asume la independencia espacial, lo que significa que la ocurrencia de un evento en una ubicación no afecta la ocurrencia de eventos en otras ubicaciones. Si los datos son independientes, se espera que los huecos se distribuyan de manera aleatoria en el espacio.\n",
        "\n",
        "En el contexto de las pruebas de póker, la independencia es fundamental para evaluar si las manos son aleatorias o si muestran patrones específicos de dependencia. Por ejemplo, en una mano de póker, se asume que las cartas se barajan de manera aleatoria y que no hay dependencia entre las cartas que se reparten.\n",
        "\n",
        "En resumen, la independencia de los datos es un supuesto importante en muchas pruebas estadísticas, ya que permite realizar inferencias válidas sobre las distribuciones y patrones observados.\n",
        "\n",
        "Cuando se sospecha que los datos no son independientes, es necesario considerar otros métodos y análisis específicos.\n",
        "\n",
        "Las pruebas de independencia de datos se contrasatan contra el valor estadístico de prueba de *chi cuadrada* cola a la derecha.\n",
        "\n",
        "La funcion en Python que devuelve el estadístico de prueba es *chi2.ppf(1 - alfa_significancia, df=grados de libertdad)*\n",
        "\n",
        "\n",
        "## Restricciones prueba de huecos\n",
        "\n",
        "$$\n",
        "\\text{Los datos pseudoaleatorios deben ser entre 0 y 1; r ∈(0,1)}\n",
        "$$\n",
        "\n",
        "$$\n",
        "\\text{ el intervalo o rango se define entre α y β };(\\alpha, \\beta)\n",
        "$$\n",
        "\n",
        "$$\n",
        "\\text{ α debe ser menor que β}; (\\alpha < \\beta)\n",
        "$$\n",
        "\n",
        "$$\n",
        "(α, β) ∈ (0, 1)\n",
        "$$\n",
        "\n",
        "$$\n",
        "S_=\n",
        "\\begin{cases}\n",
        "0, \\text{si r ∉(α, β)};\\\\\n",
        "1, \\text{si r ∈(α, β)}\n",
        "\\end{cases}\n",
        "$$"
      ],
      "metadata": {
        "id": "afTYhEBWo00Y"
      }
    },
    {
      "cell_type": "markdown",
      "source": [
        "# Desarrollo"
      ],
      "metadata": {
        "id": "6KeLQ4p8o5L1"
      }
    },
    {
      "cell_type": "markdown",
      "source": [
        "## Librerías\n"
      ],
      "metadata": {
        "id": "aTSzw52jW3m1"
      }
    },
    {
      "cell_type": "code",
      "source": [
        "import numpy as np\n",
        "import pandas as pd\n",
        "from scipy.stats import chi2"
      ],
      "metadata": {
        "id": "aPBjBjM2XDOl"
      },
      "execution_count": 38,
      "outputs": []
    },
    {
      "cell_type": "markdown",
      "source": [
        "## Crear funciones\n",
        "\n"
      ],
      "metadata": {
        "id": "0WKFTfYTZUYe"
      }
    },
    {
      "cell_type": "code",
      "source": [
        "def f_secuencia(numeros, li, ls):\n",
        "  # Crea la secuencia binaria\n",
        "  secuencia = np.where((datos >= li) & (datos <= ls), 1, 0)\n",
        "  return secuencia\n",
        "\n",
        "def f_huecos(secuencia):\n",
        "  huecos = 0\n",
        "  cuantos_ceros = []\n",
        "  n = len(secuencia)\n",
        "  # Contar los huecos\n",
        "  i = 0\n",
        "  while i < (n - 1):\n",
        "    if secuencia[i] == 1:\n",
        "        huecos += 1\n",
        "        j = i + 1\n",
        "        ceros = 0\n",
        "        while j < n and secuencia[j] == 0:\n",
        "            ceros += 1\n",
        "            j += 1\n",
        "        cuantos_ceros.append(ceros)\n",
        "    i += 1\n",
        "  return huecos, cuantos_ceros\n",
        "# print(\"Número de huecos entre unos consecutivos:\", huecos)\n",
        "# print(\"Cuántos ceros\")\n",
        "# print(cuantos_ceros)\n",
        "\n",
        "def f_tabla_frec_huecos (cuantos_ceros, li, ls):\n",
        "  huecos = len (cuantos_ceros)\n",
        "  # Determina los valores mínimo y máximo en cuantos_ceros\n",
        "  minimo_huecos = min(cuantos_ceros)\n",
        "  maximo_huecos = max(cuantos_ceros) + 1\n",
        "\n",
        "  # Crea una lista de rango desde 0 hasta 4\n",
        "  rango = list(range(maximo_huecos+1))\n",
        "\n",
        "  # Crea un diccionario para contar la frecuencia de cada número\n",
        "  frecuencia = {valor: cuantos_ceros.count(valor) for valor in rango}\n",
        "\n",
        "  # Crea un DataFrame a partir del diccionario\n",
        "  tabla = pd.DataFrame(list(frecuencia.items()), columns=['Xi', 'Frec_Oi'])\n",
        "\n",
        "  # Ordenar la tabla de frecuencias por el número de ceros Xi:\n",
        "  tabla = tabla.sort_values(by='Xi')\n",
        "\n",
        "  # Calcular Frec_Ei\n",
        "  alfa = li\n",
        "  beta = ls\n",
        "  h = huecos\n",
        "\n",
        "  Frec_Ei = []\n",
        "  for i in range(maximo_huecos+1):\n",
        "    #print (i)\n",
        "    if i < maximo_huecos:\n",
        "      Frec_Ei.append(h * (beta - alfa) * (1 - (beta - alfa)) ** i)\n",
        "    else:\n",
        "      Frec_Ei.append(h * (1 - (beta - alfa)) ** i)\n",
        "\n",
        "  tabla['Frec_Ei'] = Frec_Ei\n",
        "\n",
        "  tabla['chi_cuad'] = (tabla['Frec_Ei'] - tabla['Frec_Oi']) ** 2 / (tabla['Frec_Ei'])\n",
        "  # Calcular el valor Esperado Frec_Ei\n",
        "\n",
        "  # Las sumatorias:\n",
        "  suma_Ei = sum(tabla['Frec_Ei'])\n",
        "  suma_Oi = sum(tabla['Frec_Oi'])\n",
        "  suma_chi_cuad = sum(tabla['chi_cuad'])\n",
        "  print (\"Suma de Ei\", suma_Ei)\n",
        "  print (\"Suma de Oi\", suma_Ei)\n",
        "  print (\"Suma de chi_cuadi\", suma_chi_cuad)\n",
        "  return tabla, suma_chi_cuad\n"
      ],
      "metadata": {
        "id": "gjImzF2wZhRI"
      },
      "execution_count": 39,
      "outputs": []
    },
    {
      "cell_type": "markdown",
      "source": [
        "## Cargar o crear datos presudoaleatorios"
      ],
      "metadata": {
        "id": "VRi1d6-VW5i-"
      }
    },
    {
      "cell_type": "code",
      "source": [
        "\n",
        "# Los datos\n",
        "datos = np.array([0.7, 0.08, 0.29, 0.04, 0.33, 0.93, 0.04, 0.06, 0.4, 0.72,\n",
        "                  0.19, 0.21, 0.01, 0.53, 0.73, 0.99, 0.76, 0.2, 0.39, 0.5,\n",
        "                  0.02, 0.4, 0.33, 0.89, 0.57, 0.19, 0.63, 0.54, 0.49, 0.76,\n",
        "                  0.19, 0.74, 0.34, 0.87, 0.46, 0.58, 0.81, 0.74, 0.06, 0.68,\n",
        "                  0.12, 0.86, 0.87, 0.75, 0.53, 0.09, 0.1, 0.6, 0.05, 0.34])\n",
        "print(datos)"
      ],
      "metadata": {
        "colab": {
          "base_uri": "https://localhost:8080/"
        },
        "id": "9OLuXkiiXKF8",
        "outputId": "f238dfe0-174e-489d-b702-ed9d8991ea9f"
      },
      "execution_count": 40,
      "outputs": [
        {
          "output_type": "stream",
          "name": "stdout",
          "text": [
            "[0.7  0.08 0.29 0.04 0.33 0.93 0.04 0.06 0.4  0.72 0.19 0.21 0.01 0.53\n",
            " 0.73 0.99 0.76 0.2  0.39 0.5  0.02 0.4  0.33 0.89 0.57 0.19 0.63 0.54\n",
            " 0.49 0.76 0.19 0.74 0.34 0.87 0.46 0.58 0.81 0.74 0.06 0.68 0.12 0.86\n",
            " 0.87 0.75 0.53 0.09 0.1  0.6  0.05 0.34]\n"
          ]
        }
      ]
    },
    {
      "cell_type": "markdown",
      "source": [
        "## Crear la secuencia de 0's y 1's\n",
        "\n",
        "La secuencia se crea con base en los rangos con el valor de límite inferior y superior alfa y beta en término de la fórmula.\n",
        "\n",
        "$$\n",
        "alfa = \\alpha = 0.3\n",
        "$$\n",
        "\n",
        "$$\n",
        "beta = \\beta = 0.8 \\therefore\n",
        "$$\n",
        "\n",
        "$$\n",
        "\\alpha \\text {, debe ser menor que }\\beta\n",
        "$$\n",
        "\n",
        "$$\n",
        "\\alpha < \\beta\n",
        "$$\n"
      ],
      "metadata": {
        "id": "1nPKlAItXQL1"
      }
    },
    {
      "cell_type": "code",
      "source": [
        "# Establece los umbrales\n",
        "li = 0.3\n",
        "ls = 0.8\n",
        "\n",
        "# Crea la secuencia binaria\n",
        "secuencia = f_secuencia(datos, li, ls )\n",
        "\n",
        "n = len(secuencia)\n",
        "print(n)\n",
        "print(secuencia)\n",
        "#print(np.array(secuencia).reshape(5, 10))\n"
      ],
      "metadata": {
        "colab": {
          "base_uri": "https://localhost:8080/"
        },
        "id": "ESZPuUdSYRJ0",
        "outputId": "6d512116-4512-4ec4-f066-e5db1f79c378"
      },
      "execution_count": 41,
      "outputs": [
        {
          "output_type": "stream",
          "name": "stdout",
          "text": [
            "50\n",
            "[1 0 0 0 1 0 0 0 1 1 0 0 0 1 1 0 1 0 1 1 0 1 1 0 1 0 1 1 1 1 0 1 1 0 1 1 0\n",
            " 1 0 1 0 0 0 1 1 0 0 1 0 1]\n"
          ]
        }
      ]
    },
    {
      "cell_type": "markdown",
      "source": [
        "## Contar los 0's y 0's para determinar frecuencias"
      ],
      "metadata": {
        "id": "nuffruSYYZBN"
      }
    },
    {
      "cell_type": "code",
      "source": [
        "huecos, cuantos_ceros, = f_huecos(secuencia)\n",
        "print(\"Número de huecos entre unos consecutivos:\", huecos)\n",
        "print(\"Cuántos y como están la frecuencia de huecos ceros\")\n",
        "print(cuantos_ceros)"
      ],
      "metadata": {
        "colab": {
          "base_uri": "https://localhost:8080/"
        },
        "id": "857LVIkxas7-",
        "outputId": "0dbe7ecb-a4d4-4254-dc93-5f219a8072e3"
      },
      "execution_count": 42,
      "outputs": [
        {
          "output_type": "stream",
          "name": "stdout",
          "text": [
            "Número de huecos entre unos consecutivos: 25\n",
            "Cuántos y como están la frecuencia de huecos ceros\n",
            "[3, 3, 0, 3, 0, 1, 1, 0, 1, 0, 1, 1, 0, 0, 0, 1, 0, 1, 0, 1, 1, 3, 0, 2, 1]\n"
          ]
        }
      ]
    },
    {
      "cell_type": "markdown",
      "source": [
        "## Crear tabla de frecuencias\n",
        "\n",
        "Se crea la tabla de frecuencias con los valores observados y esperados\n",
        "\n",
        "El último registro se refiere a que la frecuencia esperada sea mayr o igual que el valor de $X_i$.\n",
        "\n",
        "$$\n",
        "Ei = h \\cdot (\\beta - \\alpha) \\cdot [1 - (\\beta - \\alpha)]^i\n",
        "$$\n",
        "\n",
        "$$\n",
        "\\chi^{2}_{o} = \\frac{(Ei - Oi)^2}{Ei}\n",
        "$$"
      ],
      "metadata": {
        "id": "EMhR8J9aYmwN"
      }
    },
    {
      "cell_type": "code",
      "source": [
        "tabla, suma_chi_cuad = f_tabla_frec_huecos(cuantos_ceros, li, ls)\n",
        "print(tabla)\n",
        "print (\"Suma de chi_cuadi\", suma_chi_cuad)\n"
      ],
      "metadata": {
        "colab": {
          "base_uri": "https://localhost:8080/"
        },
        "id": "VZEC46llcJf4",
        "outputId": "ffdd6b4d-fe44-46ec-fa39-c90edf5938c3"
      },
      "execution_count": 43,
      "outputs": [
        {
          "output_type": "stream",
          "name": "stdout",
          "text": [
            "Suma de Ei 25.0\n",
            "Suma de Oi 25.0\n",
            "Suma de chi_cuadi 9.56\n",
            "   Xi  Frec_Oi  Frec_Ei  chi_cuad\n",
            "0   0       10  12.5000    0.5000\n",
            "1   1       10   6.2500    2.2500\n",
            "2   2        1   3.1250    1.4450\n",
            "3   3        4   1.5625    3.8025\n",
            "4   4        0   1.5625    1.5625\n",
            "Suma de chi_cuadi 9.56\n"
          ]
        }
      ]
    },
    {
      "cell_type": "markdown",
      "source": [
        "## Constrastar chi cuadrada\n",
        "\n",
        "Contrastar el valor de chi cuadrada calculado contra el valor de chi cuadrada de acuerdo con el valor de significanacia de alfa cola a la derecha de la distribucón chi cuadrada"
      ],
      "metadata": {
        "id": "sQNAkPGilWeR"
      }
    },
    {
      "cell_type": "code",
      "execution_count": 44,
      "metadata": {
        "colab": {
          "base_uri": "https://localhost:8080/"
        },
        "id": "_EfA37FQLnCh",
        "outputId": "9568df14-2378-4353-ecc2-cb7d1ff72204"
      },
      "outputs": [
        {
          "output_type": "stream",
          "name": "stdout",
          "text": [
            "valor_prueba_chi: 9.487729036781154\n",
            "Se rechaza H0 y se acepta Ha. Los datos no son independientes\n"
          ]
        }
      ],
      "source": [
        "\n",
        "# Calcular el etadístico de prueba de chi cuadrada\n",
        "confianza = 0.95\n",
        "alfa_significancia = 1 - confianza\n",
        "\n",
        "gl = intervalos = len(tabla) - 1 # Par ael valor de grados de libertad\n",
        "valor_prueba_chi = chi2.ppf(1 - alfa_significancia, df=gl)\n",
        "print(\"valor_prueba_chi:\", valor_prueba_chi)\n",
        "\n",
        "# Realizar el contraste\n",
        "H0 = \"Los datos son independientes\"\n",
        "Ha = \"Los datos no son independientes\"\n",
        "\n",
        "if suma_chi_cuad < valor_prueba_chi:\n",
        "    decision = f\"Se acepta H0. {H0}\"\n",
        "else:\n",
        "    decision = f\"Se rechaza H0 y se acepta Ha. {Ha}\"\n",
        "\n",
        "print(decision)\n"
      ]
    },
    {
      "cell_type": "markdown",
      "source": [
        "## Otros datos\n"
      ],
      "metadata": {
        "id": "eRxchbRPk5M9"
      }
    },
    {
      "cell_type": "code",
      "source": [
        "datos = np.array([0.5, 0.1, 0.3, 0.2, 0.4, 0.7, 0.6, 0.9, 0.8, 0.6, 0.5])\n",
        "print(datos)\n",
        "\n",
        "\n",
        "# Establece los umbrales, li ls\n",
        "li = 0.3\n",
        "ls = 0.8\n",
        "\n",
        "# Crea la secuencia binaria\n",
        "secuencia = f_secuencia(datos, li, ls )\n",
        "n = len(secuencia)\n",
        "print(n)\n",
        "print(secuencia)\n",
        "\n",
        "# Huecos\n",
        "huecos, cuantos_ceros, = f_huecos(secuencia)\n",
        "print(\"Número de huecos entre unos consecutivos:\", huecos)\n",
        "print(\"Cuántos y como están la frecuencia de huecos ceros\")\n",
        "print(cuantos_ceros)\n",
        "\n",
        "# Tabla\n",
        "tabla, suma_chi_cuad = f_tabla_frec_huecos(cuantos_ceros, li, ls)\n",
        "print(tabla)\n",
        "print (\"Suma de chi_cuadi\", suma_chi_cuad)\n",
        "\n",
        "# Calcular el etadístico de prueba de chi cuadrada\n",
        "confianza = 0.95\n",
        "alfa_significancia = 1 - confianza\n",
        "\n",
        "gl = intervalos = len(tabla) - 1 # Par ael valor de grados de libertad\n",
        "valor_prueba_chi = chi2.ppf(1 - alfa_significancia, df=gl)\n",
        "print(\"valor_prueba_chi:\", valor_prueba_chi)\n",
        "\n",
        "# Realizar el contraste\n",
        "H0 = \"Los datos son independientes\"\n",
        "Ha = \"Los datos no son independientes\"\n",
        "\n",
        "if suma_chi_cuad < valor_prueba_chi:\n",
        "    decision = f\"Se acepta H0. {H0}\"\n",
        "else:\n",
        "    decision = f\"Se rechaza H0 y se acepta Ha. {Ha}\"\n",
        "\n",
        "print(decision)\n"
      ],
      "metadata": {
        "colab": {
          "base_uri": "https://localhost:8080/"
        },
        "id": "XpknId3kk6tz",
        "outputId": "d2d5ac95-e009-4fc5-9076-d5da1c1d732c"
      },
      "execution_count": 45,
      "outputs": [
        {
          "output_type": "stream",
          "name": "stdout",
          "text": [
            "[0.5 0.1 0.3 0.2 0.4 0.7 0.6 0.9 0.8 0.6 0.5]\n",
            "11\n",
            "[1 0 1 0 1 1 1 0 1 1 1]\n",
            "Número de huecos entre unos consecutivos: 7\n",
            "Cuántos y como están la frecuencia de huecos ceros\n",
            "[1, 1, 0, 0, 1, 0, 0]\n",
            "Suma de Ei 7.0\n",
            "Suma de Oi 7.0\n",
            "Suma de chi_cuadi 2.7142857142857144\n",
            "   Xi  Frec_Oi  Frec_Ei  chi_cuad\n",
            "0   0        4     3.50  0.071429\n",
            "1   1        3     1.75  0.892857\n",
            "2   2        0     1.75  1.750000\n",
            "Suma de chi_cuadi 2.7142857142857144\n",
            "valor_prueba_chi: 5.991464547107979\n",
            "Se acepta H0. Los datos son independientes\n"
          ]
        }
      ]
    },
    {
      "cell_type": "markdown",
      "source": [
        "## Visualizando prueba\n"
      ],
      "metadata": {
        "id": "9_7m1n2QoxB3"
      }
    },
    {
      "cell_type": "code",
      "source": [
        "# Visualizar prueba\n",
        "# Pendiente con chi cuadrada"
      ],
      "metadata": {
        "id": "xf39VvYvoy3W"
      },
      "execution_count": 46,
      "outputs": []
    },
    {
      "cell_type": "markdown",
      "source": [
        "# Otros datos dia 03-oct-2023\n",
        "\n",
        "Realizar la prueba de huecos"
      ],
      "metadata": {
        "id": "PwxvxYK6udyf"
      }
    },
    {
      "cell_type": "code",
      "source": [
        "datos = np.array([76, 77, 84, 81, 92, 84, 96, 82, 77, 85,\n",
        "         80, 80, 85, 90, 89, 85, 95, 82, 89, 86,\n",
        "         88, 84, 86, 78, 80, 93, 81, 84, 87, 83,\n",
        "         87, 87, 92, 83, 90, 88, 88, 92, 81, 85,\n",
        "         77, 82, 89, 91, 86, 89, 80, 81, 86, 85,\n",
        "         82, 84, 97, 83, 84, 82, 84, 88, 89, 87,\n",
        "         91, 81, 87, 83, 94, 79, 87, 83, 85, 85,\n",
        "         87, 85, 84, 90, 85, 80, 82, 83, 83, 85,\n",
        "         79, 91, 91, 86, 83, 88, 84, 88, 83, 86,\n",
        "         85, 86, 94, 82, 78, 87, 88, 78, 88, 83])\n",
        "\n",
        "# Los datos deben ser entre 0 y 1\n",
        "datos = datos / 100\n",
        "\n",
        "print(datos)\n",
        "\n",
        "# Establece los umbrales, li ls. Entre 0 y 1\n",
        "li = 82 / 100\n",
        "ls = 86 / 100\n",
        "\n",
        "# Crea la secuencia binaria\n",
        "secuencia = f_secuencia(datos, li, ls )\n",
        "n = len(secuencia)\n",
        "print(n)\n",
        "print(secuencia)\n",
        "\n",
        "# Huecos\n",
        "huecos, cuantos_ceros, = f_huecos(secuencia)\n",
        "print(\"Número de huecos entre unos consecutivos:\", huecos)\n",
        "print(\"Cuántos y como están la frecuencia de huecos ceros\")\n",
        "print(cuantos_ceros)\n",
        "\n",
        "# Tabla\n",
        "tabla, suma_chi_cuad = f_tabla_frec_huecos(cuantos_ceros, li, ls)\n",
        "print(tabla)\n",
        "print (\"Suma de chi_cuadi\", suma_chi_cuad)\n",
        "\n",
        "# Calcular el etadístico de prueba de chi cuadrada\n",
        "confianza = 0.95\n",
        "alfa_significancia = 1 - confianza\n",
        "\n",
        "gl = intervalos = len(tabla) - 1 # Par ael valor de grados de libertad\n",
        "valor_prueba_chi = chi2.ppf(1 - alfa_significancia, df=gl)\n",
        "print(\"valor_prueba_chi:\", valor_prueba_chi)\n",
        "\n",
        "# Realizar el contraste\n",
        "H0 = \"Los datos son independientes\"\n",
        "Ha = \"Los datos no son independientes\"\n",
        "\n",
        "if suma_chi_cuad < valor_prueba_chi:\n",
        "    decision = f\"Se acepta H0. {H0}\"\n",
        "else:\n",
        "    decision = f\"Se rechaza H0 y se acepta Ha. {Ha}\"\n",
        "\n",
        "print(decision)"
      ],
      "metadata": {
        "colab": {
          "base_uri": "https://localhost:8080/"
        },
        "id": "l37ifcLTujK0",
        "outputId": "70180042-2874-4279-cc3a-f7cf8ffa2a05"
      },
      "execution_count": 47,
      "outputs": [
        {
          "output_type": "stream",
          "name": "stdout",
          "text": [
            "[0.76 0.77 0.84 0.81 0.92 0.84 0.96 0.82 0.77 0.85 0.8  0.8  0.85 0.9\n",
            " 0.89 0.85 0.95 0.82 0.89 0.86 0.88 0.84 0.86 0.78 0.8  0.93 0.81 0.84\n",
            " 0.87 0.83 0.87 0.87 0.92 0.83 0.9  0.88 0.88 0.92 0.81 0.85 0.77 0.82\n",
            " 0.89 0.91 0.86 0.89 0.8  0.81 0.86 0.85 0.82 0.84 0.97 0.83 0.84 0.82\n",
            " 0.84 0.88 0.89 0.87 0.91 0.81 0.87 0.83 0.94 0.79 0.87 0.83 0.85 0.85\n",
            " 0.87 0.85 0.84 0.9  0.85 0.8  0.82 0.83 0.83 0.85 0.79 0.91 0.91 0.86\n",
            " 0.83 0.88 0.84 0.88 0.83 0.86 0.85 0.86 0.94 0.82 0.78 0.87 0.88 0.78\n",
            " 0.88 0.83]\n",
            "100\n",
            "[0 0 1 0 0 1 0 1 0 1 0 0 1 0 0 1 0 1 0 1 0 1 1 0 0 0 0 1 0 1 0 0 0 1 0 0 0\n",
            " 0 0 1 0 1 0 0 1 0 0 0 1 1 1 1 0 1 1 1 1 0 0 0 0 0 0 1 0 0 0 1 1 1 0 1 1 0\n",
            " 1 0 1 1 1 1 0 0 0 1 1 0 1 0 1 1 1 1 0 1 0 0 0 0 0 1]\n",
            "Número de huecos entre unos consecutivos: 43\n",
            "Cuántos y como están la frecuencia de huecos ceros\n",
            "[2, 1, 1, 2, 2, 1, 1, 1, 0, 4, 1, 3, 5, 1, 2, 3, 0, 0, 0, 1, 0, 0, 0, 6, 3, 0, 0, 1, 0, 1, 1, 0, 0, 0, 3, 0, 1, 1, 0, 0, 0, 1, 5]\n",
            "Suma de Ei 43.0\n",
            "Suma de Oi 43.0\n",
            "Suma de chi_cuadi 268.6121573802152\n",
            "   Xi  Frec_Oi    Frec_Ei    chi_cuad\n",
            "0   0       17   1.720000  135.743256\n",
            "1   1       14   1.651200   92.352750\n",
            "2   2        4   1.585152    3.678821\n",
            "3   3        4   1.521746    4.035985\n",
            "4   4        1   1.460876    0.145397\n",
            "5   5        2   1.402441    0.254611\n",
            "6   6        1   1.346343    0.089096\n",
            "7   7        0  32.312242   32.312242\n",
            "Suma de chi_cuadi 268.6121573802152\n",
            "valor_prueba_chi: 14.067140449340169\n",
            "Se rechaza H0 y se acepta Ha. Los datos no son independientes\n"
          ]
        }
      ]
    },
    {
      "cell_type": "markdown",
      "source": [
        "# Otros datos edades dia 03-10-2023\n",
        "\n",
        "Edades de personas tal vez no sean datos aleatorios entre 20 y 30 años\n",
        "\n",
        "Estos datos tal vez presentan un patrón...\n",
        "\n",
        "\n",
        "¿Los datos son independientes?\n",
        "Verificar la construcción de las frecuencias\n",
        "\n"
      ],
      "metadata": {
        "id": "foSHYdv1wjmO"
      }
    },
    {
      "cell_type": "code",
      "source": [
        "datos = np.array([22, 24, 26, 28, 30, 21, 22, 23, 24, 25, 22, 24, 26, 28, 30,\n",
        "                  21, 22, 23, 24, 25, 22, 24, 26, 28, 30, 21, 22, 23, 24, 25])\n",
        "\n",
        "datos = datos / 100  # valores entre 0 y 1\n",
        "print(datos)\n",
        "\n",
        "# Establece los umbrales, li ls entre 0 y 1\n",
        "li = 22 / 100\n",
        "ls = 26 / 100\n",
        "\n",
        "# Crea la secuencia binaria\n",
        "secuencia = f_secuencia(datos, li, ls )\n",
        "n = len(secuencia)\n",
        "print(n)\n",
        "print(secuencia)\n",
        "\n",
        "# Huecos\n",
        "huecos, cuantos_ceros, = f_huecos(secuencia)\n",
        "print(\"Número de huecos entre unos :\", huecos)\n",
        "print(\"Cuántos y como están la frecuencia de huecos ceros\")\n",
        "print(cuantos_ceros)\n",
        "\n",
        "# Tabla\n",
        "tabla, suma_chi_cuad = f_tabla_frec_huecos(cuantos_ceros, li, ls)\n",
        "print(tabla)\n",
        "print (\"Suma de chi_cuadi\", suma_chi_cuad)\n",
        "\n",
        "# Calcular el estadístico de prueba de chi cuadrada\n",
        "confianza = 0.95\n",
        "alfa_significancia = 1 - confianza\n",
        "\n",
        "gl = intervalos = len(tabla) - 1 # Par ael valor de grados de libertad\n",
        "valor_prueba_chi = chi2.ppf(1 - alfa_significancia, df=gl)\n",
        "print(\"valor_prueba_chi:\", valor_prueba_chi)\n",
        "\n",
        "# Realizar el contraste\n",
        "H0 = \"Los datos son independientes\"\n",
        "Ha = \"Los datos no son independientes\"\n",
        "\n",
        "if suma_chi_cuad < valor_prueba_chi:\n",
        "    decision = f\"Se acepta H0. {H0}\"\n",
        "else:\n",
        "    decision = f\"Se rechaza H0 y se acepta Ha. {Ha}\"\n",
        "\n",
        "print(decision)"
      ],
      "metadata": {
        "colab": {
          "base_uri": "https://localhost:8080/"
        },
        "id": "p0EsqgCDwuCs",
        "outputId": "34491a77-5821-43cb-f8ae-95634ffb255c"
      },
      "execution_count": 48,
      "outputs": [
        {
          "output_type": "stream",
          "name": "stdout",
          "text": [
            "[0.22 0.24 0.26 0.28 0.3  0.21 0.22 0.23 0.24 0.25 0.22 0.24 0.26 0.28\n",
            " 0.3  0.21 0.22 0.23 0.24 0.25 0.22 0.24 0.26 0.28 0.3  0.21 0.22 0.23\n",
            " 0.24 0.25]\n",
            "30\n",
            "[1 1 1 0 0 0 1 1 1 1 1 1 1 0 0 0 1 1 1 1 1 1 1 0 0 0 1 1 1 1]\n",
            "Número de huecos entre unos : 20\n",
            "Cuántos y como están la frecuencia de huecos ceros\n",
            "[0, 0, 3, 0, 0, 0, 0, 0, 0, 3, 0, 0, 0, 0, 0, 0, 3, 0, 0, 0]\n",
            "Suma de Ei 19.999999999999996\n",
            "Suma de Oi 19.999999999999996\n",
            "Suma de chi_cuadi 353.96565755208326\n",
            "   Xi  Frec_Oi    Frec_Ei    chi_cuad\n",
            "0   0       17   0.800000  328.050000\n",
            "1   1        0   0.768000    0.768000\n",
            "2   2        0   0.737280    0.737280\n",
            "3   3        3   0.707789    7.423446\n",
            "4   4        0  16.986931   16.986931\n",
            "Suma de chi_cuadi 353.96565755208326\n",
            "valor_prueba_chi: 9.487729036781154\n",
            "Se rechaza H0 y se acepta Ha. Los datos no son independientes\n"
          ]
        }
      ]
    },
    {
      "cell_type": "markdown",
      "source": [
        "## Ejercicio para examen\n",
        "\n",
        "El peso de cierto producto\n",
        "\n",
        "Históricamente los pesos de cierto producto deben andar entre 400 y 800 miligramos (0.400 a 0.800 kgs), los datos tienen ese patrón que varía en ese peso de manera uniforme.\n",
        "\n",
        "Embarque A: Se presume que este emarque si tiene ese patrón de comportamiento, uniforme y homogéneo.\n",
        "\n",
        "Embarque B: Se presume que este embarque no tienen ese patrón de comportamiento, sus pesos fueron afectados por alguna causa.\n",
        "\n",
        "$$\n",
        "H_0:  \\text{Los datos SI son independientes}\n",
        "$$\n",
        "\n",
        "$$\n",
        "H_a:  \\text{Los datos NO son independientes}\n",
        "$$\n",
        "\n",
        "Aquí la independencia de los datos se contextualiza que existen eventos aislados que afecan a la uniformidad de los datos.\n",
        "\n",
        "\n",
        "\n"
      ],
      "metadata": {
        "id": "mfWCvBmUWorA"
      }
    },
    {
      "cell_type": "markdown",
      "source": [
        "## Embarque A:\n",
        "\n",
        "0.735, 0.638, 0.739, 0.478, 0.799, 0.453, 0.674, 0.697, 0.501, 0.727, 0.509, 0.620, 0.645, 0.554, 0.421, 0.685, 0.500, 0.460, 0.680, 0.713, 0.632, 0.778, 0.431, 0.479, 0.742, 0.519, 0.489, 0.482, 0.540, 0.673, 0.481, 0.759, 0.424, 0.664, 0.794, 0.572, 0.599, 0.715, 0.455, 0.566, 0.534, 0.565, 0.756, 0.449, 0.796, 0.635, 0.435, 0.787, 0.455, 0.617"
      ],
      "metadata": {
        "id": "r8P9n9B2XdtF"
      }
    },
    {
      "cell_type": "code",
      "source": [
        "datos = np.array([0.735, 0.638, 0.739, 0.478, 0.799, 0.453, 0.674, 0.697, 0.501, 0.727,\n",
        "                  0.509, 0.620, 0.645, 0.554, 0.421, 0.685, 0.500, 0.460, 0.680, 0.713,\n",
        "                  0.632, 0.778, 0.431, 0.479, 0.742, 0.519, 0.489, 0.482, 0.540, 0.673,\n",
        "                  0.481, 0.759, 0.424, 0.664, 0.794, 0.572, 0.599, 0.715, 0.455, 0.566,\n",
        "                  0.534, 0.565, 0.756, 0.449, 0.796, 0.635, 0.435, 0.787, 0.455, 0.617])\n",
        "\n",
        "datos\n",
        "\n",
        "# Establece los umbrales, li ls entre 0 y 1\n",
        "li = 0.400\n",
        "ls = 0.800\n",
        "\n",
        "# Crea la secuencia binaria\n",
        "secuencia = f_secuencia(datos, li, ls )\n",
        "n = len(secuencia)\n",
        "print(n)\n",
        "print(secuencia)\n",
        "\n",
        "# Huecos\n",
        "huecos, cuantos_ceros, = f_huecos(secuencia)\n",
        "print(\"Número de huecos entre unos :\", huecos)\n",
        "print(\"Cuántos y como están la frecuencia de huecos ceros\")\n",
        "print(cuantos_ceros)\n",
        "\n",
        "# Tabla\n",
        "tabla, suma_chi_cuad = f_tabla_frec_huecos(cuantos_ceros, li, ls)\n",
        "print(tabla)\n",
        "print (\"Suma de chi_cuadi\", suma_chi_cuad)\n",
        "\n",
        "# Calcular el estadístico de prueba de chi cuadrada\n",
        "confianza = 0.95\n",
        "alfa_significancia = 1 - confianza\n",
        "\n",
        "gl = intervalos = len(tabla) - 1 # Par ael valor de grados de libertad\n",
        "valor_prueba_chi = chi2.ppf(1 - alfa_significancia, df=gl)\n",
        "print(\"valor_prueba_chi:\", valor_prueba_chi)\n",
        "\n",
        "# Realizar el contraste\n",
        "H0 = \"Los datos son independientes\"\n",
        "Ha = \"Los datos no son independientes\"\n",
        "\n",
        "if suma_chi_cuad < valor_prueba_chi:\n",
        "    decision = f\"Se acepta H0. {H0}\"\n",
        "else:\n",
        "    decision = f\"Se rechaza H0 y se acepta Ha. {Ha}\"\n",
        "\n",
        "print(decision)"
      ],
      "metadata": {
        "colab": {
          "base_uri": "https://localhost:8080/"
        },
        "id": "hsLiksnbWr3z",
        "outputId": "9058f925-4014-453c-e8f1-dac0649c878e"
      },
      "execution_count": 49,
      "outputs": [
        {
          "output_type": "stream",
          "name": "stdout",
          "text": [
            "50\n",
            "[1 1 1 1 1 1 1 1 1 1 1 1 1 1 1 1 1 1 1 1 1 1 1 1 1 1 1 1 1 1 1 1 1 1 1 1 1\n",
            " 1 1 1 1 1 1 1 1 1 1 1 1 1]\n",
            "Número de huecos entre unos : 49\n",
            "Cuántos y como están la frecuencia de huecos ceros\n",
            "[0, 0, 0, 0, 0, 0, 0, 0, 0, 0, 0, 0, 0, 0, 0, 0, 0, 0, 0, 0, 0, 0, 0, 0, 0, 0, 0, 0, 0, 0, 0, 0, 0, 0, 0, 0, 0, 0, 0, 0, 0, 0, 0, 0, 0, 0, 0, 0, 0]\n",
            "Suma de Ei 49.0\n",
            "Suma de Oi 49.0\n",
            "Suma de chi_cuadi 73.5\n",
            "   Xi  Frec_Oi  Frec_Ei  chi_cuad\n",
            "0   0       49     19.6      44.1\n",
            "1   1        0     29.4      29.4\n",
            "Suma de chi_cuadi 73.5\n",
            "valor_prueba_chi: 3.841458820694124\n",
            "Se rechaza H0 y se acepta Ha. Los datos no son independientes\n"
          ]
        }
      ]
    },
    {
      "cell_type": "markdown",
      "source": [
        "¡Efectivamente!, son uniformes entre un peso menor y mayor (0.400 y 0.800 kgs)."
      ],
      "metadata": {
        "id": "-fkKVe1gcp2d"
      }
    },
    {
      "cell_type": "markdown",
      "source": [
        "## Embarque B:\n",
        "\n",
        "0.715, 0.770, 0.791, 0.930, 0.833, 0.754, 0.750, 0.753, 0.840, 0.616, 0.590, 0.585, 0.783, 0.983, 0.894, 0.489, 0.396, 0.935, 0.550, 0.863, 0.816, 0.749, 0.440, 0.820, 0.937, 0.582, 0.871, 0.817, 0.763, 0.628, 0.819, 0.146, 0.926, 0.635, 0.799, 0.782, 0.741, 0.118, 0.712, 0.476, 0.627, 0.721, 0.588, 0.761, 0.435, 0.576, 1.039, 0.984, 0.688, 0.901"
      ],
      "metadata": {
        "id": "ZVNsatkTXfyM"
      }
    },
    {
      "cell_type": "code",
      "source": [
        "datos = np.array([0.275, 0.277, 0.016, 0.455, 0.489, 0.735, 0.085, 0.159, 0.553, 0.857,\n",
        "                  0.819, 0.436, 0.494, 0.450, 0.450, 0.873, 0.910, 0.577, 0.232, 0.768,\n",
        "                  0.106, 0.967, 0.426, 0.607, 0.766, 0.623, 0.228, 0.346, 0.781, 0.027,\n",
        "                  0.260, 0.345, 0.681, 0.433, 0.748, 0.986, 0.723, 0.837, 0.903, 0.306,\n",
        "                  0.436, 0.601, 0.523, 0.028, 0.503, 0.024, 0.071, 0.748, 0.836, 0.281])\n",
        "\n",
        "\n",
        "datos\n",
        "\n",
        "# Establece los umbrales, li ls entre 0 y 1\n",
        "li = 0.400\n",
        "ls = 0.800\n",
        "\n",
        "# Crea la secuencia binaria\n",
        "secuencia = f_secuencia(datos, li, ls )\n",
        "n = len(secuencia)\n",
        "print(n)\n",
        "print(secuencia)\n",
        "\n",
        "# Huecos\n",
        "huecos, cuantos_ceros, = f_huecos(secuencia)\n",
        "print(\"Número de huecos entre unos :\", huecos)\n",
        "print(\"Cuántos y como están la frecuencia de huecos ceros\")\n",
        "print(cuantos_ceros)\n",
        "\n",
        "# Tabla\n",
        "tabla, suma_chi_cuad = f_tabla_frec_huecos(cuantos_ceros, li, ls)\n",
        "print(tabla)\n",
        "print (\"Suma de chi_cuadi\", suma_chi_cuad)\n",
        "\n",
        "# Calcular el estadístico de prueba de chi cuadrada\n",
        "confianza = 0.95\n",
        "alfa_significancia = 1 - confianza\n",
        "\n",
        "gl = intervalos = len(tabla) - 1 # Par ael valor de grados de libertad\n",
        "valor_prueba_chi = chi2.ppf(1 - alfa_significancia, df=gl)\n",
        "print(\"valor_prueba_chi:\", valor_prueba_chi)\n",
        "\n",
        "# Realizar el contraste\n",
        "H0 = \"Los datos son independientes\"\n",
        "Ha = \"Los datos no son independientes\"\n",
        "\n",
        "if suma_chi_cuad < valor_prueba_chi:\n",
        "    decision = f\"Se acepta H0. {H0}\"\n",
        "else:\n",
        "    decision = f\"Se rechaza H0 y se acepta Ha. {Ha}\"\n",
        "\n",
        "print(decision)"
      ],
      "metadata": {
        "colab": {
          "base_uri": "https://localhost:8080/"
        },
        "id": "QUIsjgN8YYAw",
        "outputId": "a6ae2471-a83d-4300-8efa-dcd16df8e39d"
      },
      "execution_count": 50,
      "outputs": [
        {
          "output_type": "stream",
          "name": "stdout",
          "text": [
            "50\n",
            "[0 0 0 1 1 1 0 0 1 0 0 1 1 1 1 0 0 1 0 1 0 0 1 1 1 1 0 0 1 0 0 0 1 1 1 0 1\n",
            " 0 0 0 1 1 1 0 1 0 0 1 0 0]\n",
            "Número de huecos entre unos : 24\n",
            "Cuántos y como están la frecuencia de huecos ceros\n",
            "[0, 0, 2, 2, 0, 0, 0, 2, 1, 2, 0, 0, 0, 2, 3, 0, 0, 1, 3, 0, 0, 1, 2, 2]\n",
            "Suma de Ei 24.0\n",
            "Suma de Oi 24.0\n",
            "Suma de chi_cuadi 8.669753086419751\n",
            "   Xi  Frec_Oi  Frec_Ei  chi_cuad\n",
            "0   0       12   9.6000  0.600000\n",
            "1   1        3   5.7600  1.322500\n",
            "2   2        7   3.4560  3.634241\n",
            "3   3        2   2.0736  0.002612\n",
            "4   4        0   3.1104  3.110400\n",
            "Suma de chi_cuadi 8.669753086419751\n",
            "valor_prueba_chi: 9.487729036781154\n",
            "Se acepta H0. Los datos son independientes\n"
          ]
        }
      ]
    },
    {
      "cell_type": "markdown",
      "source": [
        "¡Efectivamente!, son muy aleatorios con pesos que no están en un patrón de entre un peso menor y mayor (0.400 y 0.800 kgs)."
      ],
      "metadata": {
        "id": "TomDOXXSfFeb"
      }
    },
    {
      "cell_type": "markdown",
      "source": [
        "# Interpretación\n",
        "\n",
        "La prueba estadística de huecos sirve para evaluar la aleatoriedad de los datos.\n",
        "\n",
        "Para hacer la prueba de huecos se debe asegurar que los datos estén entre $0$ y $1$ y que el rango que define valores $\\alpha$ y $\\beta$ que se establezca también este entre $0$ y $1$. El rango lo define el analista investigador dependiendo de contexto y del análisis específico.\n",
        "\n",
        "Se debe definir el nivel de confianza normalmente a un $95\\%$ (pero puede ser otro valor) que establece un valor de alfa de $\\alpha = 0.05$.\n",
        "\n",
        "Se define la hipótesis nula mediante la afirmación $H_0:$ Los datos si son independientes y la $H_a:$los datos no son independientes.\n",
        "\n",
        "En el método de prueba estadística de independencia si es menor el valor de la suma chi cuadrada calculada contra el valor de prueba chi se acepta $H_0$ de lo contrario se rechaza $H_0$**.\n",
        "\n",
        "De acuerdo al contraste se toma la decisión de aceptar la $H_0$ de si los datos son independientes o de rechaza y concluir que los datos no son independientes.\n",
        "\n",
        "El significado de que los datos sean independientes es que no presentan algún patrón entre ellos y provienen de fuentes aleatorias; por el contrario, si no son independientes entonces significa que existe algún patrón o asociación en los datos.\n",
        "\n",
        "Finalmente, los resultados de la prueba e huecos puede depender del tamaño de la muestra y de la definición del rango de huecos.\n",
        "\n",
        "La prueba de huecos se utiliza para evaluar la aleatoriedad e independencia de datos y detectar patrones no aleatorios.\n",
        "\n",
        "\n",
        "\n",
        "\n",
        "\n",
        "\n",
        "\n",
        "\n"
      ],
      "metadata": {
        "id": "63VVT72Do7zp"
      }
    }
  ]
}